{
 "cells": [
  {
   "cell_type": "markdown",
   "id": "6c49631a-790a-495e-98ac-ee5e0c584f76",
   "metadata": {},
   "source": [
    "# SMAI ASSIGNMENT 3\n",
    "### Srujana Vanka - 2020102005"
   ]
  },
  {
   "cell_type": "markdown",
   "id": "b9cbed9b-1215-44bc-aa30-e2aa6c04129d",
   "metadata": {},
   "source": [
    "# 1 Multinomial Logistic Regression"
   ]
  },
  {
   "cell_type": "markdown",
   "id": "4cbe44cd-0b76-4700-b629-c354f808dba2",
   "metadata": {},
   "source": [
    "## 1.1 Dataset Analysis and Preprocessing "
   ]
  },
  {
   "cell_type": "code",
   "execution_count": 1,
   "id": "16a3f824-3ece-4e02-a089-a4e0126d4a0b",
   "metadata": {},
   "outputs": [],
   "source": [
    "import numpy as np # linear algebra\n",
    "import pandas as pd # data processing CSV file \n",
    "import os\n",
    "import sys\n",
    "import matplotlib.pyplot as plt"
   ]
  },
  {
   "cell_type": "code",
   "execution_count": 2,
   "id": "bb7be3dd-b324-42b6-8551-1e88a88d1f8f",
   "metadata": {},
   "outputs": [
    {
     "data": {
      "text/html": [
       "<div>\n",
       "<style scoped>\n",
       "    .dataframe tbody tr th:only-of-type {\n",
       "        vertical-align: middle;\n",
       "    }\n",
       "\n",
       "    .dataframe tbody tr th {\n",
       "        vertical-align: top;\n",
       "    }\n",
       "\n",
       "    .dataframe thead th {\n",
       "        text-align: right;\n",
       "    }\n",
       "</style>\n",
       "<table border=\"1\" class=\"dataframe\">\n",
       "  <thead>\n",
       "    <tr style=\"text-align: right;\">\n",
       "      <th></th>\n",
       "      <th>fixed acidity</th>\n",
       "      <th>volatile acidity</th>\n",
       "      <th>citric acid</th>\n",
       "      <th>residual sugar</th>\n",
       "      <th>chlorides</th>\n",
       "      <th>free sulfur dioxide</th>\n",
       "      <th>total sulfur dioxide</th>\n",
       "      <th>density</th>\n",
       "      <th>pH</th>\n",
       "      <th>sulphates</th>\n",
       "      <th>alcohol</th>\n",
       "      <th>quality</th>\n",
       "      <th>Id</th>\n",
       "    </tr>\n",
       "  </thead>\n",
       "  <tbody>\n",
       "    <tr>\n",
       "      <th>0</th>\n",
       "      <td>7.4</td>\n",
       "      <td>0.70</td>\n",
       "      <td>0.00</td>\n",
       "      <td>1.9</td>\n",
       "      <td>0.076</td>\n",
       "      <td>11.0</td>\n",
       "      <td>34.0</td>\n",
       "      <td>0.9978</td>\n",
       "      <td>3.51</td>\n",
       "      <td>0.56</td>\n",
       "      <td>9.4</td>\n",
       "      <td>5</td>\n",
       "      <td>0</td>\n",
       "    </tr>\n",
       "    <tr>\n",
       "      <th>1</th>\n",
       "      <td>7.8</td>\n",
       "      <td>0.88</td>\n",
       "      <td>0.00</td>\n",
       "      <td>2.6</td>\n",
       "      <td>0.098</td>\n",
       "      <td>25.0</td>\n",
       "      <td>67.0</td>\n",
       "      <td>0.9968</td>\n",
       "      <td>3.20</td>\n",
       "      <td>0.68</td>\n",
       "      <td>9.8</td>\n",
       "      <td>5</td>\n",
       "      <td>1</td>\n",
       "    </tr>\n",
       "    <tr>\n",
       "      <th>2</th>\n",
       "      <td>7.8</td>\n",
       "      <td>0.76</td>\n",
       "      <td>0.04</td>\n",
       "      <td>2.3</td>\n",
       "      <td>0.092</td>\n",
       "      <td>15.0</td>\n",
       "      <td>54.0</td>\n",
       "      <td>0.9970</td>\n",
       "      <td>3.26</td>\n",
       "      <td>0.65</td>\n",
       "      <td>9.8</td>\n",
       "      <td>5</td>\n",
       "      <td>2</td>\n",
       "    </tr>\n",
       "    <tr>\n",
       "      <th>3</th>\n",
       "      <td>11.2</td>\n",
       "      <td>0.28</td>\n",
       "      <td>0.56</td>\n",
       "      <td>1.9</td>\n",
       "      <td>0.075</td>\n",
       "      <td>17.0</td>\n",
       "      <td>60.0</td>\n",
       "      <td>0.9980</td>\n",
       "      <td>3.16</td>\n",
       "      <td>0.58</td>\n",
       "      <td>9.8</td>\n",
       "      <td>6</td>\n",
       "      <td>3</td>\n",
       "    </tr>\n",
       "    <tr>\n",
       "      <th>4</th>\n",
       "      <td>7.4</td>\n",
       "      <td>0.70</td>\n",
       "      <td>0.00</td>\n",
       "      <td>1.9</td>\n",
       "      <td>0.076</td>\n",
       "      <td>11.0</td>\n",
       "      <td>34.0</td>\n",
       "      <td>0.9978</td>\n",
       "      <td>3.51</td>\n",
       "      <td>0.56</td>\n",
       "      <td>9.4</td>\n",
       "      <td>5</td>\n",
       "      <td>4</td>\n",
       "    </tr>\n",
       "    <tr>\n",
       "      <th>5</th>\n",
       "      <td>7.4</td>\n",
       "      <td>0.66</td>\n",
       "      <td>0.00</td>\n",
       "      <td>1.8</td>\n",
       "      <td>0.075</td>\n",
       "      <td>13.0</td>\n",
       "      <td>40.0</td>\n",
       "      <td>0.9978</td>\n",
       "      <td>3.51</td>\n",
       "      <td>0.56</td>\n",
       "      <td>9.4</td>\n",
       "      <td>5</td>\n",
       "      <td>5</td>\n",
       "    </tr>\n",
       "    <tr>\n",
       "      <th>6</th>\n",
       "      <td>7.9</td>\n",
       "      <td>0.60</td>\n",
       "      <td>0.06</td>\n",
       "      <td>1.6</td>\n",
       "      <td>0.069</td>\n",
       "      <td>15.0</td>\n",
       "      <td>59.0</td>\n",
       "      <td>0.9964</td>\n",
       "      <td>3.30</td>\n",
       "      <td>0.46</td>\n",
       "      <td>9.4</td>\n",
       "      <td>5</td>\n",
       "      <td>6</td>\n",
       "    </tr>\n",
       "    <tr>\n",
       "      <th>7</th>\n",
       "      <td>7.3</td>\n",
       "      <td>0.65</td>\n",
       "      <td>0.00</td>\n",
       "      <td>1.2</td>\n",
       "      <td>0.065</td>\n",
       "      <td>15.0</td>\n",
       "      <td>21.0</td>\n",
       "      <td>0.9946</td>\n",
       "      <td>3.39</td>\n",
       "      <td>0.47</td>\n",
       "      <td>10.0</td>\n",
       "      <td>7</td>\n",
       "      <td>7</td>\n",
       "    </tr>\n",
       "    <tr>\n",
       "      <th>8</th>\n",
       "      <td>7.8</td>\n",
       "      <td>0.58</td>\n",
       "      <td>0.02</td>\n",
       "      <td>2.0</td>\n",
       "      <td>0.073</td>\n",
       "      <td>9.0</td>\n",
       "      <td>18.0</td>\n",
       "      <td>0.9968</td>\n",
       "      <td>3.36</td>\n",
       "      <td>0.57</td>\n",
       "      <td>9.5</td>\n",
       "      <td>7</td>\n",
       "      <td>8</td>\n",
       "    </tr>\n",
       "    <tr>\n",
       "      <th>9</th>\n",
       "      <td>6.7</td>\n",
       "      <td>0.58</td>\n",
       "      <td>0.08</td>\n",
       "      <td>1.8</td>\n",
       "      <td>0.097</td>\n",
       "      <td>15.0</td>\n",
       "      <td>65.0</td>\n",
       "      <td>0.9959</td>\n",
       "      <td>3.28</td>\n",
       "      <td>0.54</td>\n",
       "      <td>9.2</td>\n",
       "      <td>5</td>\n",
       "      <td>10</td>\n",
       "    </tr>\n",
       "  </tbody>\n",
       "</table>\n",
       "</div>"
      ],
      "text/plain": [
       "   fixed acidity  volatile acidity  citric acid  residual sugar  chlorides  \\\n",
       "0            7.4              0.70         0.00             1.9      0.076   \n",
       "1            7.8              0.88         0.00             2.6      0.098   \n",
       "2            7.8              0.76         0.04             2.3      0.092   \n",
       "3           11.2              0.28         0.56             1.9      0.075   \n",
       "4            7.4              0.70         0.00             1.9      0.076   \n",
       "5            7.4              0.66         0.00             1.8      0.075   \n",
       "6            7.9              0.60         0.06             1.6      0.069   \n",
       "7            7.3              0.65         0.00             1.2      0.065   \n",
       "8            7.8              0.58         0.02             2.0      0.073   \n",
       "9            6.7              0.58         0.08             1.8      0.097   \n",
       "\n",
       "   free sulfur dioxide  total sulfur dioxide  density    pH  sulphates  \\\n",
       "0                 11.0                  34.0   0.9978  3.51       0.56   \n",
       "1                 25.0                  67.0   0.9968  3.20       0.68   \n",
       "2                 15.0                  54.0   0.9970  3.26       0.65   \n",
       "3                 17.0                  60.0   0.9980  3.16       0.58   \n",
       "4                 11.0                  34.0   0.9978  3.51       0.56   \n",
       "5                 13.0                  40.0   0.9978  3.51       0.56   \n",
       "6                 15.0                  59.0   0.9964  3.30       0.46   \n",
       "7                 15.0                  21.0   0.9946  3.39       0.47   \n",
       "8                  9.0                  18.0   0.9968  3.36       0.57   \n",
       "9                 15.0                  65.0   0.9959  3.28       0.54   \n",
       "\n",
       "   alcohol  quality  Id  \n",
       "0      9.4        5   0  \n",
       "1      9.8        5   1  \n",
       "2      9.8        5   2  \n",
       "3      9.8        6   3  \n",
       "4      9.4        5   4  \n",
       "5      9.4        5   5  \n",
       "6      9.4        5   6  \n",
       "7     10.0        7   7  \n",
       "8      9.5        7   8  \n",
       "9      9.2        5  10  "
      ]
     },
     "execution_count": 2,
     "metadata": {},
     "output_type": "execute_result"
    }
   ],
   "source": [
    "wine_data = pd.read_csv('/home/sruj/Downloads/WineQT.csv')\n",
    "wine_data.head(10)"
   ]
  },
  {
   "cell_type": "code",
   "execution_count": 44,
   "id": "8722172b-e476-42a6-9fbd-0851ac2d3030",
   "metadata": {},
   "outputs": [
    {
     "data": {
      "text/plain": [
       "fixed acidity           float64\n",
       "volatile acidity        float64\n",
       "citric acid             float64\n",
       "residual sugar          float64\n",
       "chlorides               float64\n",
       "free sulfur dioxide     float64\n",
       "total sulfur dioxide    float64\n",
       "density                 float64\n",
       "pH                      float64\n",
       "sulphates               float64\n",
       "alcohol                 float64\n",
       "quality                   int64\n",
       "Id                        int64\n",
       "dtype: object"
      ]
     },
     "execution_count": 44,
     "metadata": {},
     "output_type": "execute_result"
    }
   ],
   "source": [
    "wine_data.dtypes"
   ]
  },
  {
   "cell_type": "markdown",
   "id": "a7f07389-b9c5-4647-b45b-20f8d008c6d4",
   "metadata": {},
   "source": [
    "### 1. Describe the dataset using mean, standard deviation, min, and max values for all attributes."
   ]
  },
  {
   "cell_type": "code",
   "execution_count": 45,
   "id": "1aeb0935-4249-4020-a81a-ae75fe661fed",
   "metadata": {},
   "outputs": [
    {
     "data": {
      "text/html": [
       "<div>\n",
       "<style scoped>\n",
       "    .dataframe tbody tr th:only-of-type {\n",
       "        vertical-align: middle;\n",
       "    }\n",
       "\n",
       "    .dataframe tbody tr th {\n",
       "        vertical-align: top;\n",
       "    }\n",
       "\n",
       "    .dataframe thead th {\n",
       "        text-align: right;\n",
       "    }\n",
       "</style>\n",
       "<table border=\"1\" class=\"dataframe\">\n",
       "  <thead>\n",
       "    <tr style=\"text-align: right;\">\n",
       "      <th></th>\n",
       "      <th>fixed acidity</th>\n",
       "      <th>volatile acidity</th>\n",
       "      <th>citric acid</th>\n",
       "      <th>residual sugar</th>\n",
       "      <th>chlorides</th>\n",
       "      <th>free sulfur dioxide</th>\n",
       "      <th>total sulfur dioxide</th>\n",
       "      <th>density</th>\n",
       "      <th>pH</th>\n",
       "      <th>sulphates</th>\n",
       "      <th>alcohol</th>\n",
       "      <th>quality</th>\n",
       "      <th>Id</th>\n",
       "    </tr>\n",
       "  </thead>\n",
       "  <tbody>\n",
       "    <tr>\n",
       "      <th>count</th>\n",
       "      <td>1143.000000</td>\n",
       "      <td>1143.000000</td>\n",
       "      <td>1143.000000</td>\n",
       "      <td>1143.000000</td>\n",
       "      <td>1143.000000</td>\n",
       "      <td>1143.000000</td>\n",
       "      <td>1143.000000</td>\n",
       "      <td>1143.000000</td>\n",
       "      <td>1143.000000</td>\n",
       "      <td>1143.000000</td>\n",
       "      <td>1143.000000</td>\n",
       "      <td>1143.000000</td>\n",
       "      <td>1143.000000</td>\n",
       "    </tr>\n",
       "    <tr>\n",
       "      <th>mean</th>\n",
       "      <td>8.311111</td>\n",
       "      <td>0.531339</td>\n",
       "      <td>0.268364</td>\n",
       "      <td>2.532152</td>\n",
       "      <td>0.086933</td>\n",
       "      <td>15.615486</td>\n",
       "      <td>45.914698</td>\n",
       "      <td>0.996730</td>\n",
       "      <td>3.311015</td>\n",
       "      <td>0.657708</td>\n",
       "      <td>10.442111</td>\n",
       "      <td>5.657043</td>\n",
       "      <td>804.969379</td>\n",
       "    </tr>\n",
       "    <tr>\n",
       "      <th>std</th>\n",
       "      <td>1.747595</td>\n",
       "      <td>0.179633</td>\n",
       "      <td>0.196686</td>\n",
       "      <td>1.355917</td>\n",
       "      <td>0.047267</td>\n",
       "      <td>10.250486</td>\n",
       "      <td>32.782130</td>\n",
       "      <td>0.001925</td>\n",
       "      <td>0.156664</td>\n",
       "      <td>0.170399</td>\n",
       "      <td>1.082196</td>\n",
       "      <td>0.805824</td>\n",
       "      <td>463.997116</td>\n",
       "    </tr>\n",
       "    <tr>\n",
       "      <th>min</th>\n",
       "      <td>4.600000</td>\n",
       "      <td>0.120000</td>\n",
       "      <td>0.000000</td>\n",
       "      <td>0.900000</td>\n",
       "      <td>0.012000</td>\n",
       "      <td>1.000000</td>\n",
       "      <td>6.000000</td>\n",
       "      <td>0.990070</td>\n",
       "      <td>2.740000</td>\n",
       "      <td>0.330000</td>\n",
       "      <td>8.400000</td>\n",
       "      <td>3.000000</td>\n",
       "      <td>0.000000</td>\n",
       "    </tr>\n",
       "    <tr>\n",
       "      <th>25%</th>\n",
       "      <td>7.100000</td>\n",
       "      <td>0.392500</td>\n",
       "      <td>0.090000</td>\n",
       "      <td>1.900000</td>\n",
       "      <td>0.070000</td>\n",
       "      <td>7.000000</td>\n",
       "      <td>21.000000</td>\n",
       "      <td>0.995570</td>\n",
       "      <td>3.205000</td>\n",
       "      <td>0.550000</td>\n",
       "      <td>9.500000</td>\n",
       "      <td>5.000000</td>\n",
       "      <td>411.000000</td>\n",
       "    </tr>\n",
       "    <tr>\n",
       "      <th>50%</th>\n",
       "      <td>7.900000</td>\n",
       "      <td>0.520000</td>\n",
       "      <td>0.250000</td>\n",
       "      <td>2.200000</td>\n",
       "      <td>0.079000</td>\n",
       "      <td>13.000000</td>\n",
       "      <td>37.000000</td>\n",
       "      <td>0.996680</td>\n",
       "      <td>3.310000</td>\n",
       "      <td>0.620000</td>\n",
       "      <td>10.200000</td>\n",
       "      <td>6.000000</td>\n",
       "      <td>794.000000</td>\n",
       "    </tr>\n",
       "    <tr>\n",
       "      <th>75%</th>\n",
       "      <td>9.100000</td>\n",
       "      <td>0.640000</td>\n",
       "      <td>0.420000</td>\n",
       "      <td>2.600000</td>\n",
       "      <td>0.090000</td>\n",
       "      <td>21.000000</td>\n",
       "      <td>61.000000</td>\n",
       "      <td>0.997845</td>\n",
       "      <td>3.400000</td>\n",
       "      <td>0.730000</td>\n",
       "      <td>11.100000</td>\n",
       "      <td>6.000000</td>\n",
       "      <td>1209.500000</td>\n",
       "    </tr>\n",
       "    <tr>\n",
       "      <th>max</th>\n",
       "      <td>15.900000</td>\n",
       "      <td>1.580000</td>\n",
       "      <td>1.000000</td>\n",
       "      <td>15.500000</td>\n",
       "      <td>0.611000</td>\n",
       "      <td>68.000000</td>\n",
       "      <td>289.000000</td>\n",
       "      <td>1.003690</td>\n",
       "      <td>4.010000</td>\n",
       "      <td>2.000000</td>\n",
       "      <td>14.900000</td>\n",
       "      <td>8.000000</td>\n",
       "      <td>1597.000000</td>\n",
       "    </tr>\n",
       "  </tbody>\n",
       "</table>\n",
       "</div>"
      ],
      "text/plain": [
       "       fixed acidity  volatile acidity  citric acid  residual sugar  \\\n",
       "count    1143.000000       1143.000000  1143.000000     1143.000000   \n",
       "mean        8.311111          0.531339     0.268364        2.532152   \n",
       "std         1.747595          0.179633     0.196686        1.355917   \n",
       "min         4.600000          0.120000     0.000000        0.900000   \n",
       "25%         7.100000          0.392500     0.090000        1.900000   \n",
       "50%         7.900000          0.520000     0.250000        2.200000   \n",
       "75%         9.100000          0.640000     0.420000        2.600000   \n",
       "max        15.900000          1.580000     1.000000       15.500000   \n",
       "\n",
       "         chlorides  free sulfur dioxide  total sulfur dioxide      density  \\\n",
       "count  1143.000000          1143.000000           1143.000000  1143.000000   \n",
       "mean      0.086933            15.615486             45.914698     0.996730   \n",
       "std       0.047267            10.250486             32.782130     0.001925   \n",
       "min       0.012000             1.000000              6.000000     0.990070   \n",
       "25%       0.070000             7.000000             21.000000     0.995570   \n",
       "50%       0.079000            13.000000             37.000000     0.996680   \n",
       "75%       0.090000            21.000000             61.000000     0.997845   \n",
       "max       0.611000            68.000000            289.000000     1.003690   \n",
       "\n",
       "                pH    sulphates      alcohol      quality           Id  \n",
       "count  1143.000000  1143.000000  1143.000000  1143.000000  1143.000000  \n",
       "mean      3.311015     0.657708    10.442111     5.657043   804.969379  \n",
       "std       0.156664     0.170399     1.082196     0.805824   463.997116  \n",
       "min       2.740000     0.330000     8.400000     3.000000     0.000000  \n",
       "25%       3.205000     0.550000     9.500000     5.000000   411.000000  \n",
       "50%       3.310000     0.620000    10.200000     6.000000   794.000000  \n",
       "75%       3.400000     0.730000    11.100000     6.000000  1209.500000  \n",
       "max       4.010000     2.000000    14.900000     8.000000  1597.000000  "
      ]
     },
     "execution_count": 45,
     "metadata": {},
     "output_type": "execute_result"
    }
   ],
   "source": [
    "# Using describe() function in Pandas will provide summary statistics\n",
    "wine_data.describe()"
   ]
  },
  {
   "cell_type": "markdown",
   "id": "72e27c76-094c-426d-889e-2af777cb8a52",
   "metadata": {},
   "source": [
    "### 2. Draw a graph that shows the distribution of the various labels across the entire dataset."
   ]
  },
  {
   "cell_type": "code",
   "execution_count": 109,
   "id": "5d7e67c6-ab54-4533-8847-52b5b6a8749a",
   "metadata": {},
   "outputs": [
    {
     "data": {
      "text/plain": [
       "Text(0, 0.5, 'Count')"
      ]
     },
     "execution_count": 109,
     "metadata": {},
     "output_type": "execute_result"
    },
    {
     "data": {
      "image/png": "[encoded data removed]",
      "text/plain": [
       "<Figure size 800x600 with 1 Axes>"
      ]
     },
     "metadata": {},
     "output_type": "display_data"
    }
   ],
   "source": [
    "# Assuming 'label' is the column you want to visualize\n",
    "label_counts = wine_data['quality'].value_counts()\n",
    "\n",
    "# Create a bar plot\n",
    "plt.figure(figsize=(8, 6))  # Adjust the figure size as needed\n",
    "plt.bar(label_counts.index, label_counts.values)\n",
    "plt.title('Distribution of Labels in Wine Dataset')\n",
    "plt.xlabel('Wine Quality')\n",
    "plt.ylabel('Count')"
   ]
  },
  {
   "cell_type": "markdown",
   "id": "52e4bf41-9130-4166-94e8-59c729e9bfd0",
   "metadata": {},
   "source": [
    "### 3. Partition the dataset into train, validation, and test sets."
   ]
  },
  {
   "cell_type": "code",
   "execution_count": 116,
   "id": "e3ea6de2-5190-4747-befe-0bbf9c769447",
   "metadata": {},
   "outputs": [],
   "source": [
    "from sklearn.model_selection import train_test_split\n",
    "\n",
    "# Separate the features (X) and target (y)\n",
    "X = wine_data.drop(columns=['quality'])\n",
    "y = wine_data['quality']\n",
    "\n",
    "# Split the data into train (60%), validation (20%), and test (20%) sets\n",
    "X_train, X_temp, y_train, y_temp = train_test_split(X, y, test_size=0.4, random_state=42)\n",
    "X_validation, X_test, y_validation, y_test = train_test_split(X_temp, y_temp, test_size=0.5, random_state=42)\n"
   ]
  },
  {
   "cell_type": "markdown",
   "id": "5a70d122-a5fd-4248-ab98-543284ef364b",
   "metadata": {},
   "source": [
    "### 4. Normalise and standarize the data."
   ]
  },
  {
   "cell_type": "code",
   "execution_count": 48,
   "id": "18fcdefc-7b7f-49d0-b9ff-2845aa8ba4bd",
   "metadata": {},
   "outputs": [
    {
     "data": {
      "text/plain": [
       "fixed acidity           0\n",
       "volatile acidity        0\n",
       "citric acid             0\n",
       "residual sugar          0\n",
       "chlorides               0\n",
       "free sulfur dioxide     0\n",
       "total sulfur dioxide    0\n",
       "density                 0\n",
       "pH                      0\n",
       "sulphates               0\n",
       "alcohol                 0\n",
       "quality                 0\n",
       "Id                      0\n",
       "dtype: int64"
      ]
     },
     "execution_count": 48,
     "metadata": {},
     "output_type": "execute_result"
    }
   ],
   "source": [
    "# To check if there are any missing values \n",
    "wine_data.isna().sum()"
   ]
  },
  {
   "cell_type": "code",
   "execution_count": 117,
   "id": "f929d0ff-f9ee-4ef3-a572-69423e55892d",
   "metadata": {},
   "outputs": [],
   "source": [
    "from sklearn.preprocessing import StandardScaler\n",
    "\n",
    "scaler = StandardScaler()  # Initialize a standard scaler object\n",
    "X_train = scaler.fit_transform(X_train)\n",
    "X_validation = scaler.transform(X_validation)\n",
    "X_test = scaler.transform(X_test)"
   ]
  },
  {
   "cell_type": "markdown",
   "id": "f08e2fe5-ec9a-4ad0-93f7-2e4687d008c9",
   "metadata": {},
   "source": [
    "**No null values in the data**"
   ]
  },
  {
   "cell_type": "markdown",
   "id": "38465454-e1b6-4649-bac5-79cfc2f2f190",
   "metadata": {},
   "source": [
    "### 5. Clearly identify and justify the selection of the two most significant features"
   ]
  },
  {
   "cell_type": "code",
   "execution_count": 50,
   "id": "6f657283-832d-459e-bfcb-a95a8f8143a8",
   "metadata": {},
   "outputs": [
    {
     "name": "stdout",
     "output_type": "stream",
     "text": [
      "Explained Variance of PC1: 0.27194408610222853\n",
      "Explained Variance of PC2: 0.15872089192863997\n"
     ]
    }
   ],
   "source": [
    "from sklearn.decomposition import PCA\n",
    "\n",
    "pca = PCA(n_components=2) \n",
    "principal_components = pca.fit_transform(X_standardized)\n",
    "\n",
    "explained_variance = pca.explained_variance_ratio_\n",
    "print(\"Explained Variance of PC1:\", explained_variance[0])\n",
    "print(\"Explained Variance of PC2:\", explained_variance[1])"
   ]
  },
  {
   "cell_type": "markdown",
   "id": "5b210d4e-9786-47ed-b8a7-e75e876efd10",
   "metadata": {},
   "source": [
    "**The components with the highest explained variance are the most significant features.** <br>\n",
    "To identify the two most significant features, examine the explained variance of each principal component. The explained variance indicates how much of the total variance in the data is captured by each component."
   ]
  },
  {
   "cell_type": "markdown",
   "id": "3eca73d3-2334-4e8b-a954-36b72ad233a2",
   "metadata": {},
   "source": [
    "## 1.2 Model Building from Scratch"
   ]
  },
  {
   "cell_type": "markdown",
   "id": "2a340d52-eec9-4b0e-a1af-cfab6a79e507",
   "metadata": {},
   "source": [
    "### 1. Create a Multinomial Logistic Regression model from scratch and Use log loss i.e. cross entropy loss as loss function and Gradient descent as the optimization algorithm (write seperate methods for these)."
   ]
  },
  {
   "cell_type": "code",
   "execution_count": 51,
   "id": "6bba8e9a-ead9-480e-9e71-21f9d8a51cbf",
   "metadata": {},
   "outputs": [],
   "source": [
    "import numpy as np\n",
    "\n",
    "class MultinomialLogisticRegression:\n",
    "    def __init__(self, learning_rate=0.01, num_iterations=1000):\n",
    "        self.learning_rate = learning_rate\n",
    "        self.num_iterations = num_iterations\n",
    "\n",
    "    def fit(self, X, y):\n",
    "        num_samples, num_features = X.shape\n",
    "        num_classes = len(np.unique(y))\n",
    "        \n",
    "        # Initialize weights and bias\n",
    "        self.weights = np.zeros((num_features, num_classes))\n",
    "        self.bias = np.zeros(num_classes)\n",
    "\n",
    "        # One-hot encoding of target labels\n",
    "        y_one_hot = self.one_hot_encoding(y, num_classes)\n",
    "\n",
    "        # Gradient Descent\n",
    "        for _ in range(self.num_iterations):\n",
    "            linear_model = np.dot(X, self.weights) + self.bias\n",
    "            predictions = self.softmax(linear_model)\n",
    "            \n",
    "            # Compute gradient\n",
    "            gradient_w = self.compute_gradient(X, predictions, y_one_hot)\n",
    "            gradient_b = self.compute_bias_gradient(predictions, y_one_hot)\n",
    "\n",
    "            # Update weights and bias\n",
    "            self.weights -= self.learning_rate * gradient_w\n",
    "            self.bias -= self.learning_rate * gradient_b\n",
    "\n",
    "    def predict(self, X):\n",
    "        linear_model = np.dot(X, self.weights) + self.bias\n",
    "        predictions = self.softmax(linear_model)\n",
    "        return np.argmax(predictions, axis=1)\n",
    "\n",
    "    def softmax(self, x):\n",
    "        exp_x = np.exp(x - np.max(x, axis=1, keepdims=True))\n",
    "        return exp_x / np.sum(exp_x, axis=1, keepdims=True)\n",
    "\n",
    "    def one_hot_encoding(self, y, num_classes):\n",
    "        num_samples = len(y)\n",
    "        y_one_hot = np.zeros((num_samples, num_classes))\n",
    "        for i in range(num_samples):\n",
    "            y_one_hot[i, y[i]] = 1\n",
    "        return y_one_hot\n",
    "\n",
    "    def compute_gradient(self, X, predictions, y_one_hot):\n",
    "        num_samples = len(y_one_hot)\n",
    "        return np.dot(X.T, (predictions - y_one_hot)) / num_samples\n",
    "\n",
    "    def compute_bias_gradient(self, predictions, y_one_hot):\n",
    "        num_samples = len(y_one_hot)\n",
    "        return np.sum(predictions - y_one_hot, axis=0) / num_samples\n",
    "\n",
    "    def cross_entropy_loss(self, y_true, y_pred):\n",
    "        epsilon = 1e-15\n",
    "        y_pred = np.clip(y_pred, epsilon, 1 - epsilon)\n",
    "        return -np.sum(y_true * np.log(y_pred)) / len(y_true)\n"
   ]
  },
  {
   "cell_type": "markdown",
   "id": "67e673af-714c-48f3-a108-9ec734408956",
   "metadata": {},
   "source": [
    "###  2. Train the model, use sklearn classification report and print metrics on the validation set while training. Also, report loss and accuracy on train set."
   ]
  },
  {
   "cell_type": "code",
   "execution_count": 126,
   "id": "3f9668ad-05c5-49ea-bd88-ec523953a1fe",
   "metadata": {},
   "outputs": [
    {
     "name": "stdout",
     "output_type": "stream",
     "text": [
      "Classification Report on Validation Set:\n",
      "              precision    recall  f1-score   support\n",
      "\n",
      "           3       0.00      0.00      0.00         3\n",
      "           4       0.00      0.00      0.00         5\n",
      "           5       0.66      0.81      0.72        93\n",
      "           6       0.62      0.64      0.63        97\n",
      "           7       0.64      0.31      0.42        29\n",
      "           8       0.00      0.00      0.00         2\n",
      "\n",
      "    accuracy                           0.64       229\n",
      "   macro avg       0.32      0.29      0.30       229\n",
      "weighted avg       0.61      0.64      0.61       229\n",
      "\n",
      "Training Loss: 0.8744\n",
      "Training Accuracy: 62.77%\n"
     ]
    }
   ],
   "source": [
    "from sklearn.metrics import classification_report, accuracy_score\n",
    "\n",
    "model = MultinomialLogisticRegression(learning_rate=0.01, num_iterations=1000)\n",
    "\n",
    "# Training loop\n",
    "for iteration in range(model.num_iterations):\n",
    "    model.fit(X_train, y_train)\n",
    "\n",
    "    if iteration % 10 == 0:\n",
    "        # Periodically evaluate the model on the validation set\n",
    "        y_pred_val = model.predict(X_validation)\n",
    "        validation_accuracy = accuracy_score(y_validation, y_pred_val)\n",
    "        \n",
    "        # Calculate cross-entropy loss on the training set\n",
    "        y_pred_train = model.predict(X_train)\n",
    "        y_one_hot_train = model.one_hot_encoding(y_train, num_classes)\n",
    "        training_loss = model.cross_entropy_loss(y_one_hot_train, model.softmax(np.dot(X_train, model.weights) + model.bias))\n",
    "        training_accuracy = accuracy_score(y_train, y_pred_train)\n",
    "\n",
    "y_pred_val = model.predict(X_validation)\n",
    "print(\"Classification Report on Validation Set:\")\n",
    "print(classification_report(y_validation, y_pred_val))\n"
   ]
  },
  {
   "cell_type": "markdown",
   "id": "ae5e92b7-4f26-4a9a-ad6c-e7f8d4eaa8ed",
   "metadata": {},
   "source": [
    "## 1.3 Hyperparameter Tuning and Evaluation"
   ]
  },
  {
   "cell_type": "markdown",
   "id": "33d7b1c0-82ca-4456-8bba-0e1791846d51",
   "metadata": {},
   "source": [
    "### 1. Use your validation set and W&B logging to fine-tune the hyperparameters ( learning rate , epochs) for optimal results."
   ]
  },
  {
   "cell_type": "code",
   "execution_count": 129,
   "id": "bc4afefb-06ba-4dd5-af53-553ef20f56e8",
   "metadata": {},
   "outputs": [
    {
     "data": {
      "text/html": [
       "Finishing last run (ID:i1w2xv1d) before initializing another..."
      ],
      "text/plain": [
       "<IPython.core.display.HTML object>"
      ]
     },
     "metadata": {},
     "output_type": "display_data"
    },
    {
     "data": {
      "text/html": [
       "Waiting for W&B process to finish... <strong style=\"color:green\">(success).</strong>"
      ],
      "text/plain": [
       "<IPython.core.display.HTML object>"
      ]
     },
     "metadata": {},
     "output_type": "display_data"
    },
    {
     "data": {
      "text/html": [
       "<style>\n",
       "    table.wandb td:nth-child(1) { padding: 0 10px; text-align: left ; width: auto;} td:nth-child(2) {text-align: left ; width: 100%}\n",
       "    .wandb-row { display: flex; flex-direction: row; flex-wrap: wrap; justify-content: flex-start; width: 100% }\n",
       "    .wandb-col { display: flex; flex-direction: column; flex-basis: 100%; flex: 1; padding: 10px; }\n",
       "    </style>\n",
       "<div class=\"wandb-row\"><div class=\"wandb-col\"><h3>Run history:</h3><br/><table class=\"wandb\"><tr><td>epochs</td><td>▁▁▂█▁▁▂█▁▁▂█▁▁▂█</td></tr><tr><td>learning_rate</td><td>▁▁▁▁▁▁▁▁▂▂▂▂████</td></tr><tr><td>validation_accuracy</td><td>▃▁▁▁▁▁▁▁█▆▆▆████</td></tr></table><br/></div><div class=\"wandb-col\"><h3>Run summary:</h3><br/><table class=\"wandb\"><tr><td>epochs</td><td>10000</td></tr><tr><td>learning_rate</td><td>1.0</td></tr><tr><td>validation_accuracy</td><td>0.63755</td></tr></table><br/></div></div>"
      ],
      "text/plain": [
       "<IPython.core.display.HTML object>"
      ]
     },
     "metadata": {},
     "output_type": "display_data"
    },
    {
     "data": {
      "text/html": [
       " View run <strong style=\"color:#cdcd00\">prime-haze-33</strong> at: <a href='https://wandb.ai/srujana-vanka/assignment3-smai/runs/i1w2xv1d' target=\"_blank\">https://wandb.ai/srujana-vanka/assignment3-smai/runs/i1w2xv1d</a><br/>Synced 5 W&B file(s), 0 media file(s), 0 artifact file(s) and 0 other file(s)"
      ],
      "text/plain": [
       "<IPython.core.display.HTML object>"
      ]
     },
     "metadata": {},
     "output_type": "display_data"
    },
    {
     "data": {
      "text/html": [
       "Find logs at: <code>./wandb/run-20231022_232602-i1w2xv1d/logs</code>"
      ],
      "text/plain": [
       "<IPython.core.display.HTML object>"
      ]
     },
     "metadata": {},
     "output_type": "display_data"
    },
    {
     "data": {
      "text/html": [
       "Successfully finished last run (ID:i1w2xv1d). Initializing new run:<br/>"
      ],
      "text/plain": [
       "<IPython.core.display.HTML object>"
      ]
     },
     "metadata": {},
     "output_type": "display_data"
    },
    {
     "data": {
      "application/vnd.jupyter.widget-view+json": {
       "model_id": "527ef04dc68d4897be9b4c44f39ee2dd",
       "version_major": 2,
       "version_minor": 0
      },
      "text/plain": [
       "VBox(children=(Label(value='Waiting for wandb.init()...\\r'), FloatProgress(value=0.011112782633345988, max=1.0…"
      ]
     },
     "metadata": {},
     "output_type": "display_data"
    },
    {
     "data": {
      "text/html": [
       "wandb version 0.15.12 is available!  To upgrade, please run:\n",
       " $ pip install wandb --upgrade"
      ],
      "text/plain": [
       "<IPython.core.display.HTML object>"
      ]
     },
     "metadata": {},
     "output_type": "display_data"
    },
    {
     "data": {
      "text/html": [
       "Tracking run with wandb version 0.15.11"
      ],
      "text/plain": [
       "<IPython.core.display.HTML object>"
      ]
     },
     "metadata": {},
     "output_type": "display_data"
    },
    {
     "data": {
      "text/html": [
       "Run data is saved locally in <code>/home/sruj/jupyter/wandb/run-20231022_232627-3zlx6u5a</code>"
      ],
      "text/plain": [
       "<IPython.core.display.HTML object>"
      ]
     },
     "metadata": {},
     "output_type": "display_data"
    },
    {
     "data": {
      "text/html": [
       "Syncing run <strong><a href='https://wandb.ai/srujana-vanka/assignment3-smai/runs/3zlx6u5a' target=\"_blank\">lively-dew-34</a></strong> to <a href='https://wandb.ai/srujana-vanka/assignment3-smai' target=\"_blank\">Weights & Biases</a> (<a href='https://wandb.me/run' target=\"_blank\">docs</a>)<br/>"
      ],
      "text/plain": [
       "<IPython.core.display.HTML object>"
      ]
     },
     "metadata": {},
     "output_type": "display_data"
    },
    {
     "data": {
      "text/html": [
       " View project at <a href='https://wandb.ai/srujana-vanka/assignment3-smai' target=\"_blank\">https://wandb.ai/srujana-vanka/assignment3-smai</a>"
      ],
      "text/plain": [
       "<IPython.core.display.HTML object>"
      ]
     },
     "metadata": {},
     "output_type": "display_data"
    },
    {
     "data": {
      "text/html": [
       " View run at <a href='https://wandb.ai/srujana-vanka/assignment3-smai/runs/3zlx6u5a' target=\"_blank\">https://wandb.ai/srujana-vanka/assignment3-smai/runs/3zlx6u5a</a>"
      ],
      "text/plain": [
       "<IPython.core.display.HTML object>"
      ]
     },
     "metadata": {},
     "output_type": "display_data"
    },
    {
     "name": "stderr",
     "output_type": "stream",
     "text": [
      "/home/sruj/jupyter/environment/lib/python3.8/site-packages/sklearn/linear_model/_logistic.py:460: ConvergenceWarning: lbfgs failed to converge (status=1):\n",
      "STOP: TOTAL NO. of ITERATIONS REACHED LIMIT.\n",
      "\n",
      "Increase the number of iterations (max_iter) or scale the data as shown in:\n",
      "    https://scikit-learn.org/stable/modules/preprocessing.html\n",
      "Please also refer to the documentation for alternative solver options:\n",
      "    https://scikit-learn.org/stable/modules/linear_model.html#logistic-regression\n",
      "  n_iter_i = _check_optimize_result(\n"
     ]
    },
    {
     "name": "stdout",
     "output_type": "stream",
     "text": [
      "Best Hyperparameters: {'learning_rate': 0.1, 'epochs': 100}\n"
     ]
    },
    {
     "name": "stderr",
     "output_type": "stream",
     "text": [
      "/home/sruj/jupyter/environment/lib/python3.8/site-packages/sklearn/linear_model/_logistic.py:460: ConvergenceWarning: lbfgs failed to converge (status=1):\n",
      "STOP: TOTAL NO. of ITERATIONS REACHED LIMIT.\n",
      "\n",
      "Increase the number of iterations (max_iter) or scale the data as shown in:\n",
      "    https://scikit-learn.org/stable/modules/preprocessing.html\n",
      "Please also refer to the documentation for alternative solver options:\n",
      "    https://scikit-learn.org/stable/modules/linear_model.html#logistic-regression\n",
      "  n_iter_i = _check_optimize_result(\n"
     ]
    }
   ],
   "source": [
    "import wandb\n",
    "\n",
    "# Initialize W&B \n",
    "wandb.init(project=\"assignment3-smai\")\n",
    "\n",
    "def train_model(learning_rate, epochs):\n",
    "    model = MultinomialLogisticRegression(learning_rate=0.01, num_iterations=1000)\n",
    "\n",
    "    # Train the model\n",
    "    model.fit(X_train, y_train)\n",
    "\n",
    "    # Evaluate the model on the validation set\n",
    "    y_pred = model.predict(X_validation)\n",
    "    accuracy = accuracy_score(y_validation, y_pred)\n",
    "\n",
    "    # Log metrics to W&B\n",
    "    wandb.log({\"learning_rate\": learning_rate, \"epochs\": epochs, \"validation_accuracy\": accuracy})\n",
    "\n",
    "    return accuracy\n",
    "\n",
    "# Hyperparameter search space\n",
    "hyperparameter_search = {\n",
    "    \"learning_rate\": [0.01, 0.1, 1.0],\n",
    "    \"epochs\": [100, 500, 1000]\n",
    "}\n",
    "\n",
    "# Grid search or random search to find the best hyperparameters\n",
    "best_accuracy = 0\n",
    "best_hyperparameters = {}\n",
    "\n",
    "for lr in hyperparameter_search[\"learning_rate\"]:\n",
    "    for epoch in hyperparameter_search[\"epochs\"]:\n",
    "        accuracy = train_model(lr, epoch)\n",
    "\n",
    "        if accuracy > best_accuracy:\n",
    "            best_accuracy = accuracy\n",
    "            best_hyperparameters = {\"learning_rate\": lr, \"epochs\": epoch}\n",
    "\n",
    "print(\"Best Hyperparameters:\", best_hyperparameters)\n"
   ]
  },
  {
   "cell_type": "markdown",
   "id": "21a70372-cd2d-4219-8432-6847f1bf0878",
   "metadata": {},
   "source": [
    "### 2. Evaluate your model on test dataset and print sklearn classification report."
   ]
  },
  {
   "cell_type": "code",
   "execution_count": 123,
   "id": "99f10e45-ab47-4105-b9d6-d26bae88c499",
   "metadata": {},
   "outputs": [
    {
     "name": "stdout",
     "output_type": "stream",
     "text": [
      "Classification Report on Test Set:\n",
      "              precision    recall  f1-score   support\n",
      "\n",
      "           4       0.00      0.00      0.00         9\n",
      "           5       0.62      0.70      0.66        97\n",
      "           6       0.53      0.56      0.54        93\n",
      "           7       0.53      0.38      0.44        26\n",
      "           8       0.00      0.00      0.00         4\n",
      "\n",
      "    accuracy                           0.57       229\n",
      "   macro avg       0.33      0.33      0.33       229\n",
      "weighted avg       0.53      0.57      0.55       229\n",
      "\n"
     ]
    }
   ],
   "source": [
    "from sklearn.metrics import classification_report\n",
    "\n",
    "# Evaluate the model on the test set\n",
    "y_pred_test = model.predict(X_test)\n",
    "\n",
    "# Print the classification report\n",
    "print(\"Classification Report on Test Set:\")\n",
    "print(classification_report(y_test, y_pred_test, zero_division=0))\n"
   ]
  },
  {
   "cell_type": "markdown",
   "id": "b6173ce9-211e-4409-a37b-33efa4b3160b",
   "metadata": {},
   "source": [
    "# 2. Multi Layer Perceptron Classification"
   ]
  },
  {
   "cell_type": "markdown",
   "id": "523b29d2-0d46-4d67-83a2-fc119280eeef",
   "metadata": {},
   "source": [
    "## 2.1 Model Building from Scratch"
   ]
  },
  {
   "cell_type": "code",
   "execution_count": 1,
   "id": "6cf21394-010e-48f3-be3f-0d5aa8090358",
   "metadata": {},
   "outputs": [],
   "source": [
    "# Activation Functions\n",
    "def sigmoid(x):\n",
    "    return 1 / (1 + np.exp(-x))\n",
    "\n",
    "def sigmoid_derivative(x):\n",
    "    return x * (1 - x)\n",
    "\n",
    "def tanh(x):\n",
    "    return np.tanh(x)\n",
    "\n",
    "def tanh_derivative(x):\n",
    "    return 1 - x**2\n",
    "\n",
    "def relu(x):\n",
    "    return np.maximum(0, x)\n",
    "\n",
    "def relu_derivative(x):\n",
    "    return np.where(x > 0, 1, 0)"
   ]
  },
  {
   "cell_type": "code",
   "execution_count": 2,
   "id": "7632d7c4-7ba2-41d2-8c21-08b6f4c42de3",
   "metadata": {},
   "outputs": [],
   "source": [
    "class MLPClassifier:\n",
    "    def __init__(self, input_size, hidden_layer_sizes, output_size, activation='relu', optimizer='sgd', learning_rate=0.01, batch_size=None):\n",
    "        self.input_size = input_size\n",
    "        self.hidden_layer_sizes = hidden_layer_sizes\n",
    "        self.output_size = output_size\n",
    "        self.learning_rate = learning_rate\n",
    "        self.batch_size = batch_size \n",
    "\n",
    "        # # Print statements for architecture verification\n",
    "        # print(f\"Input Size: {input_size}\")\n",
    "        # print(f\"Hidden Layer Sizes: {hidden_layer_sizes}\")\n",
    "        # print(f\"Output Size: {output_size}\")\n",
    "\n",
    "        # Initialize activation functions and derivatives\n",
    "        if activation == 'sigmoid':\n",
    "            self.activation_function = sigmoid\n",
    "            self.activation_derivative = sigmoid_derivative\n",
    "        elif activation == 'tanh':\n",
    "            self.activation_function = tanh\n",
    "            self.activation_derivative = tanh_derivative\n",
    "        elif activation == 'relu':\n",
    "            self.activation_function = relu\n",
    "            self.activation_derivative = relu_derivative\n",
    "        else:\n",
    "            raise ValueError(\"Invalid activation function\")\n",
    "\n",
    "        # Initialize optimizer\n",
    "        if optimizer == 'sgd':\n",
    "            self.optimizer = SGD(learning_rate)\n",
    "        elif optimizer == 'bgd':\n",
    "            self.optimizer = BatchGD(learning_rate)\n",
    "        elif optimizer == 'mbgd':\n",
    "            self.optimizer = MiniBatchGD(learning_rate, batch_size)\n",
    "        else:\n",
    "            raise ValueError(\"Invalid optimizer\")\n",
    "\n",
    "        self.weights, self.biases = self.initialize_weights()\n",
    "        \n",
    "    def initialize_weights(self):\n",
    "        layer_sizes = [self.input_size] + self.hidden_layer_sizes + [self.output_size]\n",
    "        weights = [np.random.rand(layer_sizes[i], layer_sizes[i+1]) for i in range(len(layer_sizes)-1)]\n",
    "        biases = [np.zeros((1, layer_sizes[i+1])) for i in range(len(layer_sizes)-1)]  # Correct bias shapes\n",
    "        return weights, biases\n",
    "\n",
    "\n",
    "    def forward_propagation(self, X):\n",
    "        activations = [X]\n",
    "        layer_inputs = []\n",
    "\n",
    "        for i in range(len(self.weights)):\n",
    "            layer_input = np.dot(activations[-1], self.weights[i]) + self.biases[i]\n",
    "            layer_inputs.append(layer_input)\n",
    "            activation = self.activation_function(layer_input)\n",
    "            activations.append(activation)\n",
    "\n",
    "        return activations, layer_inputs\n",
    "\n",
    "    \n",
    "    def back_propagation(self, X, y, activations, layer_inputs):\n",
    "        m = X.shape[0]\n",
    "        deltas = [None] * len(self.weights)\n",
    "        \n",
    "        # To handle non-one-hot encoded labels\n",
    "        if y.ndim == 1:\n",
    "            y_one_hot = np.zeros((m, self.output_size))\n",
    "            y_one_hot[np.arange(m), y] = 1\n",
    "        else:\n",
    "            y_one_hot = y\n",
    "    \n",
    "        deltas[-1] = (activations[-1] - y_one_hot) / m\n",
    "    \n",
    "        for i in range(len(deltas) - 2, -1, -1):\n",
    "            deltas[i] = np.dot(deltas[i+1], self.weights[i+1].T) * self.activation_derivative(activations[i+1])\n",
    "    \n",
    "        # Compute gradients\n",
    "        gradients = [np.dot(activations[i].T, deltas[i]) for i in range(len(deltas))]\n",
    "        bias_gradients = [np.sum(d, axis=0) for d in deltas]\n",
    "\n",
    "        return gradients, bias_gradients\n",
    "\n",
    "\n",
    "    def train(self, X, y, epochs, batch_size=None):\n",
    "        m = X.shape[0]\n",
    "\n",
    "        if batch_size is None:\n",
    "            batch_size = m\n",
    "\n",
    "        for epoch in range(epochs):\n",
    "            for i in range(0, m, batch_size):\n",
    "                X_batch = X[i:i+batch_size]\n",
    "                y_batch = y[i:i+batch_size]\n",
    "\n",
    "                activations, layer_inputs = self.forward_propagation(X_batch)\n",
    "                gradients, bias_gradients = self.back_propagation(X_batch, y_batch, activations, layer_inputs)\n",
    "\n",
    "                for j in range(len(self.weights)):\n",
    "                    self.weights[j] = self.optimizer.update(self.weights[j], gradients[j])\n",
    "                    self.biases[j] = self.optimizer.update(self.biases[j], bias_gradients[j])\n",
    "\n",
    "    def predict(self, X):\n",
    "        activations, _ = self.forward_propagation(X)\n",
    "        return activations[-1]"
   ]
  },
  {
   "cell_type": "code",
   "execution_count": 3,
   "id": "d842f605-e6c2-406c-a5a3-a3e7e07b73c9",
   "metadata": {},
   "outputs": [],
   "source": [
    "# Optimization Algorithms\n",
    "class SGD:\n",
    "    def __init__(self, learning_rate):\n",
    "        self.learning_rate = learning_rate\n",
    "\n",
    "    def update(self, parameter, gradient):\n",
    "        return parameter - self.learning_rate * gradient\n",
    "\n",
    "class BatchGD:\n",
    "    def __init__(self, learning_rate):\n",
    "        self.learning_rate = learning_rate\n",
    "\n",
    "    def update(self, parameter, gradient):\n",
    "        return parameter - self.learning_rate * gradient\n",
    "\n",
    "class MiniBatchGD:\n",
    "    def __init__(self, learning_rate, batch_size):\n",
    "        self.learning_rate = learning_rate\n",
    "        self.batch_size = batch_size\n",
    "\n",
    "    def update(self, parameter, gradient):\n",
    "        return parameter - self.learning_rate * gradient"
   ]
  },
  {
   "cell_type": "markdown",
   "id": "c6618d5d-f1b0-448f-9041-6831a48617e0",
   "metadata": {},
   "source": [
    "## 2.2 Model Training & Hyperparameter Tuning using W&B"
   ]
  },
  {
   "cell_type": "markdown",
   "id": "14cd75c2-3409-4f6b-b482-c97e056b9d5c",
   "metadata": {},
   "source": [
    "### 2. Report metrics: accuracy, f-1 score, precision, and recall"
   ]
  },
  {
   "cell_type": "code",
   "execution_count": 25,
   "id": "21fc4b6d-900b-4db1-86ec-f16365b129c1",
   "metadata": {},
   "outputs": [
    {
     "name": "stdout",
     "output_type": "stream",
     "text": [
      "Accuracy: 0.3888888888888889\n",
      "F1 Score: 0.2177777777777778\n",
      "Precision: 0.7623456790123456\n",
      "Recall: 0.3888888888888889\n"
     ]
    }
   ],
   "source": [
    "from sklearn.datasets import load_wine\n",
    "from sklearn.model_selection import train_test_split\n",
    "from sklearn.preprocessing import StandardScaler\n",
    "from sklearn.metrics import accuracy_score, f1_score, precision_score, recall_score\n",
    "\n",
    "# Load the Wine dataset\n",
    "wine = load_wine()\n",
    "X = wine.data  # Features\n",
    "y = wine.target  # Target labels\n",
    "\n",
    "X_train, X_test, y_train, y_test = train_test_split(X, y, test_size=0.2, random_state=42)\n",
    "\n",
    "# Standardize the data\n",
    "scaler = StandardScaler()\n",
    "X_train = scaler.fit_transform(X_train)\n",
    "X_test = scaler.transform(X_test)\n",
    "\n",
    "\n",
    "mlp = MLPClassifier(input_size=X_train.shape[1], hidden_layer_sizes=[16, 8], output_size=3, activation='relu', optimizer='sgd', learning_rate=0.01)\n",
    "mlp.train(X_train, y_train, epochs=100, batch_size=32)\n",
    "\n",
    "predictions = mlp.predict(X_test)\n",
    "# Ensure predictions are integer class labels\n",
    "predictions = np.argmax(predictions, axis=1)\n",
    "\n",
    "# Calculate accuracy\n",
    "accuracy = accuracy_score(y_test, predictions)\n",
    "print(f\"Accuracy: {accuracy}\")\n",
    "\n",
    "# Calculate F1 score\n",
    "f1 = f1_score(y_test, predictions, average='weighted', zero_division=1)  # 'weighted' for multiclass\n",
    "print(f\"F1 Score: {f1}\")\n",
    "\n",
    "# Calculate precision\n",
    "precision = precision_score(y_test, predictions, average='weighted', zero_division=1)  \n",
    "print(f\"Precision: {precision}\")\n",
    "\n",
    "# Calculate recall\n",
    "recall = recall_score(y_test, predictions, average='weighted')\n",
    "print(f\"Recall: {recall}\")"
   ]
  },
  {
   "cell_type": "markdown",
   "id": "99056b68-3717-4141-819d-afe46ce017d5",
   "metadata": {},
   "source": [
    "### You have to report the scores(ordered) for all the combinations of : Activation functions : sigmoid, tanh and ReLU and Optimizers : SGD, batch gradient descent, and mini-batch gradient descent "
   ]
  },
  {
   "cell_type": "code",
   "execution_count": 7,
   "id": "b6c64257-29c9-45de-8752-814e19eb06bb",
   "metadata": {},
   "outputs": [
    {
     "data": {
      "text/html": [
       "Finishing last run (ID:1setba0j) before initializing another..."
      ],
      "text/plain": [
       "<IPython.core.display.HTML object>"
      ]
     },
     "metadata": {},
     "output_type": "display_data"
    },
    {
     "data": {
      "text/html": [
       "Waiting for W&B process to finish... <strong style=\"color:green\">(success).</strong>"
      ],
      "text/plain": [
       "<IPython.core.display.HTML object>"
      ]
     },
     "metadata": {},
     "output_type": "display_data"
    },
    {
     "data": {
      "application/vnd.jupyter.widget-view+json": {
       "model_id": "93c02027f1eb447882242b0088553968",
       "version_major": 2,
       "version_minor": 0
      },
      "text/plain": [
       "VBox(children=(Label(value='0.002 MB of 0.002 MB uploaded (0.000 MB deduped)\\r'), FloatProgress(value=0.828460…"
      ]
     },
     "metadata": {},
     "output_type": "display_data"
    },
    {
     "data": {
      "text/html": [
       " View run <strong style=\"color:#cdcd00\">balmy-spaceship-11</strong> at: <a href='https://wandb.ai/srujana-vanka/hyperparameter-tuning/runs/1setba0j' target=\"_blank\">https://wandb.ai/srujana-vanka/hyperparameter-tuning/runs/1setba0j</a><br/>Synced 4 W&B file(s), 0 media file(s), 0 artifact file(s) and 0 other file(s)"
      ],
      "text/plain": [
       "<IPython.core.display.HTML object>"
      ]
     },
     "metadata": {},
     "output_type": "display_data"
    },
    {
     "data": {
      "text/html": [
       "Find logs at: <code>./wandb/run-20231022_181232-1setba0j/logs</code>"
      ],
      "text/plain": [
       "<IPython.core.display.HTML object>"
      ]
     },
     "metadata": {},
     "output_type": "display_data"
    },
    {
     "data": {
      "text/html": [
       "Successfully finished last run (ID:1setba0j). Initializing new run:<br/>"
      ],
      "text/plain": [
       "<IPython.core.display.HTML object>"
      ]
     },
     "metadata": {},
     "output_type": "display_data"
    },
    {
     "data": {
      "application/vnd.jupyter.widget-view+json": {
       "model_id": "94913f284b1e453c8e0d9ecbe13953a6",
       "version_major": 2,
       "version_minor": 0
      },
      "text/plain": [
       "VBox(children=(Label(value='Waiting for wandb.init()...\\r'), FloatProgress(value=0.011116034855563662, max=1.0…"
      ]
     },
     "metadata": {},
     "output_type": "display_data"
    },
    {
     "data": {
      "text/html": [
       "wandb version 0.15.12 is available!  To upgrade, please run:\n",
       " $ pip install wandb --upgrade"
      ],
      "text/plain": [
       "<IPython.core.display.HTML object>"
      ]
     },
     "metadata": {},
     "output_type": "display_data"
    },
    {
     "data": {
      "text/html": [
       "Tracking run with wandb version 0.15.11"
      ],
      "text/plain": [
       "<IPython.core.display.HTML object>"
      ]
     },
     "metadata": {},
     "output_type": "display_data"
    },
    {
     "data": {
      "text/html": [
       "Run data is saved locally in <code>/home/sruj/jupyter/wandb/run-20231022_181311-ebznfeit</code>"
      ],
      "text/plain": [
       "<IPython.core.display.HTML object>"
      ]
     },
     "metadata": {},
     "output_type": "display_data"
    },
    {
     "data": {
      "text/html": [
       "Syncing run <strong><a href='https://wandb.ai/srujana-vanka/assignment3-smai/runs/ebznfeit' target=\"_blank\">noble-lion-9</a></strong> to <a href='https://wandb.ai/srujana-vanka/assignment3-smai' target=\"_blank\">Weights & Biases</a> (<a href='https://wandb.me/run' target=\"_blank\">docs</a>)<br/>"
      ],
      "text/plain": [
       "<IPython.core.display.HTML object>"
      ]
     },
     "metadata": {},
     "output_type": "display_data"
    },
    {
     "data": {
      "text/html": [
       " View project at <a href='https://wandb.ai/srujana-vanka/assignment3-smai' target=\"_blank\">https://wandb.ai/srujana-vanka/assignment3-smai</a>"
      ],
      "text/plain": [
       "<IPython.core.display.HTML object>"
      ]
     },
     "metadata": {},
     "output_type": "display_data"
    },
    {
     "data": {
      "text/html": [
       " View run at <a href='https://wandb.ai/srujana-vanka/assignment3-smai/runs/ebznfeit' target=\"_blank\">https://wandb.ai/srujana-vanka/assignment3-smai/runs/ebznfeit</a>"
      ],
      "text/plain": [
       "<IPython.core.display.HTML object>"
      ]
     },
     "metadata": {},
     "output_type": "display_data"
    },
    {
     "name": "stdout",
     "output_type": "stream",
     "text": [
      "Activation Function: tanh, Optimizer: bgd, Test Accuracy: 0.7777777777777778\n",
      "Activation Function: tanh, Optimizer: sgd, Test Accuracy: 0.7222222222222222\n",
      "Activation Function: tanh, Optimizer: mbgd, Test Accuracy: 0.7222222222222222\n",
      "Activation Function: sigmoid, Optimizer: sgd, Test Accuracy: 0.3888888888888889\n",
      "Activation Function: sigmoid, Optimizer: bgd, Test Accuracy: 0.3888888888888889\n",
      "Activation Function: sigmoid, Optimizer: mbgd, Test Accuracy: 0.3888888888888889\n",
      "Activation Function: relu, Optimizer: sgd, Test Accuracy: 0.3888888888888889\n",
      "Activation Function: relu, Optimizer: mbgd, Test Accuracy: 0.3888888888888889\n",
      "Activation Function: relu, Optimizer: bgd, Test Accuracy: 0.3611111111111111\n"
     ]
    },
    {
     "data": {
      "text/html": [
       "Waiting for W&B process to finish... <strong style=\"color:green\">(success).</strong>"
      ],
      "text/plain": [
       "<IPython.core.display.HTML object>"
      ]
     },
     "metadata": {},
     "output_type": "display_data"
    },
    {
     "data": {
      "text/html": [
       "<style>\n",
       "    table.wandb td:nth-child(1) { padding: 0 10px; text-align: left ; width: auto;} td:nth-child(2) {text-align: left ; width: 100%}\n",
       "    .wandb-row { display: flex; flex-direction: row; flex-wrap: wrap; justify-content: flex-start; width: 100% }\n",
       "    .wandb-col { display: flex; flex-direction: column; flex-basis: 100%; flex: 1; padding: 10px; }\n",
       "    </style>\n",
       "<div class=\"wandb-row\"><div class=\"wandb-col\"><h3>Run history:</h3><br/><table class=\"wandb\"><tr><td>test_accuracy</td><td>▁▁▁▇█▇▁▁▁</td></tr></table><br/></div><div class=\"wandb-col\"><h3>Run summary:</h3><br/><table class=\"wandb\"><tr><td>activation_function</td><td>relu</td></tr><tr><td>optimizer</td><td>mbgd</td></tr><tr><td>test_accuracy</td><td>0.38889</td></tr></table><br/></div></div>"
      ],
      "text/plain": [
       "<IPython.core.display.HTML object>"
      ]
     },
     "metadata": {},
     "output_type": "display_data"
    },
    {
     "data": {
      "text/html": [
       " View run <strong style=\"color:#cdcd00\">noble-lion-9</strong> at: <a href='https://wandb.ai/srujana-vanka/assignment3-smai/runs/ebznfeit' target=\"_blank\">https://wandb.ai/srujana-vanka/assignment3-smai/runs/ebznfeit</a><br/>Synced 5 W&B file(s), 0 media file(s), 0 artifact file(s) and 0 other file(s)"
      ],
      "text/plain": [
       "<IPython.core.display.HTML object>"
      ]
     },
     "metadata": {},
     "output_type": "display_data"
    },
    {
     "data": {
      "text/html": [
       "Find logs at: <code>./wandb/run-20231022_181311-ebznfeit/logs</code>"
      ],
      "text/plain": [
       "<IPython.core.display.HTML object>"
      ]
     },
     "metadata": {},
     "output_type": "display_data"
    }
   ],
   "source": [
    "# Initialize W&B\n",
    "wandb.init(project=\"assignment3-smai\")\n",
    "\n",
    "# Hyperparameters\n",
    "activation_functions = ['sigmoid', 'tanh', 'relu']\n",
    "optimizers = ['sgd', 'bgd', 'mbgd']\n",
    "learning_rate = 0.01\n",
    "epochs = 50\n",
    "hidden_neurons = [16, 8]\n",
    "batch_size = 32  \n",
    "\n",
    "results = []\n",
    "\n",
    "for activation in activation_functions:\n",
    "    for optimizer in optimizers:\n",
    "        # Initialize MLP with the hyperparameters\n",
    "        mlp = MLPClassifier(input_size=X_train.shape[1], hidden_layer_sizes=hidden_neurons,\n",
    "                            output_size=3, activation=activation, optimizer=optimizer, learning_rate=learning_rate, batch_size=batch_size)\n",
    "\n",
    "        # Train \n",
    "        mlp.train(X_train, y_train, epochs=epochs, batch_size=batch_size)\n",
    "\n",
    "        # Calculate test accuracy\n",
    "        predictions = mlp.predict(X_test)\n",
    "        test_accuracy = accuracy_score(np.argmax(y_test, axis=1), np.argmax(predictions, axis=1))\n",
    "\n",
    "        # Log the results with W&B\n",
    "        wandb.log({\"activation_function\": activation, \"optimizer\": optimizer, \"test_accuracy\": test_accuracy})\n",
    "\n",
    "        results.append((activation, optimizer, test_accuracy))\n",
    "\n",
    "# Sort the results by test accuracy (descending order)\n",
    "results.sort(key=lambda x: x[2], reverse=True)\n",
    "\n",
    "# Print the sorted results\n",
    "for activation, optimizer, test_accuracy in results:\n",
    "    print(f\"Activation Function: {activation}, Optimizer: {optimizer}, Test Accuracy: {test_accuracy}\")\n",
    "\n",
    "wandb.finish()\n"
   ]
  },
  {
   "cell_type": "markdown",
   "id": "be338d24-c99f-45ca-ad4c-5a33365bd23c",
   "metadata": {},
   "source": [
    "### 4. Tune your model on various hyperparameters, such as learning rate, epochs, and hidden layer neurons"
   ]
  },
  {
   "cell_type": "code",
   "execution_count": 22,
   "id": "17287b1f-d65b-457c-a869-a5ff98071263",
   "metadata": {},
   "outputs": [
    {
     "data": {
      "text/html": [
       "Finishing last run (ID:96zegxwz) before initializing another..."
      ],
      "text/plain": [
       "<IPython.core.display.HTML object>"
      ]
     },
     "metadata": {},
     "output_type": "display_data"
    },
    {
     "data": {
      "text/html": [
       "Waiting for W&B process to finish... <strong style=\"color:green\">(success).</strong>"
      ],
      "text/plain": [
       "<IPython.core.display.HTML object>"
      ]
     },
     "metadata": {},
     "output_type": "display_data"
    },
    {
     "data": {
      "text/html": [
       " View run <strong style=\"color:#cdcd00\">northern-oath-15</strong> at: <a href='https://wandb.ai/srujana-vanka/hyperparameter-tuning/runs/96zegxwz' target=\"_blank\">https://wandb.ai/srujana-vanka/hyperparameter-tuning/runs/96zegxwz</a><br/>Synced 5 W&B file(s), 0 media file(s), 0 artifact file(s) and 0 other file(s)"
      ],
      "text/plain": [
       "<IPython.core.display.HTML object>"
      ]
     },
     "metadata": {},
     "output_type": "display_data"
    },
    {
     "data": {
      "text/html": [
       "Find logs at: <code>./wandb/run-20231022_181651-96zegxwz/logs</code>"
      ],
      "text/plain": [
       "<IPython.core.display.HTML object>"
      ]
     },
     "metadata": {},
     "output_type": "display_data"
    },
    {
     "data": {
      "text/html": [
       "Successfully finished last run (ID:96zegxwz). Initializing new run:<br/>"
      ],
      "text/plain": [
       "<IPython.core.display.HTML object>"
      ]
     },
     "metadata": {},
     "output_type": "display_data"
    },
    {
     "data": {
      "application/vnd.jupyter.widget-view+json": {
       "model_id": "c302e3e21d4f435599746367792c6522",
       "version_major": 2,
       "version_minor": 0
      },
      "text/plain": [
       "VBox(children=(Label(value='Waiting for wandb.init()...\\r'), FloatProgress(value=0.01111580319999727, max=1.0)…"
      ]
     },
     "metadata": {},
     "output_type": "display_data"
    },
    {
     "data": {
      "text/html": [
       "wandb version 0.15.12 is available!  To upgrade, please run:\n",
       " $ pip install wandb --upgrade"
      ],
      "text/plain": [
       "<IPython.core.display.HTML object>"
      ]
     },
     "metadata": {},
     "output_type": "display_data"
    },
    {
     "data": {
      "text/html": [
       "Tracking run with wandb version 0.15.11"
      ],
      "text/plain": [
       "<IPython.core.display.HTML object>"
      ]
     },
     "metadata": {},
     "output_type": "display_data"
    },
    {
     "data": {
      "text/html": [
       "Run data is saved locally in <code>/home/sruj/jupyter/wandb/run-20231022_182455-pz967qoi</code>"
      ],
      "text/plain": [
       "<IPython.core.display.HTML object>"
      ]
     },
     "metadata": {},
     "output_type": "display_data"
    },
    {
     "data": {
      "text/html": [
       "Syncing run <strong><a href='https://wandb.ai/srujana-vanka/hyperparameter-tuning/runs/pz967qoi' target=\"_blank\">daily-microwave-16</a></strong> to <a href='https://wandb.ai/srujana-vanka/hyperparameter-tuning' target=\"_blank\">Weights & Biases</a> (<a href='https://wandb.me/run' target=\"_blank\">docs</a>)<br/>"
      ],
      "text/plain": [
       "<IPython.core.display.HTML object>"
      ]
     },
     "metadata": {},
     "output_type": "display_data"
    },
    {
     "data": {
      "text/html": [
       " View project at <a href='https://wandb.ai/srujana-vanka/hyperparameter-tuning' target=\"_blank\">https://wandb.ai/srujana-vanka/hyperparameter-tuning</a>"
      ],
      "text/plain": [
       "<IPython.core.display.HTML object>"
      ]
     },
     "metadata": {},
     "output_type": "display_data"
    },
    {
     "data": {
      "text/html": [
       " View run at <a href='https://wandb.ai/srujana-vanka/hyperparameter-tuning/runs/pz967qoi' target=\"_blank\">https://wandb.ai/srujana-vanka/hyperparameter-tuning/runs/pz967qoi</a>"
      ],
      "text/plain": [
       "<IPython.core.display.HTML object>"
      ]
     },
     "metadata": {},
     "output_type": "display_data"
    },
    {
     "name": "stdout",
     "output_type": "stream",
     "text": [
      "Best Model Parameters: {'learning_rate': 0.001, 'epochs': 200, 'hidden_layer_neurons': (16, 8)}\n",
      "Best Model Accuracy: 0.7222222222222222\n"
     ]
    }
   ],
   "source": [
    "\n",
    "# Define hyperparameters to experiment with\n",
    "learning_rates = [0.001, 0.01, 0.1]\n",
    "num_epochs = [50, 100, 200]\n",
    "hidden_neurons = [[16, 8], [32, 16], [16, 16]]\n",
    "\n",
    "# Create a dictionary to store the results\n",
    "results = {}\n",
    "\n",
    "# Initialize W&B\n",
    "wandb.init(project=\"hyperparameter-tuning\")\n",
    "\n",
    "for learning_rate in learning_rates:\n",
    "    for epochs in num_epochs:\n",
    "        for hidden_layer_neurons in hidden_neurons:\n",
    "            # Initialize your model with the current hyperparameters\n",
    "            mlp = MLPClassifier(\n",
    "                input_size=X_train.shape[1],\n",
    "                hidden_layer_sizes=hidden_layer_neurons,\n",
    "                output_size=3,\n",
    "                activation='relu',  # Modify this as needed\n",
    "                optimizer='sgd',  # Modify this as needed\n",
    "                learning_rate=learning_rate,\n",
    "                batch_size=batch_size,  # Modify this as needed\n",
    "            )\n",
    "\n",
    "            # Train model\n",
    "            mlp.train(X_train, y_train, epochs=epochs)\n",
    "\n",
    "            # Evaluate the model on the test set\n",
    "            predictions = mlp.predict(X_test)\n",
    "            predictions = np.argmax(predictions, axis=1)\n",
    "            \n",
    "            accuracy = accuracy_score(np.argmax(y_test, axis=1), predictions)\n",
    "            f1 = f1_score(np.argmax(y_test, axis=1), predictions, average='weighted', zero_division=1)\n",
    "            precision = precision_score(np.argmax(y_test, axis=1), predictions, average='weighted', zero_division=1)\n",
    "            recall = recall_score(np.argmax(y_test, axis=1), predictions, average='weighted')\n",
    "            \n",
    "            # Convert hidden_layer_neurons list to a tuple\n",
    "            hidden_layer_neurons_tuple = tuple(hidden_layer_neurons)\n",
    "            \n",
    "            # Store the results in the dictionary\n",
    "            results[(learning_rate, epochs, hidden_layer_neurons_tuple)] = {\n",
    "                'accuracy': accuracy,\n",
    "                'f1_score': f1,\n",
    "                'precision': precision,\n",
    "                'recall': recall\n",
    "            }\n",
    "\n",
    "# Find the best model\n",
    "best_hyperparameters = max(results, key=lambda k: results[k]['accuracy'])\n",
    "best_model_parameters = {\n",
    "    'learning_rate': best_hyperparameters[0],\n",
    "    'epochs': best_hyperparameters[1],\n",
    "    'hidden_layer_neurons': best_hyperparameters[2]\n",
    "}\n",
    "\n",
    "# Print and log the results\n",
    "for hyperparameters, metrics in results.items():\n",
    "    wandb.log({f\"{hyperparameters}\": metrics})\n",
    "\n",
    "print(\"Best Model Parameters:\", best_model_parameters)\n",
    "print(\"Best Model Accuracy:\", results[best_hyperparameters]['accuracy'])\n"
   ]
  },
  {
   "cell_type": "markdown",
   "id": "19558039-5f6b-4349-9303-75c7a5691670",
   "metadata": {},
   "source": [
    "## 2.3 Evaluating Model"
   ]
  },
  {
   "cell_type": "markdown",
   "id": "4e83dc5c-cc1d-4405-87d3-1cc6b8aa2841",
   "metadata": {},
   "source": [
    "### 1. Test and print the classification report on the test set."
   ]
  },
  {
   "cell_type": "code",
   "execution_count": 26,
   "id": "bf554ff0-2fe0-41bc-81a3-12eb315899c7",
   "metadata": {},
   "outputs": [
    {
     "name": "stdout",
     "output_type": "stream",
     "text": [
      "              precision    recall  f1-score   support\n",
      "\n",
      "           0       0.00      0.00      0.00        14\n",
      "           1       0.39      1.00      0.56        14\n",
      "           2       0.00      0.00      0.00         8\n",
      "\n",
      "    accuracy                           0.39        36\n",
      "   macro avg       0.13      0.33      0.19        36\n",
      "weighted avg       0.15      0.39      0.22        36\n",
      "\n"
     ]
    },
    {
     "name": "stderr",
     "output_type": "stream",
     "text": [
      "/home/sruj/jupyter/environment/lib/python3.8/site-packages/sklearn/metrics/_classification.py:1469: UndefinedMetricWarning: Precision and F-score are ill-defined and being set to 0.0 in labels with no predicted samples. Use `zero_division` parameter to control this behavior.\n",
      "  _warn_prf(average, modifier, msg_start, len(result))\n",
      "/home/sruj/jupyter/environment/lib/python3.8/site-packages/sklearn/metrics/_classification.py:1469: UndefinedMetricWarning: Precision and F-score are ill-defined and being set to 0.0 in labels with no predicted samples. Use `zero_division` parameter to control this behavior.\n",
      "  _warn_prf(average, modifier, msg_start, len(result))\n",
      "/home/sruj/jupyter/environment/lib/python3.8/site-packages/sklearn/metrics/_classification.py:1469: UndefinedMetricWarning: Precision and F-score are ill-defined and being set to 0.0 in labels with no predicted samples. Use `zero_division` parameter to control this behavior.\n",
      "  _warn_prf(average, modifier, msg_start, len(result))\n"
     ]
    }
   ],
   "source": [
    "from sklearn.metrics import classification_report\n",
    "\n",
    "report = classification_report(y_test_labels, predictions)\n",
    "print(report)\n"
   ]
  },
  {
   "cell_type": "code",
   "execution_count": null,
   "id": "c21661a0-433d-4528-b1fa-94e6be697c04",
   "metadata": {},
   "outputs": [],
   "source": []
  },
  {
   "cell_type": "code",
   "execution_count": null,
   "id": "e2df6cd0-03a6-43b9-b33a-fa762601be25",
   "metadata": {},
   "outputs": [],
   "source": []
  },
  {
   "cell_type": "code",
   "execution_count": 19,
   "id": "a2826197-2b1d-4cc8-9fd0-6f145aaf497b",
   "metadata": {},
   "outputs": [
    {
     "ename": "KeyError",
     "evalue": "\"['labels'] not found in axis\"",
     "output_type": "error",
     "traceback": [
      "\u001b[0;31m---------------------------------------------------------------------------\u001b[0m",
      "\u001b[0;31mKeyError\u001b[0m                                  Traceback (most recent call last)",
      "Cell \u001b[0;32mIn[19], line 25\u001b[0m\n\u001b[1;32m     22\u001b[0m data\u001b[38;5;241m.\u001b[39mdrop(columns\u001b[38;5;241m=\u001b[39m[\u001b[38;5;124m'\u001b[39m\u001b[38;5;124mlabels\u001b[39m\u001b[38;5;124m'\u001b[39m], inplace\u001b[38;5;241m=\u001b[39m\u001b[38;5;28;01mTrue\u001b[39;00m)\n\u001b[1;32m     24\u001b[0m \u001b[38;5;66;03m# Assuming you have features and labels in your dataset\u001b[39;00m\n\u001b[0;32m---> 25\u001b[0m X \u001b[38;5;241m=\u001b[39m \u001b[43mdata\u001b[49m\u001b[38;5;241;43m.\u001b[39;49m\u001b[43mdrop\u001b[49m\u001b[43m(\u001b[49m\u001b[43mcolumns\u001b[49m\u001b[38;5;241;43m=\u001b[39;49m\u001b[43m[\u001b[49m\u001b[38;5;124;43m'\u001b[39;49m\u001b[38;5;124;43mlabels\u001b[39;49m\u001b[38;5;124;43m'\u001b[39;49m\u001b[43m]\u001b[49m\u001b[43m)\u001b[49m\n\u001b[1;32m     26\u001b[0m y \u001b[38;5;241m=\u001b[39m data[\u001b[38;5;124m'\u001b[39m\u001b[38;5;124mlabels\u001b[39m\u001b[38;5;124m'\u001b[39m]\n\u001b[1;32m     28\u001b[0m \u001b[38;5;66;03m# Split your data into training and validation sets\u001b[39;00m\n",
      "File \u001b[0;32m~/jupyter/environment/lib/python3.8/site-packages/pandas/core/frame.py:5258\u001b[0m, in \u001b[0;36mDataFrame.drop\u001b[0;34m(self, labels, axis, index, columns, level, inplace, errors)\u001b[0m\n\u001b[1;32m   5110\u001b[0m \u001b[38;5;28;01mdef\u001b[39;00m \u001b[38;5;21mdrop\u001b[39m(\n\u001b[1;32m   5111\u001b[0m     \u001b[38;5;28mself\u001b[39m,\n\u001b[1;32m   5112\u001b[0m     labels: IndexLabel \u001b[38;5;241m=\u001b[39m \u001b[38;5;28;01mNone\u001b[39;00m,\n\u001b[0;32m   (...)\u001b[0m\n\u001b[1;32m   5119\u001b[0m     errors: IgnoreRaise \u001b[38;5;241m=\u001b[39m \u001b[38;5;124m\"\u001b[39m\u001b[38;5;124mraise\u001b[39m\u001b[38;5;124m\"\u001b[39m,\n\u001b[1;32m   5120\u001b[0m ) \u001b[38;5;241m-\u001b[39m\u001b[38;5;241m>\u001b[39m DataFrame \u001b[38;5;241m|\u001b[39m \u001b[38;5;28;01mNone\u001b[39;00m:\n\u001b[1;32m   5121\u001b[0m \u001b[38;5;250m    \u001b[39m\u001b[38;5;124;03m\"\"\"\u001b[39;00m\n\u001b[1;32m   5122\u001b[0m \u001b[38;5;124;03m    Drop specified labels from rows or columns.\u001b[39;00m\n\u001b[1;32m   5123\u001b[0m \n\u001b[0;32m   (...)\u001b[0m\n\u001b[1;32m   5256\u001b[0m \u001b[38;5;124;03m            weight  1.0     0.8\u001b[39;00m\n\u001b[1;32m   5257\u001b[0m \u001b[38;5;124;03m    \"\"\"\u001b[39;00m\n\u001b[0;32m-> 5258\u001b[0m     \u001b[38;5;28;01mreturn\u001b[39;00m \u001b[38;5;28;43msuper\u001b[39;49m\u001b[43m(\u001b[49m\u001b[43m)\u001b[49m\u001b[38;5;241;43m.\u001b[39;49m\u001b[43mdrop\u001b[49m\u001b[43m(\u001b[49m\n\u001b[1;32m   5259\u001b[0m \u001b[43m        \u001b[49m\u001b[43mlabels\u001b[49m\u001b[38;5;241;43m=\u001b[39;49m\u001b[43mlabels\u001b[49m\u001b[43m,\u001b[49m\n\u001b[1;32m   5260\u001b[0m \u001b[43m        \u001b[49m\u001b[43maxis\u001b[49m\u001b[38;5;241;43m=\u001b[39;49m\u001b[43maxis\u001b[49m\u001b[43m,\u001b[49m\n\u001b[1;32m   5261\u001b[0m \u001b[43m        \u001b[49m\u001b[43mindex\u001b[49m\u001b[38;5;241;43m=\u001b[39;49m\u001b[43mindex\u001b[49m\u001b[43m,\u001b[49m\n\u001b[1;32m   5262\u001b[0m \u001b[43m        \u001b[49m\u001b[43mcolumns\u001b[49m\u001b[38;5;241;43m=\u001b[39;49m\u001b[43mcolumns\u001b[49m\u001b[43m,\u001b[49m\n\u001b[1;32m   5263\u001b[0m \u001b[43m        \u001b[49m\u001b[43mlevel\u001b[49m\u001b[38;5;241;43m=\u001b[39;49m\u001b[43mlevel\u001b[49m\u001b[43m,\u001b[49m\n\u001b[1;32m   5264\u001b[0m \u001b[43m        \u001b[49m\u001b[43minplace\u001b[49m\u001b[38;5;241;43m=\u001b[39;49m\u001b[43minplace\u001b[49m\u001b[43m,\u001b[49m\n\u001b[1;32m   5265\u001b[0m \u001b[43m        \u001b[49m\u001b[43merrors\u001b[49m\u001b[38;5;241;43m=\u001b[39;49m\u001b[43merrors\u001b[49m\u001b[43m,\u001b[49m\n\u001b[1;32m   5266\u001b[0m \u001b[43m    \u001b[49m\u001b[43m)\u001b[49m\n",
      "File \u001b[0;32m~/jupyter/environment/lib/python3.8/site-packages/pandas/core/generic.py:4549\u001b[0m, in \u001b[0;36mNDFrame.drop\u001b[0;34m(self, labels, axis, index, columns, level, inplace, errors)\u001b[0m\n\u001b[1;32m   4547\u001b[0m \u001b[38;5;28;01mfor\u001b[39;00m axis, labels \u001b[38;5;129;01min\u001b[39;00m axes\u001b[38;5;241m.\u001b[39mitems():\n\u001b[1;32m   4548\u001b[0m     \u001b[38;5;28;01mif\u001b[39;00m labels \u001b[38;5;129;01mis\u001b[39;00m \u001b[38;5;129;01mnot\u001b[39;00m \u001b[38;5;28;01mNone\u001b[39;00m:\n\u001b[0;32m-> 4549\u001b[0m         obj \u001b[38;5;241m=\u001b[39m \u001b[43mobj\u001b[49m\u001b[38;5;241;43m.\u001b[39;49m\u001b[43m_drop_axis\u001b[49m\u001b[43m(\u001b[49m\u001b[43mlabels\u001b[49m\u001b[43m,\u001b[49m\u001b[43m \u001b[49m\u001b[43maxis\u001b[49m\u001b[43m,\u001b[49m\u001b[43m \u001b[49m\u001b[43mlevel\u001b[49m\u001b[38;5;241;43m=\u001b[39;49m\u001b[43mlevel\u001b[49m\u001b[43m,\u001b[49m\u001b[43m \u001b[49m\u001b[43merrors\u001b[49m\u001b[38;5;241;43m=\u001b[39;49m\u001b[43merrors\u001b[49m\u001b[43m)\u001b[49m\n\u001b[1;32m   4551\u001b[0m \u001b[38;5;28;01mif\u001b[39;00m inplace:\n\u001b[1;32m   4552\u001b[0m     \u001b[38;5;28mself\u001b[39m\u001b[38;5;241m.\u001b[39m_update_inplace(obj)\n",
      "File \u001b[0;32m~/jupyter/environment/lib/python3.8/site-packages/pandas/core/generic.py:4591\u001b[0m, in \u001b[0;36mNDFrame._drop_axis\u001b[0;34m(self, labels, axis, level, errors, only_slice)\u001b[0m\n\u001b[1;32m   4589\u001b[0m         new_axis \u001b[38;5;241m=\u001b[39m axis\u001b[38;5;241m.\u001b[39mdrop(labels, level\u001b[38;5;241m=\u001b[39mlevel, errors\u001b[38;5;241m=\u001b[39merrors)\n\u001b[1;32m   4590\u001b[0m     \u001b[38;5;28;01melse\u001b[39;00m:\n\u001b[0;32m-> 4591\u001b[0m         new_axis \u001b[38;5;241m=\u001b[39m \u001b[43maxis\u001b[49m\u001b[38;5;241;43m.\u001b[39;49m\u001b[43mdrop\u001b[49m\u001b[43m(\u001b[49m\u001b[43mlabels\u001b[49m\u001b[43m,\u001b[49m\u001b[43m \u001b[49m\u001b[43merrors\u001b[49m\u001b[38;5;241;43m=\u001b[39;49m\u001b[43merrors\u001b[49m\u001b[43m)\u001b[49m\n\u001b[1;32m   4592\u001b[0m     indexer \u001b[38;5;241m=\u001b[39m axis\u001b[38;5;241m.\u001b[39mget_indexer(new_axis)\n\u001b[1;32m   4594\u001b[0m \u001b[38;5;66;03m# Case for non-unique axis\u001b[39;00m\n\u001b[1;32m   4595\u001b[0m \u001b[38;5;28;01melse\u001b[39;00m:\n",
      "File \u001b[0;32m~/jupyter/environment/lib/python3.8/site-packages/pandas/core/indexes/base.py:6699\u001b[0m, in \u001b[0;36mIndex.drop\u001b[0;34m(self, labels, errors)\u001b[0m\n\u001b[1;32m   6697\u001b[0m \u001b[38;5;28;01mif\u001b[39;00m mask\u001b[38;5;241m.\u001b[39many():\n\u001b[1;32m   6698\u001b[0m     \u001b[38;5;28;01mif\u001b[39;00m errors \u001b[38;5;241m!=\u001b[39m \u001b[38;5;124m\"\u001b[39m\u001b[38;5;124mignore\u001b[39m\u001b[38;5;124m\"\u001b[39m:\n\u001b[0;32m-> 6699\u001b[0m         \u001b[38;5;28;01mraise\u001b[39;00m \u001b[38;5;167;01mKeyError\u001b[39;00m(\u001b[38;5;124mf\u001b[39m\u001b[38;5;124m\"\u001b[39m\u001b[38;5;132;01m{\u001b[39;00m\u001b[38;5;28mlist\u001b[39m(labels[mask])\u001b[38;5;132;01m}\u001b[39;00m\u001b[38;5;124m not found in axis\u001b[39m\u001b[38;5;124m\"\u001b[39m)\n\u001b[1;32m   6700\u001b[0m     indexer \u001b[38;5;241m=\u001b[39m indexer[\u001b[38;5;241m~\u001b[39mmask]\n\u001b[1;32m   6701\u001b[0m \u001b[38;5;28;01mreturn\u001b[39;00m \u001b[38;5;28mself\u001b[39m\u001b[38;5;241m.\u001b[39mdelete(indexer)\n",
      "\u001b[0;31mKeyError\u001b[0m: \"['labels'] not found in axis\""
     ]
    }
   ],
   "source": [
    "import pandas as pd\n",
    "import numpy as np\n",
    "from sklearn.model_selection import train_test_split\n",
    "from tensorflow import keras\n",
    "from tensorflow.keras import layers\n",
    "import wandb\n",
    "\n",
    "# Load your multi-label dataset\n",
    "data = pd.read_csv(\"/home/sruj/Downloads/advertisement.csv\")\n",
    "\n",
    "# Split the labels into individual labels\n",
    "data['labels'] = data['labels'].str.split()\n",
    "\n",
    "# Get a list of unique labels across the dataset\n",
    "unique_labels = set(label for labels in data['labels'] for label in labels)\n",
    "\n",
    "# Create binary-encoded columns for each label\n",
    "for label in unique_labels:\n",
    "    data[label] = data['labels'].apply(lambda labels: int(label in labels))\n",
    "\n",
    "# Drop the original 'labels' column\n",
    "data.drop(columns=['labels'], inplace=True)\n",
    "\n",
    "# Assuming you have features and labels in your dataset\n",
    "X = data.drop(columns=['labels'])\n",
    "y = data['labels']\n",
    "\n",
    "# Split your data into training and validation sets\n",
    "X_train, X_val, y_train, y_val = train_test_split(X, y, test_size=0.2, random_state=42)\n",
    "\n",
    "# Define your model\n",
    "input_shape = X_train.shape[1]\n",
    "num_labels = y_train.shape[1]  # Number of labels in multi-label classification\n",
    "\n",
    "model = keras.Sequential([\n",
    "    layers.Input(shape=(input_shape,)),\n",
    "    layers.Dense(64, activation='relu'),\n",
    "    layers.Dense(32, activation='relu'),\n",
    "    layers.Dense(num_labels, activation='sigmoid')\n",
    "])\n",
    "\n",
    "model.compile(optimizer='adam', loss='binary_crossentropy', metrics=['accuracy'])\n",
    "\n",
    "# Initialize W&B run\n",
    "wandb.init(project='your_project_name', entity='your_username')\n",
    "\n",
    "# Configure W&B callback with specific metrics to monitor\n",
    "callback = wandb.keras.WandbCallback(\n",
    "    monitor=\"val_loss\",  # Monitor validation loss\n",
    "    mode=\"auto\",          # Automatically determine improvement direction\n",
    "    save_model=False     # Do not save the model to W&B\n",
    ")\n",
    "\n",
    "# Train your model\n",
    "model.fit(X_train, y_train, validation_data=(X_val, y_val), epochs=10, callbacks=[callback])\n",
    "\n",
    "# Log final validation loss and accuracy manually\n",
    "final_val_loss, final_val_accuracy = model.evaluate(X_val, y_val, verbose=0)\n",
    "wandb.run.summary[\"final_val_loss\"] = final_val_loss\n",
    "wandb.run.summary[\"final_val_accuracy\"] = final_val_accuracy\n",
    "\n",
    "# Save your model\n",
    "model.save('multi_label_model.h5')\n",
    "\n",
    "# To load the model for inference\n",
    "# loaded_model = keras.models.load_model('multi_label_model.h5')\n"
   ]
  },
  {
   "cell_type": "markdown",
   "id": "ec129829-9e20-4d61-9078-8be0c1623c68",
   "metadata": {},
   "source": [
    "# 3 Multilayer Perceptron Regression"
   ]
  },
  {
   "cell_type": "markdown",
   "id": "631d04e1-3424-46b9-9a35-be666ba0f394",
   "metadata": {},
   "source": [
    "## 3.1 Data Preprocessing"
   ]
  },
  {
   "cell_type": "markdown",
   "id": "211acbcf-fab5-4e76-b6fb-48f7a9d58fb9",
   "metadata": {},
   "source": [
    "### 1. Describe the dataset using mean, standard deviation, min, and max values for all attributes."
   ]
  },
  {
   "cell_type": "code",
   "execution_count": 30,
   "id": "e6f7767b-7219-44eb-8015-5a315c610b9e",
   "metadata": {},
   "outputs": [
    {
     "data": {
      "text/html": [
       "<div>\n",
       "<style scoped>\n",
       "    .dataframe tbody tr th:only-of-type {\n",
       "        vertical-align: middle;\n",
       "    }\n",
       "\n",
       "    .dataframe tbody tr th {\n",
       "        vertical-align: top;\n",
       "    }\n",
       "\n",
       "    .dataframe thead th {\n",
       "        text-align: right;\n",
       "    }\n",
       "</style>\n",
       "<table border=\"1\" class=\"dataframe\">\n",
       "  <thead>\n",
       "    <tr style=\"text-align: right;\">\n",
       "      <th></th>\n",
       "      <th>CRIM</th>\n",
       "      <th>ZN</th>\n",
       "      <th>INDUS</th>\n",
       "      <th>CHAS</th>\n",
       "      <th>NOX</th>\n",
       "      <th>RM</th>\n",
       "      <th>AGE</th>\n",
       "      <th>DIS</th>\n",
       "      <th>RAD</th>\n",
       "      <th>TAX</th>\n",
       "      <th>PTRATIO</th>\n",
       "      <th>B</th>\n",
       "      <th>LSTAT</th>\n",
       "      <th>MEDV</th>\n",
       "    </tr>\n",
       "  </thead>\n",
       "  <tbody>\n",
       "    <tr>\n",
       "      <th>count</th>\n",
       "      <td>486.000000</td>\n",
       "      <td>486.000000</td>\n",
       "      <td>486.000000</td>\n",
       "      <td>486.000000</td>\n",
       "      <td>506.000000</td>\n",
       "      <td>506.000000</td>\n",
       "      <td>486.000000</td>\n",
       "      <td>506.000000</td>\n",
       "      <td>506.000000</td>\n",
       "      <td>506.000000</td>\n",
       "      <td>506.000000</td>\n",
       "      <td>506.000000</td>\n",
       "      <td>486.000000</td>\n",
       "      <td>506.000000</td>\n",
       "    </tr>\n",
       "    <tr>\n",
       "      <th>mean</th>\n",
       "      <td>3.611874</td>\n",
       "      <td>11.211934</td>\n",
       "      <td>11.083992</td>\n",
       "      <td>0.069959</td>\n",
       "      <td>0.554695</td>\n",
       "      <td>6.284634</td>\n",
       "      <td>68.518519</td>\n",
       "      <td>3.795043</td>\n",
       "      <td>9.549407</td>\n",
       "      <td>408.237154</td>\n",
       "      <td>18.455534</td>\n",
       "      <td>356.674032</td>\n",
       "      <td>12.715432</td>\n",
       "      <td>22.532806</td>\n",
       "    </tr>\n",
       "    <tr>\n",
       "      <th>std</th>\n",
       "      <td>8.720192</td>\n",
       "      <td>23.388876</td>\n",
       "      <td>6.835896</td>\n",
       "      <td>0.255340</td>\n",
       "      <td>0.115878</td>\n",
       "      <td>0.702617</td>\n",
       "      <td>27.999513</td>\n",
       "      <td>2.105710</td>\n",
       "      <td>8.707259</td>\n",
       "      <td>168.537116</td>\n",
       "      <td>2.164946</td>\n",
       "      <td>91.294864</td>\n",
       "      <td>7.155871</td>\n",
       "      <td>9.197104</td>\n",
       "    </tr>\n",
       "    <tr>\n",
       "      <th>min</th>\n",
       "      <td>0.006320</td>\n",
       "      <td>0.000000</td>\n",
       "      <td>0.460000</td>\n",
       "      <td>0.000000</td>\n",
       "      <td>0.385000</td>\n",
       "      <td>3.561000</td>\n",
       "      <td>2.900000</td>\n",
       "      <td>1.129600</td>\n",
       "      <td>1.000000</td>\n",
       "      <td>187.000000</td>\n",
       "      <td>12.600000</td>\n",
       "      <td>0.320000</td>\n",
       "      <td>1.730000</td>\n",
       "      <td>5.000000</td>\n",
       "    </tr>\n",
       "    <tr>\n",
       "      <th>25%</th>\n",
       "      <td>0.081900</td>\n",
       "      <td>0.000000</td>\n",
       "      <td>5.190000</td>\n",
       "      <td>0.000000</td>\n",
       "      <td>0.449000</td>\n",
       "      <td>5.885500</td>\n",
       "      <td>45.175000</td>\n",
       "      <td>2.100175</td>\n",
       "      <td>4.000000</td>\n",
       "      <td>279.000000</td>\n",
       "      <td>17.400000</td>\n",
       "      <td>375.377500</td>\n",
       "      <td>7.125000</td>\n",
       "      <td>17.025000</td>\n",
       "    </tr>\n",
       "    <tr>\n",
       "      <th>50%</th>\n",
       "      <td>0.253715</td>\n",
       "      <td>0.000000</td>\n",
       "      <td>9.690000</td>\n",
       "      <td>0.000000</td>\n",
       "      <td>0.538000</td>\n",
       "      <td>6.208500</td>\n",
       "      <td>76.800000</td>\n",
       "      <td>3.207450</td>\n",
       "      <td>5.000000</td>\n",
       "      <td>330.000000</td>\n",
       "      <td>19.050000</td>\n",
       "      <td>391.440000</td>\n",
       "      <td>11.430000</td>\n",
       "      <td>21.200000</td>\n",
       "    </tr>\n",
       "    <tr>\n",
       "      <th>75%</th>\n",
       "      <td>3.560263</td>\n",
       "      <td>12.500000</td>\n",
       "      <td>18.100000</td>\n",
       "      <td>0.000000</td>\n",
       "      <td>0.624000</td>\n",
       "      <td>6.623500</td>\n",
       "      <td>93.975000</td>\n",
       "      <td>5.188425</td>\n",
       "      <td>24.000000</td>\n",
       "      <td>666.000000</td>\n",
       "      <td>20.200000</td>\n",
       "      <td>396.225000</td>\n",
       "      <td>16.955000</td>\n",
       "      <td>25.000000</td>\n",
       "    </tr>\n",
       "    <tr>\n",
       "      <th>max</th>\n",
       "      <td>88.976200</td>\n",
       "      <td>100.000000</td>\n",
       "      <td>27.740000</td>\n",
       "      <td>1.000000</td>\n",
       "      <td>0.871000</td>\n",
       "      <td>8.780000</td>\n",
       "      <td>100.000000</td>\n",
       "      <td>12.126500</td>\n",
       "      <td>24.000000</td>\n",
       "      <td>711.000000</td>\n",
       "      <td>22.000000</td>\n",
       "      <td>396.900000</td>\n",
       "      <td>37.970000</td>\n",
       "      <td>50.000000</td>\n",
       "    </tr>\n",
       "  </tbody>\n",
       "</table>\n",
       "</div>"
      ],
      "text/plain": [
       "             CRIM          ZN       INDUS        CHAS         NOX          RM  \\\n",
       "count  486.000000  486.000000  486.000000  486.000000  506.000000  506.000000   \n",
       "mean     3.611874   11.211934   11.083992    0.069959    0.554695    6.284634   \n",
       "std      8.720192   23.388876    6.835896    0.255340    0.115878    0.702617   \n",
       "min      0.006320    0.000000    0.460000    0.000000    0.385000    3.561000   \n",
       "25%      0.081900    0.000000    5.190000    0.000000    0.449000    5.885500   \n",
       "50%      0.253715    0.000000    9.690000    0.000000    0.538000    6.208500   \n",
       "75%      3.560263   12.500000   18.100000    0.000000    0.624000    6.623500   \n",
       "max     88.976200  100.000000   27.740000    1.000000    0.871000    8.780000   \n",
       "\n",
       "              AGE         DIS         RAD         TAX     PTRATIO           B  \\\n",
       "count  486.000000  506.000000  506.000000  506.000000  506.000000  506.000000   \n",
       "mean    68.518519    3.795043    9.549407  408.237154   18.455534  356.674032   \n",
       "std     27.999513    2.105710    8.707259  168.537116    2.164946   91.294864   \n",
       "min      2.900000    1.129600    1.000000  187.000000   12.600000    0.320000   \n",
       "25%     45.175000    2.100175    4.000000  279.000000   17.400000  375.377500   \n",
       "50%     76.800000    3.207450    5.000000  330.000000   19.050000  391.440000   \n",
       "75%     93.975000    5.188425   24.000000  666.000000   20.200000  396.225000   \n",
       "max    100.000000   12.126500   24.000000  711.000000   22.000000  396.900000   \n",
       "\n",
       "            LSTAT        MEDV  \n",
       "count  486.000000  506.000000  \n",
       "mean    12.715432   22.532806  \n",
       "std      7.155871    9.197104  \n",
       "min      1.730000    5.000000  \n",
       "25%      7.125000   17.025000  \n",
       "50%     11.430000   21.200000  \n",
       "75%     16.955000   25.000000  \n",
       "max     37.970000   50.000000  "
      ]
     },
     "execution_count": 30,
     "metadata": {},
     "output_type": "execute_result"
    }
   ],
   "source": [
    "import numpy as np \n",
    "import pandas as pd \n",
    "import os\n",
    "import sys\n",
    "import matplotlib.pyplot as plt\n",
    "\n",
    "housing_data = pd.read_csv('/home/sruj/Downloads/HousingData.csv')\n",
    "housing_data.describe()"
   ]
  },
  {
   "cell_type": "markdown",
   "id": "3d37413d-f061-481a-9f3d-daf823088666",
   "metadata": {},
   "source": [
    "### 2. Draw a graph that shows the distribution of the various labels across the entire dataset."
   ]
  },
  {
   "cell_type": "code",
   "execution_count": 31,
   "id": "7ac2e7a3-af60-4f65-8061-09a4dd6544ac",
   "metadata": {},
   "outputs": [
    {
     "data": {
      "image/png": "[encoded data removed]",
      "text/plain": [
       "<Figure size 600x600 with 1 Axes>"
      ]
     },
     "metadata": {},
     "output_type": "display_data"
    }
   ],
   "source": [
    "# Access the target variable \n",
    "labels = housing_data['MEDV']\n",
    "\n",
    "# Create a histogram to visualize the distribution\n",
    "plt.figure(figsize=(6, 6))\n",
    "plt.hist(labels, bins=30, color='black')\n",
    "plt.title(\"Distribution of Housing Prices (MEDV)\")\n",
    "plt.xlabel(\"Median Value in $1000s\")\n",
    "plt.ylabel(\"Frequency\")\n",
    "plt.show()"
   ]
  },
  {
   "cell_type": "markdown",
   "id": "98e406f3-7404-4264-9934-2e211bee2a6c",
   "metadata": {},
   "source": [
    "### 3. Partition the dataset into train, validation, and test sets."
   ]
  },
  {
   "cell_type": "code",
   "execution_count": 32,
   "id": "20d5cd6e-3887-48a1-adf8-ad20bd63177c",
   "metadata": {},
   "outputs": [
    {
     "name": "stdout",
     "output_type": "stream",
     "text": [
      "Training set shape: X_train=(404, 13), y_train=(404,)\n",
      "Validation set shape: X_valid=(51, 13), y_valid=(51,)\n",
      "Test set shape: X_test=(51, 13), y_test=(51,)\n"
     ]
    }
   ],
   "source": [
    "\n",
    "from sklearn.model_selection import train_test_split\n",
    "\n",
    "# Define the features (X) and the target (y)\n",
    "X = housing_data.drop(columns=['MEDV'])  \n",
    "y = housing_data['MEDV']  \n",
    "\n",
    "X_train, X_temp, y_train, y_temp = train_test_split(X, y, test_size=0.2, random_state=42)\n",
    "X_valid, X_test, y_valid, y_test = train_test_split(X_temp, y_temp, test_size=0.5, random_state=42)\n",
    "\n",
    "print(\"Training set shape: X_train={}, y_train={}\".format(X_train.shape, y_train.shape))\n",
    "print(\"Validation set shape: X_valid={}, y_valid={}\".format(X_valid.shape, y_valid.shape))\n",
    "print(\"Test set shape: X_test={}, y_test={}\".format(X_test.shape, y_test.shape))\n"
   ]
  },
  {
   "cell_type": "markdown",
   "id": "0e4f4000-8958-49c7-aea0-c4816865b138",
   "metadata": {},
   "source": [
    "### 4. Normalise and standarize the data. Make sure to handle the missing or inconsistent data values if necessary."
   ]
  },
  {
   "cell_type": "code",
   "execution_count": 33,
   "id": "0e826e82-1919-499e-884e-32002c57efdd",
   "metadata": {},
   "outputs": [],
   "source": [
    "from sklearn.preprocessing import StandardScaler\n",
    "from sklearn.preprocessing import MinMaxScaler\n",
    "from sklearn.impute import SimpleImputer\n",
    "\n",
    "# Handle missing or inconsistent data values\n",
    "imputer = SimpleImputer(strategy='mean') \n",
    "X_train = imputer.fit_transform(X_train)\n",
    "X_valid = imputer.transform(X_valid)\n",
    "X_test = imputer.transform(X_test)\n",
    "\n",
    "# Min-Max Scaling (Normalization)\n",
    "min_max_scaler = MinMaxScaler()\n",
    "X_train = min_max_scaler.fit_transform(X_train)\n",
    "X_valid = min_max_scaler.transform(X_valid)\n",
    "X_test = min_max_scaler.transform(X_test)\n",
    "\n",
    "# Standard Scaling (Z-score Normalization)\n",
    "standard_scaler = StandardScaler()\n",
    "X_train = standard_scaler.fit_transform(X_train)\n",
    "X_valid = standard_scaler.transform(X_valid)\n",
    "X_test = standard_scaler.transform(X_test)\n"
   ]
  },
  {
   "cell_type": "markdown",
   "id": "92639585-ab95-46a7-b5c3-058f7be375f6",
   "metadata": {},
   "source": [
    "## 3.2 MLP Regression Implementation from Scratch"
   ]
  },
  {
   "cell_type": "code",
   "execution_count": 27,
   "id": "72b61c71-0661-46c4-b3c0-397c5a952227",
   "metadata": {},
   "outputs": [],
   "source": [
    "# Activation functions\n",
    "def sigmoid(x):\n",
    "    return 1 / (1 + np.exp(-x))\n",
    "\n",
    "def tanh(x):\n",
    "    return np.tanh(x)\n",
    "\n",
    "def relu(x):\n",
    "    return np.maximum(0, x)\n",
    "    "
   ]
  },
  {
   "cell_type": "code",
   "execution_count": 58,
   "id": "e45efb77-3619-48fa-9a99-1c5be0ecd546",
   "metadata": {},
   "outputs": [],
   "source": [
    "# Loss function\n",
    "def mean_squared_error(y_true, y_pred):\n",
    "    return np.mean((y_true - y_pred)**2)\n",
    "\n",
    "def root_mean_squared_error(y_true, y_pred):\n",
    "    mse = mean_squared_error(y_true, y_pred)\n",
    "    return np.sqrt(mse)\n",
    "\n",
    "def r_squared(y_true, y_pred):\n",
    "    y_mean = np.mean(y_true)\n",
    "    ss_total = np.sum((y_true - y_mean)**2)\n",
    "    ss_residual = np.sum((y_true - y_pred)**2)\n",
    "    r2 = 1 - (ss_residual / ss_total)\n",
    "    return r2"
   ]
  },
  {
   "cell_type": "code",
   "execution_count": 121,
   "id": "87eb80fc-5959-44cc-bf5f-6802c452efc3",
   "metadata": {},
   "outputs": [],
   "source": [
    "# Define the derivative of activation functions\n",
    "def sigmoid_derivative(self, x):\n",
    "    return x * (1 - x)\n",
    "\n",
    "def tanh_derivative(self, x):\n",
    "    return 1 - x**2\n",
    "    \n",
    "\n",
    "def relu_derivative(self, x):\n",
    "    return (x > 0).astype(int)"
   ]
  },
  {
   "cell_type": "code",
   "execution_count": 36,
   "id": "8a6b68fb-8e45-4f43-a71b-af6a8ae793cb",
   "metadata": {},
   "outputs": [],
   "source": [
    "import numpy as np\n",
    "import pandas as pd\n",
    "\n",
    "class MLPRegression:\n",
    "    def __init__(self, input_dim, hidden_layers, output_dim, learning_rate=0.01, activation='sigmoid', optimizer='sgd'):\n",
    "        self.input_dim = input_dim\n",
    "        self.hidden_layers = hidden_layers\n",
    "        self.output_dim = output_dim\n",
    "        self.learning_rate = learning_rate\n",
    "        self.activation = activation\n",
    "        self.optimizer = optimizer\n",
    "\n",
    "        # Initialize weights and biases for the layers\n",
    "        self.initialize_parameters()\n",
    "\n",
    "    def initialize_parameters(self):\n",
    "        self.weights = []\n",
    "        self.biases = []\n",
    "\n",
    "        layers = [self.input_dim] + self.hidden_layers + [self.output_dim]\n",
    "\n",
    "        for i in range(1, len(layers)):\n",
    "            # Initialize weights with random values\n",
    "            self.weights.append(np.random.randn(layers[i - 1], layers[i]))\n",
    "            # Initialize biases with zeros\n",
    "            self.biases.append(np.zeros((1, layers[i])))\n",
    "\n",
    "    # Define activation functions\n",
    "    def sigmoid(self, x):\n",
    "        return 1 / (1 + np.exp(-x))\n",
    "\n",
    "    def tanh(self, x):\n",
    "        return np.tanh(x)\n",
    "\n",
    "    def relu(self, x):\n",
    "        return np.maximum(0, x)\n",
    "\n",
    "    def activation_function(self, x):\n",
    "        if self.activation == 'sigmoid':\n",
    "            return self.sigmoid(x)\n",
    "        elif self.activation == 'tanh':\n",
    "            return self.tanh(x)\n",
    "        elif self.activation == 'relu':\n",
    "            return self.relu(x)\n",
    "\n",
    "    # Define the derivative of activation functions\n",
    "    def sigmoid_derivative(self, x):\n",
    "        return x * (1 - x)\n",
    "\n",
    "    def tanh_derivative(self, x):\n",
    "        return 1 - x**2\n",
    "\n",
    "    def relu_derivative(self, x):\n",
    "        return (x > 0).astype(int)\n",
    "\n",
    "    def activation_derivative(self, x):\n",
    "        if self.activation == 'sigmoid':\n",
    "            return self.sigmoid_derivative(x)\n",
    "        elif self.activation == 'tanh':\n",
    "            return self.tanh_derivative(x)\n",
    "        elif self.activation == 'relu':\n",
    "            return self.relu_derivative(x)\n",
    "\n",
    "    # Implement forward propagation\n",
    "    def forward_propagation(self, x):\n",
    "        self.layer_outputs = []\n",
    "        input_data = x\n",
    "        self.layer_outputs.append(input_data)\n",
    "\n",
    "        for i in range(len(self.weights)):\n",
    "            # Calculate the weighted sum of inputs\n",
    "            weighted_sum = np.dot(input_data, self.weights[i]) + self.biases[i]\n",
    "            # Apply the activation function\n",
    "            layer_output = self.activation_function(weighted_sum)\n",
    "            # Store the output for this layer\n",
    "            self.layer_outputs.append(layer_output)\n",
    "            input_data = layer_output\n",
    "\n",
    "        return input_data\n",
    "\n",
    "    # Implement backpropagation\n",
    "    def backward_propagation(self, x, y, predicted):\n",
    "        output_error = y - predicted\n",
    "        deltas = [output_error * self.activation_derivative(predicted)]\n",
    "\n",
    "        # Compute errors and deltas for each hidden layer\n",
    "        for i in range(len(self.weights) - 1, 0, -1):\n",
    "            error = deltas[-1].dot(self.weights[i].T)\n",
    "            delta = error * self.activation_derivative(self.layer_outputs[i])\n",
    "            deltas.append(delta)\n",
    "\n",
    "        # Reverse the list of deltas\n",
    "        deltas.reverse()\n",
    "\n",
    "        # Update weights and biases\n",
    "        for i in range(len(self.weights)):\n",
    "            self.weights[i] += self.layer_outputs[i].T.dot(deltas[i]) * self.learning_rate\n",
    "            self.biases[i] += np.sum(deltas[i], axis=0, keepdims=True) * self.learning_rate\n",
    "\n",
    "    # Implement training\n",
    "    def train(self, X, y, epochs=1000):\n",
    "        for epoch in range(epochs):\n",
    "            for i in range(len(X)):\n",
    "                x_sample = X[i]  # Individual input sample\n",
    "                y_sample = y[i]  # Corresponding target value\n",
    "                predicted = self.forward_propagation(x_sample)\n",
    "                self.backward_propagation(x_sample, y_sample, predicted)\n",
    "    \n",
    "        \n",
    "\n",
    "    def predict(self, X):\n",
    "        return self.forward_propagation(X)\n"
   ]
  },
  {
   "cell_type": "markdown",
   "id": "dd1a0601-c32d-4e97-b8f5-be7556962335",
   "metadata": {},
   "source": [
    "## 3.3 Model Training & Hyperparameter Tuning using W&B"
   ]
  },
  {
   "cell_type": "markdown",
   "id": "ea85ae33-2227-4bc3-b810-156f188b18b6",
   "metadata": {},
   "source": [
    "### 1. Log your scores - loss (Mean Squared Error) on the validation set using W&B"
   ]
  },
  {
   "cell_type": "code",
   "execution_count": 63,
   "id": "68a45e0f-8efc-40d9-819f-1118c8e358ce",
   "metadata": {},
   "outputs": [
    {
     "data": {
      "text/html": [
       "Finishing last run (ID:bnyw9m72) before initializing another..."
      ],
      "text/plain": [
       "<IPython.core.display.HTML object>"
      ]
     },
     "metadata": {},
     "output_type": "display_data"
    },
    {
     "data": {
      "text/html": [
       "Waiting for W&B process to finish... <strong style=\"color:green\">(success).</strong>"
      ],
      "text/plain": [
       "<IPython.core.display.HTML object>"
      ]
     },
     "metadata": {},
     "output_type": "display_data"
    },
    {
     "data": {
      "application/vnd.jupyter.widget-view+json": {
       "model_id": "6bd547e8987443c0800e9a5f03f11881",
       "version_major": 2,
       "version_minor": 0
      },
      "text/plain": [
       "VBox(children=(Label(value='0.002 MB of 0.005 MB uploaded (0.000 MB deduped)\\r'), FloatProgress(value=0.506893…"
      ]
     },
     "metadata": {},
     "output_type": "display_data"
    },
    {
     "data": {
      "text/html": [
       " View run <strong style=\"color:#cdcd00\">absurd-monkey-20</strong> at: <a href='https://wandb.ai/srujana-vanka/assignment3-smai/runs/bnyw9m72' target=\"_blank\">https://wandb.ai/srujana-vanka/assignment3-smai/runs/bnyw9m72</a><br/>Synced 4 W&B file(s), 0 media file(s), 0 artifact file(s) and 0 other file(s)"
      ],
      "text/plain": [
       "<IPython.core.display.HTML object>"
      ]
     },
     "metadata": {},
     "output_type": "display_data"
    },
    {
     "data": {
      "text/html": [
       "Find logs at: <code>./wandb/run-20231022_203809-bnyw9m72/logs</code>"
      ],
      "text/plain": [
       "<IPython.core.display.HTML object>"
      ]
     },
     "metadata": {},
     "output_type": "display_data"
    },
    {
     "data": {
      "text/html": [
       "Successfully finished last run (ID:bnyw9m72). Initializing new run:<br/>"
      ],
      "text/plain": [
       "<IPython.core.display.HTML object>"
      ]
     },
     "metadata": {},
     "output_type": "display_data"
    },
    {
     "data": {
      "application/vnd.jupyter.widget-view+json": {
       "model_id": "a95769e8bc5f4b458957a19dd67ad209",
       "version_major": 2,
       "version_minor": 0
      },
      "text/plain": [
       "VBox(children=(Label(value='Waiting for wandb.init()...\\r'), FloatProgress(value=0.011113795644450874, max=1.0…"
      ]
     },
     "metadata": {},
     "output_type": "display_data"
    },
    {
     "data": {
      "text/html": [
       "wandb version 0.15.12 is available!  To upgrade, please run:\n",
       " $ pip install wandb --upgrade"
      ],
      "text/plain": [
       "<IPython.core.display.HTML object>"
      ]
     },
     "metadata": {},
     "output_type": "display_data"
    },
    {
     "data": {
      "text/html": [
       "Tracking run with wandb version 0.15.11"
      ],
      "text/plain": [
       "<IPython.core.display.HTML object>"
      ]
     },
     "metadata": {},
     "output_type": "display_data"
    },
    {
     "data": {
      "text/html": [
       "Run data is saved locally in <code>/home/sruj/jupyter/wandb/run-20231022_203937-ap3itzs7</code>"
      ],
      "text/plain": [
       "<IPython.core.display.HTML object>"
      ]
     },
     "metadata": {},
     "output_type": "display_data"
    },
    {
     "data": {
      "text/html": [
       "Syncing run <strong><a href='https://wandb.ai/srujana-vanka/assignment3-smai/runs/ap3itzs7' target=\"_blank\">sleek-dawn-21</a></strong> to <a href='https://wandb.ai/srujana-vanka/assignment3-smai' target=\"_blank\">Weights & Biases</a> (<a href='https://wandb.me/run' target=\"_blank\">docs</a>)<br/>"
      ],
      "text/plain": [
       "<IPython.core.display.HTML object>"
      ]
     },
     "metadata": {},
     "output_type": "display_data"
    },
    {
     "data": {
      "text/html": [
       " View project at <a href='https://wandb.ai/srujana-vanka/assignment3-smai' target=\"_blank\">https://wandb.ai/srujana-vanka/assignment3-smai</a>"
      ],
      "text/plain": [
       "<IPython.core.display.HTML object>"
      ]
     },
     "metadata": {},
     "output_type": "display_data"
    },
    {
     "data": {
      "text/html": [
       " View run at <a href='https://wandb.ai/srujana-vanka/assignment3-smai/runs/ap3itzs7' target=\"_blank\">https://wandb.ai/srujana-vanka/assignment3-smai/runs/ap3itzs7</a>"
      ],
      "text/plain": [
       "<IPython.core.display.HTML object>"
      ]
     },
     "metadata": {},
     "output_type": "display_data"
    },
    {
     "data": {
      "text/html": [
       "Waiting for W&B process to finish... <strong style=\"color:green\">(success).</strong>"
      ],
      "text/plain": [
       "<IPython.core.display.HTML object>"
      ]
     },
     "metadata": {},
     "output_type": "display_data"
    },
    {
     "data": {
      "application/vnd.jupyter.widget-view+json": {
       "model_id": "209f7679a0b84efe8c3c7cbc785d4380",
       "version_major": 2,
       "version_minor": 0
      },
      "text/plain": [
       "VBox(children=(Label(value='0.002 MB of 0.002 MB uploaded (0.000 MB deduped)\\r'), FloatProgress(value=0.836428…"
      ]
     },
     "metadata": {},
     "output_type": "display_data"
    },
    {
     "data": {
      "text/html": [
       "<style>\n",
       "    table.wandb td:nth-child(1) { padding: 0 10px; text-align: left ; width: auto;} td:nth-child(2) {text-align: left ; width: 100%}\n",
       "    .wandb-row { display: flex; flex-direction: row; flex-wrap: wrap; justify-content: flex-start; width: 100% }\n",
       "    .wandb-col { display: flex; flex-direction: column; flex-basis: 100%; flex: 1; padding: 10px; }\n",
       "    </style>\n",
       "<div class=\"wandb-row\"><div class=\"wandb-col\"><h3>Run history:</h3><br/><table class=\"wandb\"><tr><td>MSE (Validation)</td><td>▁</td></tr></table><br/></div><div class=\"wandb-col\"><h3>Run summary:</h3><br/><table class=\"wandb\"><tr><td>MSE (Validation)</td><td>18.51132</td></tr></table><br/></div></div>"
      ],
      "text/plain": [
       "<IPython.core.display.HTML object>"
      ]
     },
     "metadata": {},
     "output_type": "display_data"
    },
    {
     "data": {
      "text/html": [
       " View run <strong style=\"color:#cdcd00\">sleek-dawn-21</strong> at: <a href='https://wandb.ai/srujana-vanka/assignment3-smai/runs/ap3itzs7' target=\"_blank\">https://wandb.ai/srujana-vanka/assignment3-smai/runs/ap3itzs7</a><br/>Synced 4 W&B file(s), 0 media file(s), 0 artifact file(s) and 0 other file(s)"
      ],
      "text/plain": [
       "<IPython.core.display.HTML object>"
      ]
     },
     "metadata": {},
     "output_type": "display_data"
    },
    {
     "data": {
      "text/html": [
       "Find logs at: <code>./wandb/run-20231022_203937-ap3itzs7/logs</code>"
      ],
      "text/plain": [
       "<IPython.core.display.HTML object>"
      ]
     },
     "metadata": {},
     "output_type": "display_data"
    }
   ],
   "source": [
    "import wandb\n",
    "\n",
    "# Initialize W&B\n",
    "wandb.init(project='assignment3-smai')\n",
    "\n",
    "mlp = MLPRegressor(hidden_layer_sizes=(64, 32), activation='relu', solver='adam', alpha=0.0001, random_state=42, max_iter=1000)\n",
    "mlp.fit(X_train, y_train)\n",
    "\n",
    "# Inside training loop or after each epoch, calculate the MSE on the validation set\n",
    "y_pred_valid = mlp.predict(X_valid)  \n",
    "\n",
    "# Calculate MSE on the validation set\n",
    "mse_valid = mean_squared_error(y_valid, y_pred_valid)\n",
    "\n",
    "wandb.log({\"MSE (Validation)\": mse_valid})\n",
    "wandb.finish()\n"
   ]
  },
  {
   "cell_type": "markdown",
   "id": "60ca79d9-9b65-4a53-a50a-cbcbf7f86728",
   "metadata": {},
   "source": [
    "### 2. Report metrics: MSE, RMSE, R-squared"
   ]
  },
  {
   "cell_type": "code",
   "execution_count": 66,
   "id": "31349e1d-30b1-49bf-a9a3-9e865358458c",
   "metadata": {},
   "outputs": [
    {
     "data": {
      "text/html": [
       "wandb version 0.15.12 is available!  To upgrade, please run:\n",
       " $ pip install wandb --upgrade"
      ],
      "text/plain": [
       "<IPython.core.display.HTML object>"
      ]
     },
     "metadata": {},
     "output_type": "display_data"
    },
    {
     "data": {
      "text/html": [
       "Tracking run with wandb version 0.15.11"
      ],
      "text/plain": [
       "<IPython.core.display.HTML object>"
      ]
     },
     "metadata": {},
     "output_type": "display_data"
    },
    {
     "data": {
      "text/html": [
       "Run data is saved locally in <code>/home/sruj/jupyter/wandb/run-20231022_204216-xjr8hjue</code>"
      ],
      "text/plain": [
       "<IPython.core.display.HTML object>"
      ]
     },
     "metadata": {},
     "output_type": "display_data"
    },
    {
     "data": {
      "text/html": [
       "Syncing run <strong><a href='https://wandb.ai/srujana-vanka/assignment3-smai/runs/xjr8hjue' target=\"_blank\">elated-dawn-23</a></strong> to <a href='https://wandb.ai/srujana-vanka/assignment3-smai' target=\"_blank\">Weights & Biases</a> (<a href='https://wandb.me/run' target=\"_blank\">docs</a>)<br/>"
      ],
      "text/plain": [
       "<IPython.core.display.HTML object>"
      ]
     },
     "metadata": {},
     "output_type": "display_data"
    },
    {
     "data": {
      "text/html": [
       " View project at <a href='https://wandb.ai/srujana-vanka/assignment3-smai' target=\"_blank\">https://wandb.ai/srujana-vanka/assignment3-smai</a>"
      ],
      "text/plain": [
       "<IPython.core.display.HTML object>"
      ]
     },
     "metadata": {},
     "output_type": "display_data"
    },
    {
     "data": {
      "text/html": [
       " View run at <a href='https://wandb.ai/srujana-vanka/assignment3-smai/runs/xjr8hjue' target=\"_blank\">https://wandb.ai/srujana-vanka/assignment3-smai/runs/xjr8hjue</a>"
      ],
      "text/plain": [
       "<IPython.core.display.HTML object>"
      ]
     },
     "metadata": {},
     "output_type": "display_data"
    },
    {
     "name": "stdout",
     "output_type": "stream",
     "text": [
      "Mean Squared Error (MSE): 18.51\n",
      "Root Mean Squared Error (RMSE): 4.30\n",
      "R-squared (R2) Score: 0.71\n"
     ]
    },
    {
     "data": {
      "text/html": [
       "Waiting for W&B process to finish... <strong style=\"color:green\">(success).</strong>"
      ],
      "text/plain": [
       "<IPython.core.display.HTML object>"
      ]
     },
     "metadata": {},
     "output_type": "display_data"
    },
    {
     "data": {
      "text/html": [
       "<style>\n",
       "    table.wandb td:nth-child(1) { padding: 0 10px; text-align: left ; width: auto;} td:nth-child(2) {text-align: left ; width: 100%}\n",
       "    .wandb-row { display: flex; flex-direction: row; flex-wrap: wrap; justify-content: flex-start; width: 100% }\n",
       "    .wandb-col { display: flex; flex-direction: column; flex-basis: 100%; flex: 1; padding: 10px; }\n",
       "    </style>\n",
       "<div class=\"wandb-row\"><div class=\"wandb-col\"><h3>Run history:</h3><br/><table class=\"wandb\"><tr><td>Validation Set MSE</td><td>▁</td></tr><tr><td>Validation Set R-squared</td><td>▁</td></tr><tr><td>Validation Set RMSE</td><td>▁</td></tr></table><br/></div><div class=\"wandb-col\"><h3>Run summary:</h3><br/><table class=\"wandb\"><tr><td>Validation Set MSE</td><td>18.51132</td></tr><tr><td>Validation Set R-squared</td><td>0.70753</td></tr><tr><td>Validation Set RMSE</td><td>4.30248</td></tr></table><br/></div></div>"
      ],
      "text/plain": [
       "<IPython.core.display.HTML object>"
      ]
     },
     "metadata": {},
     "output_type": "display_data"
    },
    {
     "data": {
      "text/html": [
       " View run <strong style=\"color:#cdcd00\">elated-dawn-23</strong> at: <a href='https://wandb.ai/srujana-vanka/assignment3-smai/runs/xjr8hjue' target=\"_blank\">https://wandb.ai/srujana-vanka/assignment3-smai/runs/xjr8hjue</a><br/>Synced 5 W&B file(s), 0 media file(s), 0 artifact file(s) and 0 other file(s)"
      ],
      "text/plain": [
       "<IPython.core.display.HTML object>"
      ]
     },
     "metadata": {},
     "output_type": "display_data"
    },
    {
     "data": {
      "text/html": [
       "Find logs at: <code>./wandb/run-20231022_204216-xjr8hjue/logs</code>"
      ],
      "text/plain": [
       "<IPython.core.display.HTML object>"
      ]
     },
     "metadata": {},
     "output_type": "display_data"
    }
   ],
   "source": [
    "\n",
    "# Initialize W&B run\n",
    "wandb.init(project='assignment3-smai')\n",
    "\n",
    "# Make predictions on the validation set\n",
    "y_pred_valid = mlp.predict(X_valid)\n",
    "\n",
    "# Calculate evaluation metrics (MSE, RMSE, R2) for the validation set\n",
    "mse = mean_squared_error(y_valid, y_pred_valid)\n",
    "rmse = np.sqrt(mse)\n",
    "r2 = r_squared(y_valid, y_pred_valid) \n",
    "\n",
    "# Log the validation set scores to W&B\n",
    "wandb.log({\"Validation Set MSE\": mse, \"Validation Set RMSE\": rmse, \"Validation Set R-squared\": r2})\n",
    "\n",
    "# Print the metrics\n",
    "print(f\"Mean Squared Error (MSE): {mse:.2f}\")\n",
    "print(f\"Root Mean Squared Error (RMSE): {rmse:.2f}\")\n",
    "print(f\"R-squared (R2) Score: {r2:.2f}\")\n",
    "\n",
    "# Finish the W&B run\n",
    "wandb.finish()\n"
   ]
  },
  {
   "cell_type": "markdown",
   "id": "9c73187a-8696-43a4-96da-8484b4cb5b58",
   "metadata": {},
   "source": [
    "### 3. Report the scores(ordered) for all the combinations of : • Activation functions : sigmoid, tanh and ReLU and • Optimizers : SGD, batch gradient descent and mini-batch gradient descent "
   ]
  },
  {
   "cell_type": "code",
   "execution_count": 54,
   "id": "e5c0e768-aabe-44d4-9710-3526fb3c35a5",
   "metadata": {},
   "outputs": [
    {
     "data": {
      "text/html": [
       "wandb version 0.15.12 is available!  To upgrade, please run:\n",
       " $ pip install wandb --upgrade"
      ],
      "text/plain": [
       "<IPython.core.display.HTML object>"
      ]
     },
     "metadata": {},
     "output_type": "display_data"
    },
    {
     "data": {
      "text/html": [
       "Tracking run with wandb version 0.15.11"
      ],
      "text/plain": [
       "<IPython.core.display.HTML object>"
      ]
     },
     "metadata": {},
     "output_type": "display_data"
    },
    {
     "data": {
      "text/html": [
       "Run data is saved locally in <code>/home/sruj/jupyter/wandb/run-20231022_185405-fboyw2si</code>"
      ],
      "text/plain": [
       "<IPython.core.display.HTML object>"
      ]
     },
     "metadata": {},
     "output_type": "display_data"
    },
    {
     "data": {
      "text/html": [
       "Syncing run <strong><a href='https://wandb.ai/srujana-vanka/assignment3-smai/runs/fboyw2si' target=\"_blank\">clear-monkey-19</a></strong> to <a href='https://wandb.ai/srujana-vanka/assignment3-smai' target=\"_blank\">Weights & Biases</a> (<a href='https://wandb.me/run' target=\"_blank\">docs</a>)<br/>"
      ],
      "text/plain": [
       "<IPython.core.display.HTML object>"
      ]
     },
     "metadata": {},
     "output_type": "display_data"
    },
    {
     "data": {
      "text/html": [
       " View project at <a href='https://wandb.ai/srujana-vanka/assignment3-smai' target=\"_blank\">https://wandb.ai/srujana-vanka/assignment3-smai</a>"
      ],
      "text/plain": [
       "<IPython.core.display.HTML object>"
      ]
     },
     "metadata": {},
     "output_type": "display_data"
    },
    {
     "data": {
      "text/html": [
       " View run at <a href='https://wandb.ai/srujana-vanka/assignment3-smai/runs/fboyw2si' target=\"_blank\">https://wandb.ai/srujana-vanka/assignment3-smai/runs/fboyw2si</a>"
      ],
      "text/plain": [
       "<IPython.core.display.HTML object>"
      ]
     },
     "metadata": {},
     "output_type": "display_data"
    },
    {
     "name": "stderr",
     "output_type": "stream",
     "text": [
      "/home/sruj/jupyter/environment/lib/python3.8/site-packages/sklearn/neural_network/_multilayer_perceptron.py:691: ConvergenceWarning: Stochastic Optimizer: Maximum iterations (1000) reached and the optimization hasn't converged yet.\n",
      "  warnings.warn(\n",
      "/home/sruj/jupyter/environment/lib/python3.8/site-packages/sklearn/neural_network/_multilayer_perceptron.py:546: ConvergenceWarning: lbfgs failed to converge (status=1):\n",
      "STOP: TOTAL NO. of ITERATIONS REACHED LIMIT.\n",
      "\n",
      "Increase the number of iterations (max_iter) or scale the data as shown in:\n",
      "    https://scikit-learn.org/stable/modules/preprocessing.html\n",
      "  self.n_iter_ = _check_optimize_result(\"lbfgs\", opt_res, self.max_iter)\n",
      "/home/sruj/jupyter/environment/lib/python3.8/site-packages/sklearn/neural_network/_multilayer_perceptron.py:691: ConvergenceWarning: Stochastic Optimizer: Maximum iterations (1000) reached and the optimization hasn't converged yet.\n",
      "  warnings.warn(\n",
      "/home/sruj/jupyter/environment/lib/python3.8/site-packages/sklearn/neural_network/_multilayer_perceptron.py:546: ConvergenceWarning: lbfgs failed to converge (status=1):\n",
      "STOP: TOTAL NO. of ITERATIONS REACHED LIMIT.\n",
      "\n",
      "Increase the number of iterations (max_iter) or scale the data as shown in:\n",
      "    https://scikit-learn.org/stable/modules/preprocessing.html\n",
      "  self.n_iter_ = _check_optimize_result(\"lbfgs\", opt_res, self.max_iter)\n",
      "/home/sruj/jupyter/environment/lib/python3.8/site-packages/sklearn/neural_network/_multilayer_perceptron.py:546: ConvergenceWarning: lbfgs failed to converge (status=1):\n",
      "STOP: TOTAL NO. of ITERATIONS REACHED LIMIT.\n",
      "\n",
      "Increase the number of iterations (max_iter) or scale the data as shown in:\n",
      "    https://scikit-learn.org/stable/modules/preprocessing.html\n",
      "  self.n_iter_ = _check_optimize_result(\"lbfgs\", opt_res, self.max_iter)\n"
     ]
    },
    {
     "data": {
      "text/html": [
       "Waiting for W&B process to finish... <strong style=\"color:green\">(success).</strong>"
      ],
      "text/plain": [
       "<IPython.core.display.HTML object>"
      ]
     },
     "metadata": {},
     "output_type": "display_data"
    },
    {
     "data": {
      "application/vnd.jupyter.widget-view+json": {
       "model_id": "14dba593a75f4b2a832238dcaa52df1f",
       "version_major": 2,
       "version_minor": 0
      },
      "text/plain": [
       "VBox(children=(Label(value='0.002 MB of 0.002 MB uploaded (0.000 MB deduped)\\r'), FloatProgress(value=0.836815…"
      ]
     },
     "metadata": {},
     "output_type": "display_data"
    },
    {
     "data": {
      "text/html": [
       "<style>\n",
       "    table.wandb td:nth-child(1) { padding: 0 10px; text-align: left ; width: auto;} td:nth-child(2) {text-align: left ; width: 100%}\n",
       "    .wandb-row { display: flex; flex-direction: row; flex-wrap: wrap; justify-content: flex-start; width: 100% }\n",
       "    .wandb-col { display: flex; flex-direction: column; flex-basis: 100%; flex: 1; padding: 10px; }\n",
       "    </style>\n",
       "<div class=\"wandb-row\"><div class=\"wandb-col\"><h3>Run history:</h3><br/><table class=\"wandb\"><tr><td>MSE</td><td>▄▃▁▁▁▃▂▁█</td></tr><tr><td>R2</td><td>▅▆███▆▇█▁</td></tr><tr><td>RMSE</td><td>▄▄▁▁▂▃▂▂█</td></tr></table><br/></div><div class=\"wandb-col\"><h3>Run summary:</h3><br/><table class=\"wandb\"><tr><td>Activation Function</td><td>relu</td></tr><tr><td>MSE</td><td>49.7648</td></tr><tr><td>Optimizer</td><td>lbfgs</td></tr><tr><td>R2</td><td>0.21374</td></tr><tr><td>RMSE</td><td>7.05442</td></tr></table><br/></div></div>"
      ],
      "text/plain": [
       "<IPython.core.display.HTML object>"
      ]
     },
     "metadata": {},
     "output_type": "display_data"
    },
    {
     "data": {
      "text/html": [
       " View run <strong style=\"color:#cdcd00\">clear-monkey-19</strong> at: <a href='https://wandb.ai/srujana-vanka/assignment3-smai/runs/fboyw2si' target=\"_blank\">https://wandb.ai/srujana-vanka/assignment3-smai/runs/fboyw2si</a><br/>Synced 5 W&B file(s), 0 media file(s), 0 artifact file(s) and 0 other file(s)"
      ],
      "text/plain": [
       "<IPython.core.display.HTML object>"
      ]
     },
     "metadata": {},
     "output_type": "display_data"
    },
    {
     "data": {
      "text/html": [
       "Find logs at: <code>./wandb/run-20231022_185405-fboyw2si/logs</code>"
      ],
      "text/plain": [
       "<IPython.core.display.HTML object>"
      ]
     },
     "metadata": {},
     "output_type": "display_data"
    }
   ],
   "source": [
    "from sklearn.neural_network import MLPRegressor\n",
    "import numpy as np\n",
    "from sklearn.metrics import mean_squared_error, r2_score\n",
    "\n",
    "# List of activation functions and a list of optimizers\n",
    "activation_functions = ['logistic', 'tanh', 'relu']\n",
    "optimizers = ['sgd', 'adam', 'lbfgs']\n",
    "\n",
    "# Initialize W&B\n",
    "wandb.init(project='assignment3-smai')\n",
    "\n",
    "# Loop over all combinations.\n",
    "for activation in activation_functions:\n",
    "    for optimizer in optimizers:\n",
    "        \n",
    "        mlp = MLPRegression(hidden_layer_sizes=(64, 32), activation=activation, solver=optimizer, random_state=42, max_iter=1000)\n",
    "        mlp.fit(X_train, y_train)\n",
    "        y_pred_valid = mlp.predict(X_valid)\n",
    "\n",
    "        # Calculate evaluation metrics (MSE, RMSE, R2).\n",
    "        mse = mean_squared_error(y_valid, y_pred_valid)\n",
    "        rmse = np.sqrt(mse)\n",
    "        r2 = r_squared(y_valid, y_pred_valid)\n",
    "\n",
    "        # Log the scores for the current combination to W&B.\n",
    "        wandb.log({\n",
    "            \"Activation Function\": activation,\n",
    "            \"Optimizer\": optimizer,\n",
    "            \"MSE\": mse,\n",
    "            \"RMSE\": rmse,\n",
    "            \"R2\": r2\n",
    "        })\n",
    "\n",
    "# Finish the W&B run.\n",
    "wandb.finish()\n"
   ]
  },
  {
   "cell_type": "markdown",
   "id": "dd4f8119-c038-4e07-a403-df75f84d6753",
   "metadata": {},
   "source": [
    "### 4. Tune your model on various hyperparameters, such as learning rate, epochs, and hidden layer neurons"
   ]
  },
  {
   "cell_type": "code",
   "execution_count": 60,
   "id": "f401524f-6872-4f25-9c90-3b27779f8e7a",
   "metadata": {},
   "outputs": [
    {
     "name": "stderr",
     "output_type": "stream",
     "text": [
      "/home/sruj/jupyter/environment/lib/python3.8/site-packages/sklearn/neural_network/_multilayer_perceptron.py:691: ConvergenceWarning: Stochastic Optimizer: Maximum iterations (2000) reached and the optimization hasn't converged yet.\n",
      "  warnings.warn(\n",
      "/home/sruj/jupyter/environment/lib/python3.8/site-packages/sklearn/neural_network/_multilayer_perceptron.py:691: ConvergenceWarning: Stochastic Optimizer: Maximum iterations (2000) reached and the optimization hasn't converged yet.\n",
      "  warnings.warn(\n",
      "/home/sruj/jupyter/environment/lib/python3.8/site-packages/sklearn/neural_network/_multilayer_perceptron.py:691: ConvergenceWarning: Stochastic Optimizer: Maximum iterations (2000) reached and the optimization hasn't converged yet.\n",
      "  warnings.warn(\n",
      "/home/sruj/jupyter/environment/lib/python3.8/site-packages/sklearn/neural_network/_multilayer_perceptron.py:691: ConvergenceWarning: Stochastic Optimizer: Maximum iterations (2000) reached and the optimization hasn't converged yet.\n",
      "  warnings.warn(\n",
      "/home/sruj/jupyter/environment/lib/python3.8/site-packages/sklearn/neural_network/_multilayer_perceptron.py:691: ConvergenceWarning: Stochastic Optimizer: Maximum iterations (2000) reached and the optimization hasn't converged yet.\n",
      "  warnings.warn(\n",
      "/home/sruj/jupyter/environment/lib/python3.8/site-packages/sklearn/neural_network/_multilayer_perceptron.py:546: ConvergenceWarning: lbfgs failed to converge (status=1):\n",
      "STOP: TOTAL NO. of ITERATIONS REACHED LIMIT.\n",
      "\n",
      "Increase the number of iterations (max_iter) or scale the data as shown in:\n",
      "    https://scikit-learn.org/stable/modules/preprocessing.html\n",
      "  self.n_iter_ = _check_optimize_result(\"lbfgs\", opt_res, self.max_iter)\n",
      "/home/sruj/jupyter/environment/lib/python3.8/site-packages/sklearn/neural_network/_multilayer_perceptron.py:691: ConvergenceWarning: Stochastic Optimizer: Maximum iterations (3000) reached and the optimization hasn't converged yet.\n",
      "  warnings.warn(\n",
      "/home/sruj/jupyter/environment/lib/python3.8/site-packages/sklearn/neural_network/_multilayer_perceptron.py:691: ConvergenceWarning: Stochastic Optimizer: Maximum iterations (3000) reached and the optimization hasn't converged yet.\n",
      "  warnings.warn(\n",
      "/home/sruj/jupyter/environment/lib/python3.8/site-packages/sklearn/neural_network/_multilayer_perceptron.py:691: ConvergenceWarning: Stochastic Optimizer: Maximum iterations (3000) reached and the optimization hasn't converged yet.\n",
      "  warnings.warn(\n",
      "/home/sruj/jupyter/environment/lib/python3.8/site-packages/sklearn/neural_network/_multilayer_perceptron.py:691: ConvergenceWarning: Stochastic Optimizer: Maximum iterations (3000) reached and the optimization hasn't converged yet.\n",
      "  warnings.warn(\n",
      "/home/sruj/jupyter/environment/lib/python3.8/site-packages/sklearn/neural_network/_multilayer_perceptron.py:691: ConvergenceWarning: Stochastic Optimizer: Maximum iterations (3000) reached and the optimization hasn't converged yet.\n",
      "  warnings.warn(\n",
      "/home/sruj/jupyter/environment/lib/python3.8/site-packages/sklearn/neural_network/_multilayer_perceptron.py:546: ConvergenceWarning: lbfgs failed to converge (status=1):\n",
      "STOP: TOTAL NO. of ITERATIONS REACHED LIMIT.\n",
      "\n",
      "Increase the number of iterations (max_iter) or scale the data as shown in:\n",
      "    https://scikit-learn.org/stable/modules/preprocessing.html\n",
      "  self.n_iter_ = _check_optimize_result(\"lbfgs\", opt_res, self.max_iter)\n",
      "/home/sruj/jupyter/environment/lib/python3.8/site-packages/sklearn/neural_network/_multilayer_perceptron.py:546: ConvergenceWarning: lbfgs failed to converge (status=1):\n",
      "STOP: TOTAL NO. of ITERATIONS REACHED LIMIT.\n",
      "\n",
      "Increase the number of iterations (max_iter) or scale the data as shown in:\n",
      "    https://scikit-learn.org/stable/modules/preprocessing.html\n",
      "  self.n_iter_ = _check_optimize_result(\"lbfgs\", opt_res, self.max_iter)\n",
      "/home/sruj/jupyter/environment/lib/python3.8/site-packages/sklearn/neural_network/_multilayer_perceptron.py:546: ConvergenceWarning: lbfgs failed to converge (status=1):\n",
      "STOP: TOTAL NO. of ITERATIONS REACHED LIMIT.\n",
      "\n",
      "Increase the number of iterations (max_iter) or scale the data as shown in:\n",
      "    https://scikit-learn.org/stable/modules/preprocessing.html\n",
      "  self.n_iter_ = _check_optimize_result(\"lbfgs\", opt_res, self.max_iter)\n",
      "/home/sruj/jupyter/environment/lib/python3.8/site-packages/sklearn/neural_network/_multilayer_perceptron.py:546: ConvergenceWarning: lbfgs failed to converge (status=1):\n",
      "STOP: TOTAL NO. of ITERATIONS REACHED LIMIT.\n",
      "\n",
      "Increase the number of iterations (max_iter) or scale the data as shown in:\n",
      "    https://scikit-learn.org/stable/modules/preprocessing.html\n",
      "  self.n_iter_ = _check_optimize_result(\"lbfgs\", opt_res, self.max_iter)\n",
      "/home/sruj/jupyter/environment/lib/python3.8/site-packages/sklearn/neural_network/_multilayer_perceptron.py:546: ConvergenceWarning: lbfgs failed to converge (status=1):\n",
      "STOP: TOTAL NO. of ITERATIONS REACHED LIMIT.\n",
      "\n",
      "Increase the number of iterations (max_iter) or scale the data as shown in:\n",
      "    https://scikit-learn.org/stable/modules/preprocessing.html\n",
      "  self.n_iter_ = _check_optimize_result(\"lbfgs\", opt_res, self.max_iter)\n",
      "/home/sruj/jupyter/environment/lib/python3.8/site-packages/sklearn/neural_network/_multilayer_perceptron.py:691: ConvergenceWarning: Stochastic Optimizer: Maximum iterations (2000) reached and the optimization hasn't converged yet.\n",
      "  warnings.warn(\n",
      "/home/sruj/jupyter/environment/lib/python3.8/site-packages/sklearn/neural_network/_multilayer_perceptron.py:691: ConvergenceWarning: Stochastic Optimizer: Maximum iterations (2000) reached and the optimization hasn't converged yet.\n",
      "  warnings.warn(\n",
      "/home/sruj/jupyter/environment/lib/python3.8/site-packages/sklearn/neural_network/_multilayer_perceptron.py:691: ConvergenceWarning: Stochastic Optimizer: Maximum iterations (2000) reached and the optimization hasn't converged yet.\n",
      "  warnings.warn(\n",
      "/home/sruj/jupyter/environment/lib/python3.8/site-packages/sklearn/neural_network/_multilayer_perceptron.py:691: ConvergenceWarning: Stochastic Optimizer: Maximum iterations (2000) reached and the optimization hasn't converged yet.\n",
      "  warnings.warn(\n",
      "/home/sruj/jupyter/environment/lib/python3.8/site-packages/sklearn/neural_network/_multilayer_perceptron.py:691: ConvergenceWarning: Stochastic Optimizer: Maximum iterations (2000) reached and the optimization hasn't converged yet.\n",
      "  warnings.warn(\n",
      "/home/sruj/jupyter/environment/lib/python3.8/site-packages/sklearn/neural_network/_multilayer_perceptron.py:546: ConvergenceWarning: lbfgs failed to converge (status=1):\n",
      "STOP: TOTAL NO. of ITERATIONS REACHED LIMIT.\n",
      "\n",
      "Increase the number of iterations (max_iter) or scale the data as shown in:\n",
      "    https://scikit-learn.org/stable/modules/preprocessing.html\n",
      "  self.n_iter_ = _check_optimize_result(\"lbfgs\", opt_res, self.max_iter)\n",
      "/home/sruj/jupyter/environment/lib/python3.8/site-packages/sklearn/neural_network/_multilayer_perceptron.py:691: ConvergenceWarning: Stochastic Optimizer: Maximum iterations (3000) reached and the optimization hasn't converged yet.\n",
      "  warnings.warn(\n",
      "/home/sruj/jupyter/environment/lib/python3.8/site-packages/sklearn/neural_network/_multilayer_perceptron.py:691: ConvergenceWarning: Stochastic Optimizer: Maximum iterations (3000) reached and the optimization hasn't converged yet.\n",
      "  warnings.warn(\n",
      "/home/sruj/jupyter/environment/lib/python3.8/site-packages/sklearn/neural_network/_multilayer_perceptron.py:691: ConvergenceWarning: Stochastic Optimizer: Maximum iterations (3000) reached and the optimization hasn't converged yet.\n",
      "  warnings.warn(\n",
      "/home/sruj/jupyter/environment/lib/python3.8/site-packages/sklearn/neural_network/_multilayer_perceptron.py:691: ConvergenceWarning: Stochastic Optimizer: Maximum iterations (3000) reached and the optimization hasn't converged yet.\n",
      "  warnings.warn(\n",
      "/home/sruj/jupyter/environment/lib/python3.8/site-packages/sklearn/neural_network/_multilayer_perceptron.py:691: ConvergenceWarning: Stochastic Optimizer: Maximum iterations (3000) reached and the optimization hasn't converged yet.\n",
      "  warnings.warn(\n",
      "/home/sruj/jupyter/environment/lib/python3.8/site-packages/sklearn/neural_network/_multilayer_perceptron.py:546: ConvergenceWarning: lbfgs failed to converge (status=1):\n",
      "STOP: TOTAL NO. of ITERATIONS REACHED LIMIT.\n",
      "\n",
      "Increase the number of iterations (max_iter) or scale the data as shown in:\n",
      "    https://scikit-learn.org/stable/modules/preprocessing.html\n",
      "  self.n_iter_ = _check_optimize_result(\"lbfgs\", opt_res, self.max_iter)\n",
      "/home/sruj/jupyter/environment/lib/python3.8/site-packages/sklearn/neural_network/_multilayer_perceptron.py:546: ConvergenceWarning: lbfgs failed to converge (status=1):\n",
      "STOP: TOTAL NO. of ITERATIONS REACHED LIMIT.\n",
      "\n",
      "Increase the number of iterations (max_iter) or scale the data as shown in:\n",
      "    https://scikit-learn.org/stable/modules/preprocessing.html\n",
      "  self.n_iter_ = _check_optimize_result(\"lbfgs\", opt_res, self.max_iter)\n",
      "/home/sruj/jupyter/environment/lib/python3.8/site-packages/sklearn/neural_network/_multilayer_perceptron.py:691: ConvergenceWarning: Stochastic Optimizer: Maximum iterations (2000) reached and the optimization hasn't converged yet.\n",
      "  warnings.warn(\n",
      "/home/sruj/jupyter/environment/lib/python3.8/site-packages/sklearn/neural_network/_multilayer_perceptron.py:691: ConvergenceWarning: Stochastic Optimizer: Maximum iterations (2000) reached and the optimization hasn't converged yet.\n",
      "  warnings.warn(\n",
      "/home/sruj/jupyter/environment/lib/python3.8/site-packages/sklearn/neural_network/_multilayer_perceptron.py:691: ConvergenceWarning: Stochastic Optimizer: Maximum iterations (2000) reached and the optimization hasn't converged yet.\n",
      "  warnings.warn(\n",
      "/home/sruj/jupyter/environment/lib/python3.8/site-packages/sklearn/neural_network/_multilayer_perceptron.py:691: ConvergenceWarning: Stochastic Optimizer: Maximum iterations (2000) reached and the optimization hasn't converged yet.\n",
      "  warnings.warn(\n",
      "/home/sruj/jupyter/environment/lib/python3.8/site-packages/sklearn/neural_network/_multilayer_perceptron.py:691: ConvergenceWarning: Stochastic Optimizer: Maximum iterations (2000) reached and the optimization hasn't converged yet.\n",
      "  warnings.warn(\n",
      "/home/sruj/jupyter/environment/lib/python3.8/site-packages/sklearn/neural_network/_multilayer_perceptron.py:691: ConvergenceWarning: Stochastic Optimizer: Maximum iterations (3000) reached and the optimization hasn't converged yet.\n",
      "  warnings.warn(\n",
      "/home/sruj/jupyter/environment/lib/python3.8/site-packages/sklearn/neural_network/_multilayer_perceptron.py:691: ConvergenceWarning: Stochastic Optimizer: Maximum iterations (3000) reached and the optimization hasn't converged yet.\n",
      "  warnings.warn(\n",
      "/home/sruj/jupyter/environment/lib/python3.8/site-packages/sklearn/neural_network/_multilayer_perceptron.py:691: ConvergenceWarning: Stochastic Optimizer: Maximum iterations (3000) reached and the optimization hasn't converged yet.\n",
      "  warnings.warn(\n",
      "/home/sruj/jupyter/environment/lib/python3.8/site-packages/sklearn/neural_network/_multilayer_perceptron.py:691: ConvergenceWarning: Stochastic Optimizer: Maximum iterations (3000) reached and the optimization hasn't converged yet.\n",
      "  warnings.warn(\n",
      "/home/sruj/jupyter/environment/lib/python3.8/site-packages/sklearn/neural_network/_multilayer_perceptron.py:691: ConvergenceWarning: Stochastic Optimizer: Maximum iterations (3000) reached and the optimization hasn't converged yet.\n",
      "  warnings.warn(\n",
      "/home/sruj/jupyter/environment/lib/python3.8/site-packages/sklearn/neural_network/_multilayer_perceptron.py:691: ConvergenceWarning: Stochastic Optimizer: Maximum iterations (2000) reached and the optimization hasn't converged yet.\n",
      "  warnings.warn(\n",
      "/home/sruj/jupyter/environment/lib/python3.8/site-packages/sklearn/neural_network/_multilayer_perceptron.py:691: ConvergenceWarning: Stochastic Optimizer: Maximum iterations (2000) reached and the optimization hasn't converged yet.\n",
      "  warnings.warn(\n",
      "/home/sruj/jupyter/environment/lib/python3.8/site-packages/sklearn/neural_network/_multilayer_perceptron.py:691: ConvergenceWarning: Stochastic Optimizer: Maximum iterations (2000) reached and the optimization hasn't converged yet.\n",
      "  warnings.warn(\n",
      "/home/sruj/jupyter/environment/lib/python3.8/site-packages/sklearn/neural_network/_multilayer_perceptron.py:691: ConvergenceWarning: Stochastic Optimizer: Maximum iterations (2000) reached and the optimization hasn't converged yet.\n",
      "  warnings.warn(\n",
      "/home/sruj/jupyter/environment/lib/python3.8/site-packages/sklearn/neural_network/_multilayer_perceptron.py:691: ConvergenceWarning: Stochastic Optimizer: Maximum iterations (2000) reached and the optimization hasn't converged yet.\n",
      "  warnings.warn(\n",
      "/home/sruj/jupyter/environment/lib/python3.8/site-packages/sklearn/neural_network/_multilayer_perceptron.py:546: ConvergenceWarning: lbfgs failed to converge (status=1):\n",
      "STOP: TOTAL NO. of ITERATIONS REACHED LIMIT.\n",
      "\n",
      "Increase the number of iterations (max_iter) or scale the data as shown in:\n",
      "    https://scikit-learn.org/stable/modules/preprocessing.html\n",
      "  self.n_iter_ = _check_optimize_result(\"lbfgs\", opt_res, self.max_iter)\n",
      "/home/sruj/jupyter/environment/lib/python3.8/site-packages/sklearn/neural_network/_multilayer_perceptron.py:546: ConvergenceWarning: lbfgs failed to converge (status=1):\n",
      "STOP: TOTAL NO. of ITERATIONS REACHED LIMIT.\n",
      "\n",
      "Increase the number of iterations (max_iter) or scale the data as shown in:\n",
      "    https://scikit-learn.org/stable/modules/preprocessing.html\n",
      "  self.n_iter_ = _check_optimize_result(\"lbfgs\", opt_res, self.max_iter)\n",
      "/home/sruj/jupyter/environment/lib/python3.8/site-packages/sklearn/neural_network/_multilayer_perceptron.py:691: ConvergenceWarning: Stochastic Optimizer: Maximum iterations (3000) reached and the optimization hasn't converged yet.\n",
      "  warnings.warn(\n",
      "/home/sruj/jupyter/environment/lib/python3.8/site-packages/sklearn/neural_network/_multilayer_perceptron.py:691: ConvergenceWarning: Stochastic Optimizer: Maximum iterations (3000) reached and the optimization hasn't converged yet.\n",
      "  warnings.warn(\n",
      "/home/sruj/jupyter/environment/lib/python3.8/site-packages/sklearn/neural_network/_multilayer_perceptron.py:691: ConvergenceWarning: Stochastic Optimizer: Maximum iterations (3000) reached and the optimization hasn't converged yet.\n",
      "  warnings.warn(\n",
      "/home/sruj/jupyter/environment/lib/python3.8/site-packages/sklearn/neural_network/_multilayer_perceptron.py:691: ConvergenceWarning: Stochastic Optimizer: Maximum iterations (2000) reached and the optimization hasn't converged yet.\n",
      "  warnings.warn(\n",
      "/home/sruj/jupyter/environment/lib/python3.8/site-packages/sklearn/neural_network/_multilayer_perceptron.py:691: ConvergenceWarning: Stochastic Optimizer: Maximum iterations (2000) reached and the optimization hasn't converged yet.\n",
      "  warnings.warn(\n",
      "/home/sruj/jupyter/environment/lib/python3.8/site-packages/sklearn/neural_network/_multilayer_perceptron.py:691: ConvergenceWarning: Stochastic Optimizer: Maximum iterations (2000) reached and the optimization hasn't converged yet.\n",
      "  warnings.warn(\n",
      "/home/sruj/jupyter/environment/lib/python3.8/site-packages/sklearn/neural_network/_multilayer_perceptron.py:691: ConvergenceWarning: Stochastic Optimizer: Maximum iterations (2000) reached and the optimization hasn't converged yet.\n",
      "  warnings.warn(\n",
      "/home/sruj/jupyter/environment/lib/python3.8/site-packages/sklearn/neural_network/_multilayer_perceptron.py:691: ConvergenceWarning: Stochastic Optimizer: Maximum iterations (2000) reached and the optimization hasn't converged yet.\n",
      "  warnings.warn(\n",
      "/home/sruj/jupyter/environment/lib/python3.8/site-packages/sklearn/neural_network/_multilayer_perceptron.py:691: ConvergenceWarning: Stochastic Optimizer: Maximum iterations (2000) reached and the optimization hasn't converged yet.\n",
      "  warnings.warn(\n",
      "/home/sruj/jupyter/environment/lib/python3.8/site-packages/sklearn/neural_network/_multilayer_perceptron.py:691: ConvergenceWarning: Stochastic Optimizer: Maximum iterations (2000) reached and the optimization hasn't converged yet.\n",
      "  warnings.warn(\n",
      "/home/sruj/jupyter/environment/lib/python3.8/site-packages/sklearn/neural_network/_multilayer_perceptron.py:691: ConvergenceWarning: Stochastic Optimizer: Maximum iterations (2000) reached and the optimization hasn't converged yet.\n",
      "  warnings.warn(\n",
      "/home/sruj/jupyter/environment/lib/python3.8/site-packages/sklearn/neural_network/_multilayer_perceptron.py:691: ConvergenceWarning: Stochastic Optimizer: Maximum iterations (2000) reached and the optimization hasn't converged yet.\n",
      "  warnings.warn(\n",
      "/home/sruj/jupyter/environment/lib/python3.8/site-packages/sklearn/neural_network/_multilayer_perceptron.py:691: ConvergenceWarning: Stochastic Optimizer: Maximum iterations (2000) reached and the optimization hasn't converged yet.\n",
      "  warnings.warn(\n",
      "/home/sruj/jupyter/environment/lib/python3.8/site-packages/sklearn/neural_network/_multilayer_perceptron.py:691: ConvergenceWarning: Stochastic Optimizer: Maximum iterations (3000) reached and the optimization hasn't converged yet.\n",
      "  warnings.warn(\n",
      "/home/sruj/jupyter/environment/lib/python3.8/site-packages/sklearn/neural_network/_multilayer_perceptron.py:691: ConvergenceWarning: Stochastic Optimizer: Maximum iterations (3000) reached and the optimization hasn't converged yet.\n",
      "  warnings.warn(\n",
      "/home/sruj/jupyter/environment/lib/python3.8/site-packages/sklearn/neural_network/_multilayer_perceptron.py:691: ConvergenceWarning: Stochastic Optimizer: Maximum iterations (2000) reached and the optimization hasn't converged yet.\n",
      "  warnings.warn(\n",
      "/home/sruj/jupyter/environment/lib/python3.8/site-packages/sklearn/neural_network/_multilayer_perceptron.py:691: ConvergenceWarning: Stochastic Optimizer: Maximum iterations (2000) reached and the optimization hasn't converged yet.\n",
      "  warnings.warn(\n",
      "/home/sruj/jupyter/environment/lib/python3.8/site-packages/sklearn/neural_network/_multilayer_perceptron.py:691: ConvergenceWarning: Stochastic Optimizer: Maximum iterations (2000) reached and the optimization hasn't converged yet.\n",
      "  warnings.warn(\n",
      "/home/sruj/jupyter/environment/lib/python3.8/site-packages/sklearn/neural_network/_multilayer_perceptron.py:691: ConvergenceWarning: Stochastic Optimizer: Maximum iterations (2000) reached and the optimization hasn't converged yet.\n",
      "  warnings.warn(\n",
      "/home/sruj/jupyter/environment/lib/python3.8/site-packages/sklearn/neural_network/_multilayer_perceptron.py:691: ConvergenceWarning: Stochastic Optimizer: Maximum iterations (2000) reached and the optimization hasn't converged yet.\n",
      "  warnings.warn(\n",
      "/home/sruj/jupyter/environment/lib/python3.8/site-packages/sklearn/neural_network/_multilayer_perceptron.py:691: ConvergenceWarning: Stochastic Optimizer: Maximum iterations (3000) reached and the optimization hasn't converged yet.\n",
      "  warnings.warn(\n",
      "/home/sruj/jupyter/environment/lib/python3.8/site-packages/sklearn/neural_network/_multilayer_perceptron.py:691: ConvergenceWarning: Stochastic Optimizer: Maximum iterations (3000) reached and the optimization hasn't converged yet.\n",
      "  warnings.warn(\n",
      "/home/sruj/jupyter/environment/lib/python3.8/site-packages/sklearn/neural_network/_multilayer_perceptron.py:691: ConvergenceWarning: Stochastic Optimizer: Maximum iterations (2000) reached and the optimization hasn't converged yet.\n",
      "  warnings.warn(\n",
      "/home/sruj/jupyter/environment/lib/python3.8/site-packages/sklearn/neural_network/_multilayer_perceptron.py:691: ConvergenceWarning: Stochastic Optimizer: Maximum iterations (2000) reached and the optimization hasn't converged yet.\n",
      "  warnings.warn(\n",
      "/home/sruj/jupyter/environment/lib/python3.8/site-packages/sklearn/neural_network/_multilayer_perceptron.py:691: ConvergenceWarning: Stochastic Optimizer: Maximum iterations (2000) reached and the optimization hasn't converged yet.\n",
      "  warnings.warn(\n",
      "/home/sruj/jupyter/environment/lib/python3.8/site-packages/sklearn/neural_network/_multilayer_perceptron.py:691: ConvergenceWarning: Stochastic Optimizer: Maximum iterations (2000) reached and the optimization hasn't converged yet.\n",
      "  warnings.warn(\n",
      "/home/sruj/jupyter/environment/lib/python3.8/site-packages/sklearn/neural_network/_multilayer_perceptron.py:691: ConvergenceWarning: Stochastic Optimizer: Maximum iterations (2000) reached and the optimization hasn't converged yet.\n",
      "  warnings.warn(\n",
      "/home/sruj/jupyter/environment/lib/python3.8/site-packages/sklearn/neural_network/_multilayer_perceptron.py:691: ConvergenceWarning: Stochastic Optimizer: Maximum iterations (2000) reached and the optimization hasn't converged yet.\n",
      "  warnings.warn(\n",
      "/home/sruj/jupyter/environment/lib/python3.8/site-packages/sklearn/neural_network/_multilayer_perceptron.py:691: ConvergenceWarning: Stochastic Optimizer: Maximum iterations (2000) reached and the optimization hasn't converged yet.\n",
      "  warnings.warn(\n"
     ]
    },
    {
     "name": "stdout",
     "output_type": "stream",
     "text": [
      "Best Parameters: {'activation': 'tanh', 'hidden_layer_sizes': (64, 64), 'learning_rate_init': 0.01, 'max_iter': 2000, 'solver': 'adam'}\n",
      "MSE: 19.21087004614084\n",
      "RMSE: 4.383020653172974\n",
      "R-squared: 0.6964756778889947\n"
     ]
    }
   ],
   "source": [
    "from sklearn.neural_network import MLPRegressor\n",
    "from sklearn.model_selection import GridSearchCV\n",
    "\n",
    "# Define hyperparameters to search\n",
    "param_grid = {\n",
    "    'hidden_layer_sizes': [(64, 32), (128, 64), (64, 64)],\n",
    "    'activation': ['logistic', 'tanh', 'relu'],\n",
    "    'solver': ['adam', 'lbfgs'],\n",
    "    'learning_rate_init': [0.001, 0.01, 0.1],\n",
    "    'max_iter': [2000, 3000]\n",
    "}\n",
    "\n",
    "# Create the MLPRegressor\n",
    "mlp = MLPRegressor()\n",
    "\n",
    "# Perform grid search with cross-validation\n",
    "grid_search = GridSearchCV(estimator=mlp, param_grid=param_grid, scoring='neg_mean_squared_error', cv=5)\n",
    "grid_search.fit(X_train, y_train)\n",
    "\n",
    "# Get the best model and parameters\n",
    "best_model = grid_search.best_estimator_\n",
    "best_params = grid_search.best_params_\n",
    "\n",
    "# Make predictions on the validation set with the best model\n",
    "y_pred_valid = best_model.predict(X_valid)\n",
    "\n",
    "# Calculate evaluation metrics (MSE, RMSE, R2)\n",
    "mse = mean_squared_error(y_valid, y_pred_valid)\n",
    "rmse = np.sqrt(mse)\n",
    "r2 = r2_score(y_valid, y_pred_valid)\n",
    "\n",
    "# Print the best parameters and scores\n",
    "print(\"Best Parameters:\", best_params)\n",
    "print(\"MSE:\", mse)\n",
    "print(\"RMSE:\", rmse)\n",
    "print(\"R-squared:\", r2)\n"
   ]
  },
  {
   "cell_type": "markdown",
   "id": "5eb83377-8fbe-4f2b-97a1-4fe8aa3f3f14",
   "metadata": {},
   "source": [
    "## 3.4 Evaluating Model"
   ]
  },
  {
   "cell_type": "markdown",
   "id": "12c9850d-b4b8-48e6-8af0-fd3247d0b986",
   "metadata": {},
   "source": [
    "### 1. Test your model on the test set and report loss score (MSE, RMSE, R-squared)"
   ]
  },
  {
   "cell_type": "code",
   "execution_count": 65,
   "id": "851e652f-acda-46a0-a8e4-1134beead60a",
   "metadata": {},
   "outputs": [
    {
     "data": {
      "text/html": [
       "wandb version 0.15.12 is available!  To upgrade, please run:\n",
       " $ pip install wandb --upgrade"
      ],
      "text/plain": [
       "<IPython.core.display.HTML object>"
      ]
     },
     "metadata": {},
     "output_type": "display_data"
    },
    {
     "data": {
      "text/html": [
       "Tracking run with wandb version 0.15.11"
      ],
      "text/plain": [
       "<IPython.core.display.HTML object>"
      ]
     },
     "metadata": {},
     "output_type": "display_data"
    },
    {
     "data": {
      "text/html": [
       "Run data is saved locally in <code>/home/sruj/jupyter/wandb/run-20231022_204043-a0kvi4xv</code>"
      ],
      "text/plain": [
       "<IPython.core.display.HTML object>"
      ]
     },
     "metadata": {},
     "output_type": "display_data"
    },
    {
     "data": {
      "text/html": [
       "Syncing run <strong><a href='https://wandb.ai/srujana-vanka/assignment3-smai/runs/a0kvi4xv' target=\"_blank\">denim-blaze-22</a></strong> to <a href='https://wandb.ai/srujana-vanka/assignment3-smai' target=\"_blank\">Weights & Biases</a> (<a href='https://wandb.me/run' target=\"_blank\">docs</a>)<br/>"
      ],
      "text/plain": [
       "<IPython.core.display.HTML object>"
      ]
     },
     "metadata": {},
     "output_type": "display_data"
    },
    {
     "data": {
      "text/html": [
       " View project at <a href='https://wandb.ai/srujana-vanka/assignment3-smai' target=\"_blank\">https://wandb.ai/srujana-vanka/assignment3-smai</a>"
      ],
      "text/plain": [
       "<IPython.core.display.HTML object>"
      ]
     },
     "metadata": {},
     "output_type": "display_data"
    },
    {
     "data": {
      "text/html": [
       " View run at <a href='https://wandb.ai/srujana-vanka/assignment3-smai/runs/a0kvi4xv' target=\"_blank\">https://wandb.ai/srujana-vanka/assignment3-smai/runs/a0kvi4xv</a>"
      ],
      "text/plain": [
       "<IPython.core.display.HTML object>"
      ]
     },
     "metadata": {},
     "output_type": "display_data"
    },
    {
     "name": "stdout",
     "output_type": "stream",
     "text": [
      "Test Set MSE: 7.075058633756864\n",
      "Test Set RMSE: 2.6598982374814386\n",
      "Test Set R-squared: 0.9147108974951788\n"
     ]
    },
    {
     "data": {
      "text/html": [
       "Waiting for W&B process to finish... <strong style=\"color:green\">(success).</strong>"
      ],
      "text/plain": [
       "<IPython.core.display.HTML object>"
      ]
     },
     "metadata": {},
     "output_type": "display_data"
    },
    {
     "data": {
      "text/html": [
       "<style>\n",
       "    table.wandb td:nth-child(1) { padding: 0 10px; text-align: left ; width: auto;} td:nth-child(2) {text-align: left ; width: 100%}\n",
       "    .wandb-row { display: flex; flex-direction: row; flex-wrap: wrap; justify-content: flex-start; width: 100% }\n",
       "    .wandb-col { display: flex; flex-direction: column; flex-basis: 100%; flex: 1; padding: 10px; }\n",
       "    </style>\n",
       "<div class=\"wandb-row\"><div class=\"wandb-col\"><h3>Run history:</h3><br/><table class=\"wandb\"><tr><td>Test Set MSE</td><td>▁</td></tr><tr><td>Test Set R-squared</td><td>▁</td></tr><tr><td>Test Set RMSE</td><td>▁</td></tr></table><br/></div><div class=\"wandb-col\"><h3>Run summary:</h3><br/><table class=\"wandb\"><tr><td>Test Set MSE</td><td>7.07506</td></tr><tr><td>Test Set R-squared</td><td>0.91471</td></tr><tr><td>Test Set RMSE</td><td>2.6599</td></tr></table><br/></div></div>"
      ],
      "text/plain": [
       "<IPython.core.display.HTML object>"
      ]
     },
     "metadata": {},
     "output_type": "display_data"
    },
    {
     "data": {
      "text/html": [
       " View run <strong style=\"color:#cdcd00\">denim-blaze-22</strong> at: <a href='https://wandb.ai/srujana-vanka/assignment3-smai/runs/a0kvi4xv' target=\"_blank\">https://wandb.ai/srujana-vanka/assignment3-smai/runs/a0kvi4xv</a><br/>Synced 5 W&B file(s), 0 media file(s), 0 artifact file(s) and 0 other file(s)"
      ],
      "text/plain": [
       "<IPython.core.display.HTML object>"
      ]
     },
     "metadata": {},
     "output_type": "display_data"
    },
    {
     "data": {
      "text/html": [
       "Find logs at: <code>./wandb/run-20231022_204043-a0kvi4xv/logs</code>"
      ],
      "text/plain": [
       "<IPython.core.display.HTML object>"
      ]
     },
     "metadata": {},
     "output_type": "display_data"
    }
   ],
   "source": [
    "import wandb\n",
    "\n",
    "# Initialize W&B run\n",
    "wandb.init(project='assignment3-smai')\n",
    "\n",
    "# Make predictions on the test set\n",
    "y_pred_test = mlp.predict(X_test)\n",
    "\n",
    "# Calculate evaluation metrics (MSE, RMSE, R2) for the test set\n",
    "mse_test = mean_squared_error(y_test, y_pred_test)\n",
    "rmse_test = np.sqrt(mse_test)\n",
    "r2_test = r_squared(y_test, y_pred_test)\n",
    "\n",
    "# Log the test set scores to W&B\n",
    "wandb.log({\"Test Set MSE\": mse_test, \"Test Set RMSE\": rmse_test, \"Test Set R-squared\": r2_test})\n",
    "\n",
    "# Print the test set scores\n",
    "print(\"Test Set MSE:\", mse_test)\n",
    "print(\"Test Set RMSE:\", rmse_test)\n",
    "print(\"Test Set R-squared:\", r2_test)\n",
    "\n",
    "# Finish the W&B run\n",
    "wandb.finish()\n"
   ]
  },
  {
   "cell_type": "markdown",
   "id": "4f33d4d4-3b81-4efc-8247-fceb95173d6a",
   "metadata": {},
   "source": [
    "# 4. CNN and AutoEncoders"
   ]
  },
  {
   "cell_type": "code",
   "execution_count": 68,
   "id": "6739517e-7090-48e9-bd73-b0a0c187a7aa",
   "metadata": {},
   "outputs": [
    {
     "name": "stdout",
     "output_type": "stream",
     "text": [
      "Downloading http://yann.lecun.com/exdb/mnist/train-images-idx3-ubyte.gz\n",
      "Downloading http://yann.lecun.com/exdb/mnist/train-images-idx3-ubyte.gz to ./data/MNIST/raw/train-images-idx3-ubyte.gz\n"
     ]
    },
    {
     "name": "stderr",
     "output_type": "stream",
     "text": [
      "100.0%\n"
     ]
    },
    {
     "name": "stdout",
     "output_type": "stream",
     "text": [
      "Extracting ./data/MNIST/raw/train-images-idx3-ubyte.gz to ./data/MNIST/raw\n",
      "\n",
      "Downloading http://yann.lecun.com/exdb/mnist/train-labels-idx1-ubyte.gz\n",
      "Downloading http://yann.lecun.com/exdb/mnist/train-labels-idx1-ubyte.gz to ./data/MNIST/raw/train-labels-idx1-ubyte.gz\n"
     ]
    },
    {
     "name": "stderr",
     "output_type": "stream",
     "text": [
      "100.0%\n"
     ]
    },
    {
     "name": "stdout",
     "output_type": "stream",
     "text": [
      "Extracting ./data/MNIST/raw/train-labels-idx1-ubyte.gz to ./data/MNIST/raw\n",
      "\n",
      "Downloading http://yann.lecun.com/exdb/mnist/t10k-images-idx3-ubyte.gz\n",
      "Downloading http://yann.lecun.com/exdb/mnist/t10k-images-idx3-ubyte.gz to ./data/MNIST/raw/t10k-images-idx3-ubyte.gz\n"
     ]
    },
    {
     "name": "stderr",
     "output_type": "stream",
     "text": [
      "100.0%\n"
     ]
    },
    {
     "name": "stdout",
     "output_type": "stream",
     "text": [
      "Extracting ./data/MNIST/raw/t10k-images-idx3-ubyte.gz to ./data/MNIST/raw\n",
      "\n",
      "Downloading http://yann.lecun.com/exdb/mnist/t10k-labels-idx1-ubyte.gz\n",
      "Downloading http://yann.lecun.com/exdb/mnist/t10k-labels-idx1-ubyte.gz to ./data/MNIST/raw/t10k-labels-idx1-ubyte.gz\n"
     ]
    },
    {
     "name": "stderr",
     "output_type": "stream",
     "text": [
      "100.0%\n"
     ]
    },
    {
     "name": "stdout",
     "output_type": "stream",
     "text": [
      "Extracting ./data/MNIST/raw/t10k-labels-idx1-ubyte.gz to ./data/MNIST/raw\n",
      "\n"
     ]
    }
   ],
   "source": [
    "import torch\n",
    "import torchvision\n",
    "import torchvision.transforms as transforms\n",
    "import matplotlib.pyplot as plt  \n",
    "import numpy as np\n",
    "\n",
    "# Set the device to GPU if available, otherwise use CPU\n",
    "device = torch.device(\"cuda\" if torch.cuda.is_available() else \"cpu\")\n",
    "\n",
    "# Loading the MNIST dataset\n",
    "transform = transforms.Compose([\n",
    "    transforms.ToTensor(),\n",
    "    transforms.Normalize((0.5,), (0.5,))\n",
    "])\n",
    "\n",
    "trainset = torchvision.datasets.MNIST(root='./data', train=True, download=True, transform=transform)\n",
    "trainloader = torch.utils.data.DataLoader(trainset, batch_size=64, shuffle=True, num_workers=2)\n"
   ]
  },
  {
   "cell_type": "markdown",
   "id": "c2440c64-b4b4-40c3-9363-1b3c958c818a",
   "metadata": {},
   "source": [
    "## 4.1 Data visualization and Preprocessing"
   ]
  },
  {
   "cell_type": "markdown",
   "id": "db07cebc-d35f-4905-8b76-38cf619d81f4",
   "metadata": {},
   "source": [
    "### 1. Draw a graph that shows the distribution of the various labels across the entire dataset"
   ]
  },
  {
   "cell_type": "code",
   "execution_count": 69,
   "id": "8c60be19-969d-4e62-947a-9fd5e26ca9ae",
   "metadata": {},
   "outputs": [
    {
     "data": {
      "image/png": "[encoded data removed]",
      "text/plain": [
       "<Figure size 640x480 with 1 Axes>"
      ]
     },
     "metadata": {},
     "output_type": "display_data"
    }
   ],
   "source": [
    "# Plotting the distribution of the various labels across the entire dataset\n",
    "labels = trainset.targets.numpy()\n",
    "unique, counts = np.unique(labels, return_counts=True)\n",
    "plt.bar(unique, counts)\n",
    "plt.title('Class Frequency')\n",
    "plt.xlabel('Class')\n",
    "plt.ylabel('Frequency')\n",
    "plt.show()  # Display the plot"
   ]
  },
  {
   "cell_type": "markdown",
   "id": "e594f09a-307d-4a38-b80a-8963aa525e46",
   "metadata": {},
   "source": [
    "### 2. Visualize several samples (say 5) of images from each class."
   ]
  },
  {
   "cell_type": "code",
   "execution_count": 70,
   "id": "7cc2e51f-039f-457a-9b75-a3833ab47656",
   "metadata": {},
   "outputs": [
    {
     "data": {
      "image/png": "[encoded data removed]",
      "text/plain": [
       "<Figure size 1000x1000 with 50 Axes>"
      ]
     },
     "metadata": {},
     "output_type": "display_data"
    }
   ],
   "source": [
    "# Create a dictionary to store 5 images for each class\n",
    "class_images = {i: [] for i in range(10)}\n",
    "\n",
    "# Collect 5 random images for each class\n",
    "for images, labels in trainloader:\n",
    "    for image, label in zip(images, labels):\n",
    "        if len(class_images[label.item()]) < 5:\n",
    "            class_images[label.item()].append(image)\n",
    "\n",
    "# Plot the collected images\n",
    "fig, axs = plt.subplots(10, 5, figsize=(10, 10))\n",
    "\n",
    "for i in range(10):\n",
    "    for j in range(5):\n",
    "        axs[i, j].imshow(class_images[i][j][0], cmap='gray')\n",
    "        axs[i, j].axis('off')\n",
    "\n",
    "plt.suptitle('5 Random Images from Each Class')\n",
    "plt.show()"
   ]
  },
  {
   "cell_type": "markdown",
   "id": "845bb8c3-73a1-4773-8c91-bef13d1978f5",
   "metadata": {},
   "source": [
    "### 3. Check for any class imbalance and report."
   ]
  },
  {
   "cell_type": "code",
   "execution_count": 72,
   "id": "8b1eb10a-f011-49a1-b5d3-a16413e3ca16",
   "metadata": {},
   "outputs": [
    {
     "name": "stdout",
     "output_type": "stream",
     "text": [
      "Class 9: 1 samples (3.12%)\n",
      "Class 3: 1 samples (3.12%)\n",
      "Class 1: 1 samples (3.12%)\n",
      "Class 9: 1 samples (3.12%)\n",
      "Class 4: 1 samples (3.12%)\n",
      "Class 8: 1 samples (3.12%)\n",
      "Class 1: 1 samples (3.12%)\n",
      "Class 2: 1 samples (3.12%)\n",
      "Class 0: 1 samples (3.12%)\n",
      "Class 2: 1 samples (3.12%)\n",
      "Class 8: 1 samples (3.12%)\n",
      "Class 4: 1 samples (3.12%)\n",
      "Class 8: 1 samples (3.12%)\n",
      "Class 2: 1 samples (3.12%)\n",
      "Class 1: 1 samples (3.12%)\n",
      "Class 7: 1 samples (3.12%)\n",
      "Class 7: 1 samples (3.12%)\n",
      "Class 0: 1 samples (3.12%)\n",
      "Class 6: 1 samples (3.12%)\n",
      "Class 6: 1 samples (3.12%)\n",
      "Class 0: 1 samples (3.12%)\n",
      "Class 3: 1 samples (3.12%)\n",
      "Class 5: 1 samples (3.12%)\n",
      "Class 8: 1 samples (3.12%)\n",
      "Class 2: 1 samples (3.12%)\n",
      "Class 0: 1 samples (3.12%)\n",
      "Class 6: 1 samples (3.12%)\n",
      "Class 0: 1 samples (3.12%)\n",
      "Class 2: 1 samples (3.12%)\n",
      "Class 8: 1 samples (3.12%)\n",
      "Class 3: 1 samples (3.12%)\n",
      "Class 4: 1 samples (3.12%)\n"
     ]
    },
    {
     "data": {
      "image/png": "[encoded data removed]",
      "text/plain": [
       "<Figure size 640x480 with 1 Axes>"
      ]
     },
     "metadata": {},
     "output_type": "display_data"
    }
   ],
   "source": [
    "from collections import Counter\n",
    "\n",
    "# Count the occurrences of each class\n",
    "class_counts = dict(Counter(labels))\n",
    "\n",
    "# Calculate the class imbalance\n",
    "imbalance = {label: count / len(labels) for label, count in class_counts.items()}\n",
    "\n",
    "# Display the class imbalance\n",
    "for label, count in class_counts.items():\n",
    "    print(f\"Class {label}: {count} samples ({imbalance[label] * 100:.2f}%)\")\n",
    "\n",
    "# Plot the class imbalance\n",
    "import matplotlib.pyplot as plt\n",
    "\n",
    "plt.bar(class_counts.keys(), class_counts.values())\n",
    "plt.title('Class Imbalance in MNIST Dataset')\n",
    "plt.xlabel('Class')\n",
    "plt.ylabel('Number of Samples')\n",
    "plt.show()"
   ]
  },
  {
   "cell_type": "markdown",
   "id": "f65cd634-47da-4b73-a6b1-d52ee7add2e4",
   "metadata": {},
   "source": [
    "### 4. Partition the dataset into train, validation, and test sets."
   ]
  },
  {
   "cell_type": "code",
   "execution_count": 76,
   "id": "8f336a2e-3f3c-496b-9979-aa0a7ee98f20",
   "metadata": {},
   "outputs": [
    {
     "name": "stdout",
     "output_type": "stream",
     "text": [
      "Training set size: 36000 samples\n",
      "Validation set size: 12000 samples\n",
      "Test set size: 12000 samples\n"
     ]
    }
   ],
   "source": [
    "from torch.utils.data import random_split\n",
    "from torch.utils.data import DataLoader\n",
    "\n",
    "mnist_dataset = torchvision.datasets.MNIST(root='./data', train=True, download=True, transform=transform)\n",
    "\n",
    "# Define the sizes for the train, validation, and test sets\n",
    "total_size = len(mnist_dataset)\n",
    "train_size = int(0.6 * total_size)  # 60% for training\n",
    "val_size = int(0.2 * total_size)    # 20% for validation\n",
    "test_size = total_size - train_size - val_size\n",
    "\n",
    "# Create random splits for train, validation, and test sets\n",
    "train_dataset, val_dataset, test_dataset = random_split(\n",
    "    mnist_dataset, [train_size, val_size, test_size]\n",
    ")\n",
    "\n",
    "# Define data loaders for train, validation, and test sets\n",
    "batch_size = 64\n",
    "\n",
    "train_loader = DataLoader(train_dataset, batch_size=batch_size, shuffle=True)\n",
    "val_loader = DataLoader(val_dataset, batch_size=batch_size)\n",
    "test_loader = DataLoader(test_dataset, batch_size=batch_size)\n",
    "\n",
    "# Check the sizes of the datasets\n",
    "print(f\"Training set size: {len(train_dataset)} samples\")\n",
    "print(f\"Validation set size: {len(val_dataset)} samples\")\n",
    "print(f\"Test set size: {len(test_dataset)} samples\")"
   ]
  },
  {
   "cell_type": "markdown",
   "id": "9247bfee-4404-408b-b58c-cb5414b98886",
   "metadata": {},
   "source": [
    "### 5. Write a function to visualize the feature maps. Your code should be able to visualize feature maps of a trained model for any layer of the given image."
   ]
  },
  {
   "cell_type": "code",
   "execution_count": 77,
   "id": "be7f78bd-69f9-4058-b672-02aa5803e311",
   "metadata": {},
   "outputs": [],
   "source": [
    "\"\"\"\n",
    "Visualize feature maps of a trained model for a specific layer.\n",
    "\n",
    "Args:\n",
    "- model: The trained CNN model.\n",
    "- image: Input image for which to visualize feature maps.\n",
    "- layer_name: The name or index of the layer for which to visualize feature maps.\n",
    "- num_maps: Number of feature maps to visualize.\n",
    "\n",
    "Returns:\n",
    "- None (displays the feature maps using Matplotlib).\n",
    "\"\"\"\n",
    "\n",
    "def visualize_feature_maps(model, image, layer_name, num_maps=5):\n",
    "    # Set the model in evaluation mode\n",
    "    model.eval()\n",
    "\n",
    "    # Create a feature extraction model up to the specified layer\n",
    "    feature_extractor = torch.nn.Sequential(*list(model.children())[:layer_name])\n",
    "\n",
    "    # Forward pass to get feature maps\n",
    "    with torch.no_grad():\n",
    "        feature_maps = feature_extractor(image)\n",
    "\n",
    "    # Choose a random subset of feature maps to visualize\n",
    "    if num_maps < feature_maps.size(1):\n",
    "        selected_maps = torch.randint(0, feature_maps.size(1), (num_maps,))\n",
    "        feature_maps = feature_maps[:, selected_maps, :, :]\n",
    "\n",
    "    # Plot the feature maps\n",
    "    plt.figure(figsize=(12, 6))\n",
    "    for i in range(feature_maps.size(1)):\n",
    "        plt.subplot(1, num_maps, i + 1)\n",
    "        plt.imshow(feature_maps[0, i].cpu(), cmap='viridis')\n",
    "        plt.title(f'Feature Map {i}')\n",
    "        plt.axis('off')\n",
    "\n",
    "    plt.show()"
   ]
  },
  {
   "cell_type": "markdown",
   "id": "68acfd99-93ba-4913-8483-3f29ba676a0a",
   "metadata": {},
   "source": [
    "## 4.2 Model Building"
   ]
  },
  {
   "cell_type": "code",
   "execution_count": null,
   "id": "56011d69-8da7-439d-b72f-5ef5429014bf",
   "metadata": {},
   "outputs": [],
   "source": [
    "class BaselineCNN(nn.Module):\n",
    "    def __init__(self):\n",
    "        super(BaselineCNN, self).__init__()\n",
    "        self.conv1 = nn.Conv2d(1, 32, 3, padding=1)\n",
    "        self.relu1 = nn.ReLU()\n",
    "        self.pool1 = nn.MaxPool2d(2, 2)\n",
    "        self.conv2 = nn.Conv2d(32, 64, 3, padding=1)\n",
    "        self.relu2 = nn.ReLU()\n",
    "        self.pool2 = nn.MaxPool2d(2, 2)\n",
    "        self.fc1 = nn.Linear(64 * 7 * 7, 128)\n",
    "        self.relu3 = nn.ReLU()\n",
    "        self.dropout = nn.Dropout(0.5)\n",
    "        self.fc2 = nn.Linear(128, 10)  # 10 classes for MNIST\n",
    "\n",
    "    def forward(self, x):\n",
    "        x = self.pool1(self.relu1(self.conv1(x)))\n",
    "        x = self.pool2(self.relu2(self.conv2(x)))\n",
    "        x = x.view(-1, 64 * 7 * 7)\n",
    "        x = self.relu3(self.fc1(x))\n",
    "        x = self.dropout(x)\n",
    "        x = self.fc2(x)\n",
    "        return x\n"
   ]
  },
  {
   "cell_type": "code",
   "execution_count": 105,
   "id": "2c9fd3ee-6bff-44e4-84e8-2b699e04a0bf",
   "metadata": {},
   "outputs": [
    {
     "name": "stdout",
     "output_type": "stream",
     "text": [
      "Epoch 1/10, Train Loss: 240.1320, Train Acc: 92.11%, Validation Loss: 0.0548, Validation Acc: 98.25%\n",
      "Epoch 2/10, Train Loss: 88.0721, Train Acc: 97.20%, Validation Loss: 0.0378, Validation Acc: 98.85%\n",
      "Epoch 3/10, Train Loss: 64.5403, Train Acc: 97.96%, Validation Loss: 0.0302, Validation Acc: 99.07%\n",
      "Epoch 4/10, Train Loss: 52.1588, Train Acc: 98.34%, Validation Loss: 0.0198, Validation Acc: 99.36%\n",
      "Epoch 5/10, Train Loss: 44.4589, Train Acc: 98.58%, Validation Loss: 0.0156, Validation Acc: 99.50%\n",
      "Epoch 6/10, Train Loss: 40.9387, Train Acc: 98.69%, Validation Loss: 0.0129, Validation Acc: 99.59%\n",
      "Epoch 7/10, Train Loss: 34.1238, Train Acc: 98.87%, Validation Loss: 0.0095, Validation Acc: 99.70%\n",
      "Epoch 8/10, Train Loss: 29.6087, Train Acc: 99.04%, Validation Loss: 0.0080, Validation Acc: 99.75%\n",
      "Epoch 9/10, Train Loss: 27.4875, Train Acc: 99.07%, Validation Loss: 0.0070, Validation Acc: 99.79%\n",
      "Epoch 10/10, Train Loss: 23.9935, Train Acc: 99.22%, Validation Loss: 0.0057, Validation Acc: 99.81%\n"
     ]
    },
    {
     "data": {
      "image/png": "[encoded data removed]",
      "text/plain": [
       "<Figure size 1200x600 with 32 Axes>"
      ]
     },
     "metadata": {},
     "output_type": "display_data"
    },
    {
     "data": {
      "image/png": "[encoded data removed]",
      "text/plain": [
       "<Figure size 1200x400 with 2 Axes>"
      ]
     },
     "metadata": {},
     "output_type": "display_data"
    }
   ],
   "source": [
    "import torch.nn as nn\n",
    "import torch.optim as optim\n",
    "\n",
    "model = BaselineCNN().to(device)\n",
    "\n",
    "# Training\n",
    "criterion = nn.CrossEntropyLoss()\n",
    "optimizer = optim.Adam(model.parameters(), lr=0.001)\n",
    "\n",
    "def train(model, dataloader, optimizer, criterion):\n",
    "    model.train()\n",
    "    running_loss = 0.0\n",
    "    correct = 0\n",
    "    total = 0\n",
    "\n",
    "    for inputs, labels in dataloader:\n",
    "        inputs, labels = inputs.to(device), labels.to(device)\n",
    "        optimizer.zero_grad()\n",
    "\n",
    "        outputs = model(inputs)\n",
    "        loss = criterion(outputs, labels)\n",
    "        loss.backward()\n",
    "        optimizer.step()\n",
    "\n",
    "        running_loss += loss.item()\n",
    "        _, predicted = outputs.max(1)\n",
    "        total += labels.size(0)\n",
    "        correct += predicted.eq(labels).sum().item()\n",
    "\n",
    "    accuracy = 100 * correct / total\n",
    "    return running_loss, accuracy\n",
    "\n",
    "def validate(model, dataloader, criterion):\n",
    "    model.eval()\n",
    "    running_loss = 0.0\n",
    "    correct = 0\n",
    "    total = 0\n",
    "\n",
    "    with torch.no_grad():\n",
    "        for inputs, labels in dataloader:\n",
    "            inputs, labels = inputs.to(device), labels.to(device)\n",
    "            outputs = model(inputs)\n",
    "            loss = criterion(outputs, labels)\n",
    "            running_loss += loss.item()\n",
    "            _, predicted = outputs.max(1)\n",
    "            total += labels.size(0)\n",
    "            correct += predicted.eq(labels).sum().item()\n",
    "\n",
    "    accuracy = 100 * correct / total\n",
    "    average_loss = running_loss / len(dataloader)\n",
    "\n",
    "    return average_loss, accuracy\n",
    "\n",
    "# Training loop\n",
    "num_epochs = 10\n",
    "train_losses, train_accuracies, val_losses, val_accuracies = [], [], [], []\n",
    "\n",
    "for epoch in range(num_epochs):\n",
    "    train_loss, train_accuracy = train(model, trainloader, optimizer, criterion)\n",
    "    val_loss, val_accuracy = validate(model, trainloader, criterion)\n",
    "\n",
    "    train_losses.append(train_loss)\n",
    "    train_accuracies.append(train_accuracy)\n",
    "    val_losses.append(val_loss)\n",
    "    val_accuracies.append(val_accuracy)\n",
    "\n",
    "    print(f\"Epoch {epoch+1}/{num_epochs}, Train Loss: {train_loss:.4f}, Train Acc: {train_accuracy:.2f}%, Validation Loss: {val_loss:.4f}, Validation Acc: {val_accuracy:.2f}%\")\n",
    "\n",
    "# Display Feature Maps\n",
    "def visualize_feature_maps(data, layer_index):\n",
    "    model.eval()  # Set the model to evaluation mode\n",
    "\n",
    "    activations = model.pool1(model.relu1(model.conv1(data)))\n",
    "    activations = activations.detach().cpu().numpy()  # Use detach() to remove gradients\n",
    "    model.train()  # Set the model back to training mode\n",
    "\n",
    "    plt.figure(figsize=(12, 6))\n",
    "    for i in range(32):  # Visualize the feature maps from the first batch\n",
    "        plt.subplot(4, 8, i + 1)\n",
    "        plt.imshow(activations[0, i], cmap='viridis')\n",
    "        plt.axis('off')\n",
    "    plt.suptitle(f\"Feature Maps for Layer {layer_index}\")\n",
    "    plt.show()\n",
    "\n",
    "# Select a random batch of data and visualize feature maps for the first layer\n",
    "sample_data, _ = next(iter(trainloader))\n",
    "visualize_feature_maps(sample_data.to(device), 1)\n",
    "\n",
    "# Plotting\n",
    "plt.figure(figsize=(12, 4))\n",
    "plt.subplot(1, 2, 1)\n",
    "plt.plot(train_losses, label='Training Loss')\n",
    "plt.plot(val_losses, label='Validation Loss')\n",
    "plt.legend()\n",
    "plt.title('Loss')\n",
    "plt.xlabel('Epoch')\n",
    "plt.subplot(1, 2, 2)\n",
    "plt.plot(train_accuracies, label='Training Accuracy')\n",
    "plt.plot(val_accuracies, label='Validation Accuracy')\n",
    "plt.legend()\n",
    "plt.title('Accuracy')\n",
    "plt.xlabel('Epoch')\n",
    "plt.show()"
   ]
  },
  {
   "cell_type": "markdown",
   "id": "8f26e06b-37f2-4ec8-afae-e4fd1d464605",
   "metadata": {},
   "source": [
    "## 4.3 Hyperparameter Tuning and Evaluation"
   ]
  },
  {
   "cell_type": "markdown",
   "id": "8fedb818-8d69-4479-92ec-8e5b2e80998c",
   "metadata": {},
   "source": [
    "### 1. Use W&B to facilitate hyperparameter tuning. Experiment with various architectures and hyperparameters: learning rate, batch size, kernel sizes (filter size), strides, number of epochs, and dropout rates"
   ]
  },
  {
   "cell_type": "code",
   "execution_count": 106,
   "id": "01465460-b623-42e4-a693-19b6739442c2",
   "metadata": {},
   "outputs": [
    {
     "data": {
      "text/html": [
       "Finishing last run (ID:1sugcura) before initializing another..."
      ],
      "text/plain": [
       "<IPython.core.display.HTML object>"
      ]
     },
     "metadata": {},
     "output_type": "display_data"
    },
    {
     "data": {
      "text/html": [
       "Waiting for W&B process to finish... <strong style=\"color:green\">(success).</strong>"
      ],
      "text/plain": [
       "<IPython.core.display.HTML object>"
      ]
     },
     "metadata": {},
     "output_type": "display_data"
    },
    {
     "data": {
      "application/vnd.jupyter.widget-view+json": {
       "model_id": "dca258d9c8d64a50abc582ef9e4511a1",
       "version_major": 2,
       "version_minor": 0
      },
      "text/plain": [
       "VBox(children=(Label(value='0.002 MB of 0.006 MB uploaded (0.000 MB deduped)\\r'), FloatProgress(value=0.339891…"
      ]
     },
     "metadata": {},
     "output_type": "display_data"
    },
    {
     "data": {
      "text/html": [
       " View run <strong style=\"color:#cdcd00\">electric-spaceship-27</strong> at: <a href='https://wandb.ai/srujana-vanka/assignment3-smai/runs/1sugcura' target=\"_blank\">https://wandb.ai/srujana-vanka/assignment3-smai/runs/1sugcura</a><br/>Synced 5 W&B file(s), 0 media file(s), 0 artifact file(s) and 0 other file(s)"
      ],
      "text/plain": [
       "<IPython.core.display.HTML object>"
      ]
     },
     "metadata": {},
     "output_type": "display_data"
    },
    {
     "data": {
      "text/html": [
       "Find logs at: <code>./wandb/run-20231022_224511-1sugcura/logs</code>"
      ],
      "text/plain": [
       "<IPython.core.display.HTML object>"
      ]
     },
     "metadata": {},
     "output_type": "display_data"
    },
    {
     "data": {
      "text/html": [
       "Successfully finished last run (ID:1sugcura). Initializing new run:<br/>"
      ],
      "text/plain": [
       "<IPython.core.display.HTML object>"
      ]
     },
     "metadata": {},
     "output_type": "display_data"
    },
    {
     "data": {
      "application/vnd.jupyter.widget-view+json": {
       "model_id": "0af57b745a36423aaa827931913a6806",
       "version_major": 2,
       "version_minor": 0
      },
      "text/plain": [
       "VBox(children=(Label(value='Waiting for wandb.init()...\\r'), FloatProgress(value=0.011112820899991977, max=1.0…"
      ]
     },
     "metadata": {},
     "output_type": "display_data"
    },
    {
     "data": {
      "text/html": [
       "wandb version 0.15.12 is available!  To upgrade, please run:\n",
       " $ pip install wandb --upgrade"
      ],
      "text/plain": [
       "<IPython.core.display.HTML object>"
      ]
     },
     "metadata": {},
     "output_type": "display_data"
    },
    {
     "data": {
      "text/html": [
       "Tracking run with wandb version 0.15.11"
      ],
      "text/plain": [
       "<IPython.core.display.HTML object>"
      ]
     },
     "metadata": {},
     "output_type": "display_data"
    },
    {
     "data": {
      "text/html": [
       "Run data is saved locally in <code>/home/sruj/jupyter/wandb/run-20231022_225329-dqrhnrk7</code>"
      ],
      "text/plain": [
       "<IPython.core.display.HTML object>"
      ]
     },
     "metadata": {},
     "output_type": "display_data"
    },
    {
     "data": {
      "text/html": [
       "Syncing run <strong><a href='https://wandb.ai/srujana-vanka/assignment3-smai/runs/dqrhnrk7' target=\"_blank\">jumping-microwave-28</a></strong> to <a href='https://wandb.ai/srujana-vanka/assignment3-smai' target=\"_blank\">Weights & Biases</a> (<a href='https://wandb.me/run' target=\"_blank\">docs</a>)<br/>"
      ],
      "text/plain": [
       "<IPython.core.display.HTML object>"
      ]
     },
     "metadata": {},
     "output_type": "display_data"
    },
    {
     "data": {
      "text/html": [
       " View project at <a href='https://wandb.ai/srujana-vanka/assignment3-smai' target=\"_blank\">https://wandb.ai/srujana-vanka/assignment3-smai</a>"
      ],
      "text/plain": [
       "<IPython.core.display.HTML object>"
      ]
     },
     "metadata": {},
     "output_type": "display_data"
    },
    {
     "data": {
      "text/html": [
       " View run at <a href='https://wandb.ai/srujana-vanka/assignment3-smai/runs/dqrhnrk7' target=\"_blank\">https://wandb.ai/srujana-vanka/assignment3-smai/runs/dqrhnrk7</a>"
      ],
      "text/plain": [
       "<IPython.core.display.HTML object>"
      ]
     },
     "metadata": {},
     "output_type": "display_data"
    },
    {
     "name": "stdout",
     "output_type": "stream",
     "text": [
      "Epoch 1/10, Train Loss: 219.5006, Train Acc: 92.81%, Validation Loss: 0.0507, Validation Acc: 98.44%\n",
      "Epoch 2/10, Train Loss: 78.7054, Train Acc: 97.53%, Validation Loss: 0.0311, Validation Acc: 99.02%\n",
      "Epoch 3/10, Train Loss: 60.4261, Train Acc: 98.06%, Validation Loss: 0.0233, Validation Acc: 99.28%\n",
      "Epoch 4/10, Train Loss: 49.2154, Train Acc: 98.40%, Validation Loss: 0.0183, Validation Acc: 99.42%\n",
      "Epoch 5/10, Train Loss: 40.5488, Train Acc: 98.70%, Validation Loss: 0.0171, Validation Acc: 99.45%\n",
      "Epoch 6/10, Train Loss: 36.3484, Train Acc: 98.81%, Validation Loss: 0.0119, Validation Acc: 99.61%\n",
      "Epoch 7/10, Train Loss: 33.9710, Train Acc: 98.90%, Validation Loss: 0.0089, Validation Acc: 99.71%\n",
      "Epoch 8/10, Train Loss: 29.3027, Train Acc: 99.03%, Validation Loss: 0.0076, Validation Acc: 99.75%\n",
      "Epoch 9/10, Train Loss: 26.4319, Train Acc: 99.06%, Validation Loss: 0.0059, Validation Acc: 99.81%\n",
      "Epoch 10/10, Train Loss: 22.9924, Train Acc: 99.22%, Validation Loss: 0.0066, Validation Acc: 99.77%\n"
     ]
    },
    {
     "data": {
      "text/html": [
       "Waiting for W&B process to finish... <strong style=\"color:green\">(success).</strong>"
      ],
      "text/plain": [
       "<IPython.core.display.HTML object>"
      ]
     },
     "metadata": {},
     "output_type": "display_data"
    },
    {
     "data": {
      "application/vnd.jupyter.widget-view+json": {
       "model_id": "00cbf62b4a2240be8046c257ed817c66",
       "version_major": 2,
       "version_minor": 0
      },
      "text/plain": [
       "VBox(children=(Label(value='0.002 MB of 0.002 MB uploaded (0.000 MB deduped)\\r'), FloatProgress(value=1.0, max…"
      ]
     },
     "metadata": {},
     "output_type": "display_data"
    },
    {
     "data": {
      "text/html": [
       " View run <strong style=\"color:#cdcd00\">jumping-microwave-28</strong> at: <a href='https://wandb.ai/srujana-vanka/assignment3-smai/runs/dqrhnrk7' target=\"_blank\">https://wandb.ai/srujana-vanka/assignment3-smai/runs/dqrhnrk7</a><br/>Synced 5 W&B file(s), 0 media file(s), 0 artifact file(s) and 0 other file(s)"
      ],
      "text/plain": [
       "<IPython.core.display.HTML object>"
      ]
     },
     "metadata": {},
     "output_type": "display_data"
    },
    {
     "data": {
      "text/html": [
       "Find logs at: <code>./wandb/run-20231022_225329-dqrhnrk7/logs</code>"
      ],
      "text/plain": [
       "<IPython.core.display.HTML object>"
      ]
     },
     "metadata": {},
     "output_type": "display_data"
    }
   ],
   "source": [
    "import wandb\n",
    "\n",
    "# Initialize W&B\n",
    "wandb.init(project=\"assignment3-smai\")\n",
    "\n",
    "# Define hyperparameters for tuning\n",
    "config = wandb.config\n",
    "config.learning_rate = 0.001\n",
    "config.batch_size = 64\n",
    "config.kernel_size = 3\n",
    "config.epochs = 10\n",
    "config.dropout_rate = 0.5\n",
    "\n",
    "# Initialize the model, loss function, and optimizer\n",
    "model = BaselineCNN().to(device)\n",
    "criterion = nn.CrossEntropyLoss()\n",
    "optimizer = optim.Adam(model.parameters(), lr=config.learning_rate)\n",
    "\n",
    "# Training loop\n",
    "num_epochs = config.epochs\n",
    "train_losses, train_accuracies, val_losses, val_accuracies = [], [], [], []\n",
    "\n",
    "for epoch in range(num_epochs):\n",
    "    train_loss, train_accuracy = train(model, trainloader, optimizer, criterion)\n",
    "    val_loss, val_accuracy = validate(model, trainloader, criterion)\n",
    "\n",
    "    train_losses.append(train_loss)\n",
    "    train_accuracies.append(train_accuracy)\n",
    "    val_losses.append(val_loss)\n",
    "    val_accuracies.append(val_accuracy)\n",
    "\n",
    "    print(f\"Epoch {epoch + 1}/{num_epochs}, Train Loss: {train_loss:.4f}, Train Acc: {train_accuracy:.2f}%, Validation Loss: {val_loss:.4f}, Validation Acc: {val_accuracy:.2f}%\")\n",
    "\n",
    "# Finish the W&B run\n",
    "wandb.finish()\n"
   ]
  },
  {
   "cell_type": "markdown",
   "id": "79d52b2b-8994-48c0-94ac-63f3165e1e60",
   "metadata": {},
   "source": [
    "### 2. Compare the effect of using and not using dropout layers"
   ]
  },
  {
   "cell_type": "code",
   "execution_count": 83,
   "id": "0bb9b464-fe28-491a-90b2-246f5f40f2e3",
   "metadata": {},
   "outputs": [],
   "source": [
    "class CNNWithoutDropout(nn.Module):\n",
    "    def __init__(self):\n",
    "        super(CNNWithoutDropout, self).__init__()\n",
    "        self.conv1 = nn.Conv2d(1, 32, 3, padding=1)\n",
    "        self.relu1 = nn.ReLU()\n",
    "        self.pool1 = nn.MaxPool2d(2, 2)\n",
    "        self.conv2 = nn.Conv2d(32, 64, 3, padding=1)\n",
    "        self.relu2 = nn.ReLU()\n",
    "        self.pool2 = nn.MaxPool2d(2, 2)\n",
    "        self.fc1 = nn.Linear(64 * 7 * 7, 128)\n",
    "        self.relu3 = nn.ReLU()\n",
    "        self.fc2 = nn.Linear(128, 10)  # 10 classes for MNIST\n",
    "\n",
    "    def forward(self, x):\n",
    "        x = self.pool1(self.relu1(self.conv1(x)))\n",
    "        x = self.pool2(self.relu2(self.conv2(x)))\n",
    "        x = x.view(-1, 64 * 7 * 7)\n",
    "        x = self.relu3(self.fc1(x))\n",
    "        x = self.fc2(x)\n",
    "        return x\n"
   ]
  },
  {
   "cell_type": "code",
   "execution_count": 85,
   "id": "bca34e00-a366-4182-8b26-328b452557b0",
   "metadata": {},
   "outputs": [
    {
     "data": {
      "application/vnd.jupyter.widget-view+json": {
       "model_id": "f84012c780214e9e977d0c530fe63e68",
       "version_major": 2,
       "version_minor": 0
      },
      "text/plain": [
       "VBox(children=(Label(value='Waiting for wandb.init()...\\r'), FloatProgress(value=0.011113326700008959, max=1.0…"
      ]
     },
     "metadata": {},
     "output_type": "display_data"
    },
    {
     "data": {
      "text/html": [
       "wandb version 0.15.12 is available!  To upgrade, please run:\n",
       " $ pip install wandb --upgrade"
      ],
      "text/plain": [
       "<IPython.core.display.HTML object>"
      ]
     },
     "metadata": {},
     "output_type": "display_data"
    },
    {
     "data": {
      "text/html": [
       "Tracking run with wandb version 0.15.11"
      ],
      "text/plain": [
       "<IPython.core.display.HTML object>"
      ]
     },
     "metadata": {},
     "output_type": "display_data"
    },
    {
     "data": {
      "text/html": [
       "Run data is saved locally in <code>/home/sruj/jupyter/wandb/run-20231022_211500-wnfuy35b</code>"
      ],
      "text/plain": [
       "<IPython.core.display.HTML object>"
      ]
     },
     "metadata": {},
     "output_type": "display_data"
    },
    {
     "data": {
      "text/html": [
       "Syncing run <strong><a href='https://wandb.ai/srujana-vanka/assignment3-smai/runs/wnfuy35b' target=\"_blank\">sunny-cloud-25</a></strong> to <a href='https://wandb.ai/srujana-vanka/assignment3-smai' target=\"_blank\">Weights & Biases</a> (<a href='https://wandb.me/run' target=\"_blank\">docs</a>)<br/>"
      ],
      "text/plain": [
       "<IPython.core.display.HTML object>"
      ]
     },
     "metadata": {},
     "output_type": "display_data"
    },
    {
     "data": {
      "text/html": [
       " View project at <a href='https://wandb.ai/srujana-vanka/assignment3-smai' target=\"_blank\">https://wandb.ai/srujana-vanka/assignment3-smai</a>"
      ],
      "text/plain": [
       "<IPython.core.display.HTML object>"
      ]
     },
     "metadata": {},
     "output_type": "display_data"
    },
    {
     "data": {
      "text/html": [
       " View run at <a href='https://wandb.ai/srujana-vanka/assignment3-smai/runs/wnfuy35b' target=\"_blank\">https://wandb.ai/srujana-vanka/assignment3-smai/runs/wnfuy35b</a>"
      ],
      "text/plain": [
       "<IPython.core.display.HTML object>"
      ]
     },
     "metadata": {},
     "output_type": "display_data"
    },
    {
     "name": "stdout",
     "output_type": "stream",
     "text": [
      "Epoch 1/10, Train Loss (no dropout): 146.5778, Train Acc (no dropout): 95.18%, Validation Loss (no dropout): 55.6659, Validation Acc (no dropout): 98.08%\n",
      "Epoch 2/10, Train Loss (no dropout): 43.3328, Train Acc (no dropout): 98.59%, Validation Loss (no dropout): 33.6905, Validation Acc (no dropout): 98.86%\n",
      "Epoch 3/10, Train Loss (no dropout): 29.4051, Train Acc (no dropout): 99.05%, Validation Loss (no dropout): 19.6676, Validation Acc (no dropout): 99.32%\n",
      "Epoch 4/10, Train Loss (no dropout): 20.5276, Train Acc (no dropout): 99.30%, Validation Loss (no dropout): 12.0633, Validation Acc (no dropout): 99.60%\n",
      "Epoch 5/10, Train Loss (no dropout): 16.2055, Train Acc (no dropout): 99.43%, Validation Loss (no dropout): 12.4197, Validation Acc (no dropout): 99.58%\n",
      "Epoch 6/10, Train Loss (no dropout): 12.1742, Train Acc (no dropout): 99.57%, Validation Loss (no dropout): 18.0395, Validation Acc (no dropout): 99.32%\n",
      "Epoch 7/10, Train Loss (no dropout): 10.1397, Train Acc (no dropout): 99.63%, Validation Loss (no dropout): 6.4452, Validation Acc (no dropout): 99.77%\n",
      "Epoch 8/10, Train Loss (no dropout): 9.2752, Train Acc (no dropout): 99.67%, Validation Loss (no dropout): 5.4776, Validation Acc (no dropout): 99.81%\n",
      "Epoch 9/10, Train Loss (no dropout): 6.9156, Train Acc (no dropout): 99.75%, Validation Loss (no dropout): 10.1058, Validation Acc (no dropout): 99.64%\n",
      "Epoch 10/10, Train Loss (no dropout): 6.7633, Train Acc (no dropout): 99.74%, Validation Loss (no dropout): 5.6031, Validation Acc (no dropout): 99.81%\n"
     ]
    }
   ],
   "source": [
    "# Train the model without dropout layers\n",
    "model_without_dropout = CNNWithoutDropout().to(device)\n",
    "optimizer_without_dropout = optim.Adam(model_without_dropout.parameters(), lr=config.learning_rate)\n",
    "\n",
    "wandb.init(project=\"assignment3-smai\")\n",
    "\n",
    "def train_without_dropout(model, dataloader, optimizer, criterion):\n",
    "    model.train()\n",
    "    running_loss = 0.0\n",
    "    correct = 0\n",
    "    total = 0\n",
    "\n",
    "    for inputs, labels in dataloader:\n",
    "        inputs, labels = inputs.to(device), labels.to(device)\n",
    "        optimizer.zero_grad()\n",
    "\n",
    "        outputs = model(inputs)\n",
    "        loss = criterion(outputs, labels)\n",
    "        loss.backward()\n",
    "        optimizer.step()\n",
    "\n",
    "        running_loss += loss.item()\n",
    "        _, predicted = outputs.max(1)\n",
    "        total += labels.size(0)\n",
    "        correct += predicted.eq(labels).sum().item()\n",
    "\n",
    "    accuracy = 100 * correct / total\n",
    "    return running_loss, accuracy\n",
    "\n",
    "# Training loop for the model without dropout\n",
    "num_epochs = config.epochs\n",
    "train_losses_no_dropout, train_accuracies_no_dropout, val_losses_no_dropout, val_accuracies_no_dropout = [], [], [], []\n",
    "\n",
    "for epoch in range(num_epochs):\n",
    "    train_loss_no_dropout, train_accuracy_no_dropout = train_without_dropout(model_without_dropout, trainloader, optimizer_without_dropout, criterion)\n",
    "    val_loss_no_dropout, val_accuracy_no_dropout = validate(model_without_dropout, trainloader, criterion)\n",
    "\n",
    "    train_losses_no_dropout.append(train_loss_no_dropout)\n",
    "    train_accuracies_no_dropout.append(train_accuracy_no_dropout)\n",
    "    val_losses_no_dropout.append(val_loss_no_dropout)\n",
    "    val_accuracies_no_dropout.append(val_accuracy_no_dropout)\n",
    "\n",
    "    print(f\"Epoch {epoch + 1}/{num_epochs}, Train Loss (no dropout): {train_loss_no_dropout:.4f}, Train Acc (no dropout): {train_accuracy_no_dropout:.2f}%, Validation Loss (no dropout): {val_loss_no_dropout:.4f}, Validation Acc (no dropout): {val_accuracy_no_dropout:.2f}%\")\n",
    "\n",
    "# Save metrics for the model without dropout\n",
    "wandb.log({\"train_loss_no_dropout\": train_loss_no_dropout, \"train_accuracy_no_dropout\": train_accuracy_no_dropout,\n",
    "           \"val_loss_no_dropout\": val_loss_no_dropout, \"val_accuracy_no_dropout\": val_accuracy_no_dropout})\n"
   ]
  },
  {
   "cell_type": "code",
   "execution_count": 86,
   "id": "2b231127-2741-46b6-b98c-e04dc28e761a",
   "metadata": {},
   "outputs": [
    {
     "data": {
      "image/png": "[encoded data removed]",
      "text/plain": [
       "<Figure size 1200x400 with 2 Axes>"
      ]
     },
     "metadata": {},
     "output_type": "display_data"
    }
   ],
   "source": [
    "# Compare results\n",
    "import matplotlib.pyplot as plt\n",
    "\n",
    "# Plotting\n",
    "plt.figure(figsize=(12, 4))\n",
    "plt.subplot(1, 2, 1)\n",
    "plt.plot(train_accuracies, label='Training Accuracy (with dropout)')\n",
    "plt.plot(val_accuracies, label='Validation Accuracy (with dropout)')\n",
    "plt.plot(train_accuracies_no_dropout, label='Training Accuracy (without dropout)')\n",
    "plt.plot(val_accuracies_no_dropout, label='Validation Accuracy (without dropout)')\n",
    "plt.legend()\n",
    "plt.title('Accuracy')\n",
    "plt.xlabel('Epoch')\n",
    "\n",
    "plt.subplot(1, 2, 2)\n",
    "plt.plot(train_losses, label='Training Loss (with dropout)')\n",
    "plt.plot(val_losses, label='Validation Loss (with dropout)')\n",
    "plt.plot(train_losses_no_dropout, label='Training Loss (without dropout)')\n",
    "plt.plot(val_losses_no_dropout, label='Validation Loss (without dropout)')\n",
    "plt.legend()\n",
    "plt.title('Loss')\n",
    "plt.xlabel('Epoch')\n",
    "\n",
    "plt.show()\n"
   ]
  },
  {
   "cell_type": "markdown",
   "id": "24fa4850-443a-4e06-88fe-fe83616941f2",
   "metadata": {},
   "source": [
    "### 3. Log training/validation loss and accuracy, confusion matrices, and class-specific metrics using W&B"
   ]
  },
  {
   "cell_type": "code",
   "execution_count": 87,
   "id": "e078bf9c-04e3-4020-9657-7bca22405411",
   "metadata": {},
   "outputs": [
    {
     "data": {
      "text/html": [
       "Finishing last run (ID:wnfuy35b) before initializing another..."
      ],
      "text/plain": [
       "<IPython.core.display.HTML object>"
      ]
     },
     "metadata": {},
     "output_type": "display_data"
    },
    {
     "data": {
      "text/html": [
       "Waiting for W&B process to finish... <strong style=\"color:green\">(success).</strong>"
      ],
      "text/plain": [
       "<IPython.core.display.HTML object>"
      ]
     },
     "metadata": {},
     "output_type": "display_data"
    },
    {
     "data": {
      "text/html": [
       "<style>\n",
       "    table.wandb td:nth-child(1) { padding: 0 10px; text-align: left ; width: auto;} td:nth-child(2) {text-align: left ; width: 100%}\n",
       "    .wandb-row { display: flex; flex-direction: row; flex-wrap: wrap; justify-content: flex-start; width: 100% }\n",
       "    .wandb-col { display: flex; flex-direction: column; flex-basis: 100%; flex: 1; padding: 10px; }\n",
       "    </style>\n",
       "<div class=\"wandb-row\"><div class=\"wandb-col\"><h3>Run history:</h3><br/><table class=\"wandb\"><tr><td>train_accuracy_no_dropout</td><td>▁</td></tr><tr><td>train_loss_no_dropout</td><td>▁</td></tr><tr><td>val_accuracy_no_dropout</td><td>▁</td></tr><tr><td>val_loss_no_dropout</td><td>▁</td></tr></table><br/></div><div class=\"wandb-col\"><h3>Run summary:</h3><br/><table class=\"wandb\"><tr><td>train_accuracy_no_dropout</td><td>99.73667</td></tr><tr><td>train_loss_no_dropout</td><td>6.76335</td></tr><tr><td>val_accuracy_no_dropout</td><td>99.805</td></tr><tr><td>val_loss_no_dropout</td><td>5.60313</td></tr></table><br/></div></div>"
      ],
      "text/plain": [
       "<IPython.core.display.HTML object>"
      ]
     },
     "metadata": {},
     "output_type": "display_data"
    },
    {
     "data": {
      "text/html": [
       " View run <strong style=\"color:#cdcd00\">sunny-cloud-25</strong> at: <a href='https://wandb.ai/srujana-vanka/assignment3-smai/runs/wnfuy35b' target=\"_blank\">https://wandb.ai/srujana-vanka/assignment3-smai/runs/wnfuy35b</a><br/>Synced 5 W&B file(s), 0 media file(s), 0 artifact file(s) and 0 other file(s)"
      ],
      "text/plain": [
       "<IPython.core.display.HTML object>"
      ]
     },
     "metadata": {},
     "output_type": "display_data"
    },
    {
     "data": {
      "text/html": [
       "Find logs at: <code>./wandb/run-20231022_211500-wnfuy35b/logs</code>"
      ],
      "text/plain": [
       "<IPython.core.display.HTML object>"
      ]
     },
     "metadata": {},
     "output_type": "display_data"
    },
    {
     "data": {
      "text/html": [
       "Successfully finished last run (ID:wnfuy35b). Initializing new run:<br/>"
      ],
      "text/plain": [
       "<IPython.core.display.HTML object>"
      ]
     },
     "metadata": {},
     "output_type": "display_data"
    },
    {
     "data": {
      "application/vnd.jupyter.widget-view+json": {
       "model_id": "7c9b00f23363478f86c892eacfbeedcf",
       "version_major": 2,
       "version_minor": 0
      },
      "text/plain": [
       "VBox(children=(Label(value='Waiting for wandb.init()...\\r'), FloatProgress(value=0.011112565577786882, max=1.0…"
      ]
     },
     "metadata": {},
     "output_type": "display_data"
    },
    {
     "data": {
      "text/html": [
       "wandb version 0.15.12 is available!  To upgrade, please run:\n",
       " $ pip install wandb --upgrade"
      ],
      "text/plain": [
       "<IPython.core.display.HTML object>"
      ]
     },
     "metadata": {},
     "output_type": "display_data"
    },
    {
     "data": {
      "text/html": [
       "Tracking run with wandb version 0.15.11"
      ],
      "text/plain": [
       "<IPython.core.display.HTML object>"
      ]
     },
     "metadata": {},
     "output_type": "display_data"
    },
    {
     "data": {
      "text/html": [
       "Run data is saved locally in <code>/home/sruj/jupyter/wandb/run-20231022_212254-4z8qkdgu</code>"
      ],
      "text/plain": [
       "<IPython.core.display.HTML object>"
      ]
     },
     "metadata": {},
     "output_type": "display_data"
    },
    {
     "data": {
      "text/html": [
       "Syncing run <strong><a href='https://wandb.ai/srujana-vanka/assignment3-smai/runs/4z8qkdgu' target=\"_blank\">pretty-armadillo-26</a></strong> to <a href='https://wandb.ai/srujana-vanka/assignment3-smai' target=\"_blank\">Weights & Biases</a> (<a href='https://wandb.me/run' target=\"_blank\">docs</a>)<br/>"
      ],
      "text/plain": [
       "<IPython.core.display.HTML object>"
      ]
     },
     "metadata": {},
     "output_type": "display_data"
    },
    {
     "data": {
      "text/html": [
       " View project at <a href='https://wandb.ai/srujana-vanka/assignment3-smai' target=\"_blank\">https://wandb.ai/srujana-vanka/assignment3-smai</a>"
      ],
      "text/plain": [
       "<IPython.core.display.HTML object>"
      ]
     },
     "metadata": {},
     "output_type": "display_data"
    },
    {
     "data": {
      "text/html": [
       " View run at <a href='https://wandb.ai/srujana-vanka/assignment3-smai/runs/4z8qkdgu' target=\"_blank\">https://wandb.ai/srujana-vanka/assignment3-smai/runs/4z8qkdgu</a>"
      ],
      "text/plain": [
       "<IPython.core.display.HTML object>"
      ]
     },
     "metadata": {},
     "output_type": "display_data"
    }
   ],
   "source": [
    "from sklearn.metrics import confusion_matrix, classification_report\n",
    "\n",
    "wandb.init(project=\"assignment3-smai\")\n",
    "\n",
    "# Define hyperparameters\n",
    "config = wandb.config\n",
    "config.learning_rate = 0.001\n",
    "config.epochs = 10\n",
    "config.batch_size = 64\n",
    "\n",
    "# Initialize the model, loss function, and optimizer\n",
    "model = BaselineCNN().to(device)\n",
    "criterion = nn.CrossEntropyLoss()\n",
    "optimizer = optim.Adam(model.parameters(), lr=config.learning_rate)\n",
    "\n",
    "# Training \n",
    "for epoch in range(config.epochs):\n",
    "    train_loss, train_accuracy = train(model, trainloader, optimizer, criterion)\n",
    "    val_loss, val_accuracy = validate(model, trainloader, criterion)\n",
    "\n",
    "    # Log training and validation metrics\n",
    "    wandb.log({\"train_loss\": train_loss, \"train_accuracy\": train_accuracy, \"val_loss\": val_loss, \"val_accuracy\": val_accuracy})\n",
    "\n",
    "# Create confusion matrix and class-specific metrics\n",
    "model.eval()\n",
    "all_labels = []\n",
    "all_predictions = []\n",
    "\n",
    "with torch.no_grad():\n",
    "    for inputs, labels in trainloader:\n",
    "        inputs, labels = inputs.to(device), labels.to(device)\n",
    "        outputs = model(inputs)\n",
    "        _, predicted = outputs.max(1)\n",
    "        all_labels.extend(labels.cpu().numpy())\n",
    "        all_predictions.extend(predicted.cpu().numpy())\n",
    "\n",
    "# Compute and log confusion matrix\n",
    "confusion = confusion_matrix(all_labels, all_predictions, labels=list(range(10)))\n",
    "wandb.log({\"confusion_matrix\": wandb.plot.confusion_matrix(probs=None, y_true=all_labels, preds=all_predictions, class_names=[str(i) for i in range(10)])})\n",
    "\n",
    "# Compute and log class-specific metrics (precision, recall, F1-score)\n",
    "class_metrics = classification_report(all_labels, all_predictions, target_names=[str(i) for i in range(10)], output_dict=True)\n",
    "wandb.log({\"class_metrics\": class_metrics})\n"
   ]
  },
  {
   "cell_type": "markdown",
   "id": "5f1c95a8-f624-4893-b350-1b16de5b6a40",
   "metadata": {},
   "source": [
    "## 4.4 Model Evaluation and Analysis"
   ]
  },
  {
   "cell_type": "markdown",
   "id": "9ddaf352-004b-4036-8265-77b84f211873",
   "metadata": {},
   "source": [
    "### 1. Evaluate your best model on the test set and report accuracy, per-class accuracy, and classification report"
   ]
  },
  {
   "cell_type": "code",
   "execution_count": 90,
   "id": "5d96ec99-5330-4a61-ad1f-3ecc607f4cbd",
   "metadata": {},
   "outputs": [
    {
     "name": "stdout",
     "output_type": "stream",
     "text": [
      "Epoch 1/10, Validation Accuracy: 98.40%\n",
      "Epoch 2/10, Validation Accuracy: 98.87%\n",
      "Epoch 3/10, Validation Accuracy: 99.23%\n",
      "Epoch 4/10, Validation Accuracy: 99.39%\n",
      "Epoch 5/10, Validation Accuracy: 99.56%\n",
      "Epoch 6/10, Validation Accuracy: 99.62%\n",
      "Epoch 7/10, Validation Accuracy: 99.68%\n",
      "Epoch 8/10, Validation Accuracy: 99.78%\n",
      "Epoch 9/10, Validation Accuracy: 99.75%\n",
      "Epoch 10/10, Validation Accuracy: 99.83%\n",
      "Best Validation Accuracy: 99.83%\n",
      "Test Accuracy: 99.74%\n",
      "Class 0 Accuracy: 100.00%\n",
      "Class 1 Accuracy: 99.93%\n",
      "Class 2 Accuracy: 99.67%\n",
      "Class 3 Accuracy: 99.67%\n",
      "Class 4 Accuracy: 99.83%\n",
      "Class 5 Accuracy: 99.91%\n",
      "Class 6 Accuracy: 99.25%\n",
      "Class 7 Accuracy: 99.92%\n",
      "Class 8 Accuracy: 99.75%\n",
      "Class 9 Accuracy: 99.50%\n",
      "Classification Report:\n",
      "              precision    recall  f1-score   support\n",
      "\n",
      "           0       0.99      1.00      1.00      1187\n",
      "           1       1.00      1.00      1.00      1338\n",
      "           2       1.00      1.00      1.00      1204\n",
      "           3       1.00      1.00      1.00      1209\n",
      "           4       1.00      1.00      1.00      1159\n",
      "           5       1.00      1.00      1.00      1067\n",
      "           6       1.00      0.99      1.00      1205\n",
      "           7       0.99      1.00      1.00      1248\n",
      "           8       1.00      1.00      1.00      1185\n",
      "           9       1.00      0.99      1.00      1198\n",
      "\n",
      "    accuracy                           1.00     12000\n",
      "   macro avg       1.00      1.00      1.00     12000\n",
      "weighted avg       1.00      1.00      1.00     12000\n",
      "\n"
     ]
    }
   ],
   "source": [
    "from sklearn.metrics import classification_report, accuracy_score\n",
    "\n",
    "# Initialize model\n",
    "best_model = BaselineCNN()\n",
    "\n",
    "# Define training configuration\n",
    "num_epochs = 10\n",
    "device = torch.device(\"cuda\" if torch.cuda.is_available() else \"cpu\")\n",
    "\n",
    "# Define the optimizer and loss function\n",
    "optimizer = optim.Adam(best_model.parameters(), lr=0.001)\n",
    "criterion = nn.CrossEntropyLoss()\n",
    "best_accuracy = 0.0\n",
    "\n",
    "\n",
    "batch_size = 64\n",
    "\n",
    "# Create a DataLoader for the validation dataset\n",
    "valloader = DataLoader(val_dataset, batch_size=batch_size, shuffle=False)\n",
    "\n",
    "# Create a DataLoader for the test dataset\n",
    "testloader = DataLoader(test_dataset, batch_size=batch_size, shuffle=False)\n",
    "\n",
    "\n",
    "# Training loop\n",
    "for epoch in range(num_epochs):\n",
    "    best_model.train()\n",
    "    running_loss = 0.0\n",
    "\n",
    "    for inputs, labels in trainloader:\n",
    "        inputs, labels = inputs.to(device), labels.to(device)\n",
    "        optimizer.zero_grad()\n",
    "\n",
    "        outputs = best_model(inputs)\n",
    "        loss = criterion(outputs, labels)\n",
    "        loss.backward()\n",
    "        optimizer.step()\n",
    "\n",
    "        running_loss += loss.item()\n",
    "\n",
    "    # Validation\n",
    "    best_model.eval()\n",
    "    correct = 0\n",
    "    total = 0\n",
    "\n",
    "    with torch.no_grad():\n",
    "        for inputs, labels in valloader:\n",
    "            inputs, labels = inputs.to(device), labels.to(device)\n",
    "\n",
    "            outputs = best_model(inputs)\n",
    "            _, predicted = outputs.max(1)\n",
    "            total += labels.size(0)\n",
    "            correct += predicted.eq(labels).sum().item()\n",
    "\n",
    "    accuracy = 100 * correct / total\n",
    "    print(f\"Epoch {epoch+1}/{num_epochs}, Validation Accuracy: {accuracy:.2f}%\")\n",
    "\n",
    "    # Check if the current model is the best\n",
    "    if accuracy > best_accuracy:\n",
    "        best_accuracy = accuracy\n",
    "        # Update the best model\n",
    "        best_model.load_state_dict(best_model.state_dict())  # Update the best_model\n",
    "\n",
    "print(f\"Best Validation Accuracy: {best_accuracy:.2f}%\")\n",
    "\n",
    "best_model.eval()\n",
    "true_labels = []\n",
    "predicted_labels = []\n",
    "\n",
    "with torch.no_grad():\n",
    "    for inputs, labels in testloader:\n",
    "        inputs, labels = inputs.to(device), labels.to(device)\n",
    "        outputs = best_model(inputs)\n",
    "        _, predicted = outputs.max(1)\n",
    "        true_labels.extend(labels.cpu().numpy())\n",
    "        predicted_labels.extend(predicted.cpu().numpy())\n",
    "\n",
    "# Calculate overall accuracy\n",
    "accuracy = accuracy_score(true_labels, predicted_labels)\n",
    "print(\"Test Accuracy: {:.2f}%\".format(accuracy * 100))\n",
    "\n",
    "# Calculate per-class accuracy\n",
    "class_accuracy = []\n",
    "for class_label in range(10):\n",
    "    class_indices = [i for i, label in enumerate(true_labels) if label == class_label]\n",
    "    class_true_labels = np.array(true_labels)[class_indices]\n",
    "    class_predicted_labels = np.array(predicted_labels)[class_indices]\n",
    "    class_acc = accuracy_score(class_true_labels, class_predicted_labels)\n",
    "    class_accuracy.append(class_acc)\n",
    "    print(\"Class {} Accuracy: {:.2f}%\".format(class_label, class_acc * 100))\n",
    "\n",
    "\n",
    "report = classification_report(true_labels, predicted_labels, target_names=[str(i) for i in range(10)])\n",
    "print(\"Classification Report:\")\n",
    "print(report)\n"
   ]
  },
  {
   "cell_type": "markdown",
   "id": "053a237b-a118-468b-98b6-c1f80694eca5",
   "metadata": {},
   "source": [
    "### 2. Provide a clear visualization of the model’s performance, e.g., confusion matrix."
   ]
  },
  {
   "cell_type": "code",
   "execution_count": 91,
   "id": "5aeb5332-8c39-4e44-80da-1f33fb2e6b1b",
   "metadata": {},
   "outputs": [
    {
     "name": "stdout",
     "output_type": "stream",
     "text": [
      "Classification Report:\n",
      "              precision    recall  f1-score   support\n",
      "\n",
      "           0       0.99      1.00      1.00      1187\n",
      "           1       1.00      1.00      1.00      1338\n",
      "           2       1.00      1.00      1.00      1204\n",
      "           3       1.00      1.00      1.00      1209\n",
      "           4       1.00      1.00      1.00      1159\n",
      "           5       1.00      1.00      1.00      1067\n",
      "           6       1.00      0.99      1.00      1205\n",
      "           7       0.99      1.00      1.00      1248\n",
      "           8       1.00      1.00      1.00      1185\n",
      "           9       1.00      0.99      1.00      1198\n",
      "\n",
      "    accuracy                           1.00     12000\n",
      "   macro avg       1.00      1.00      1.00     12000\n",
      "weighted avg       1.00      1.00      1.00     12000\n",
      "\n"
     ]
    },
    {
     "data": {
      "image/png": "[encoded data removed]",
      "text/plain": [
       "<Figure size 800x600 with 2 Axes>"
      ]
     },
     "metadata": {},
     "output_type": "display_data"
    }
   ],
   "source": [
    "import matplotlib.pyplot as plt\n",
    "import seaborn as sns\n",
    "from sklearn.metrics import confusion_matrix\n",
    "\n",
    "# Generate and print a classification report\n",
    "report = classification_report(true_labels, predicted_labels, target_names=[str(i) for i in range(10)])\n",
    "print(\"Classification Report:\")\n",
    "print(report)\n",
    "\n",
    "# Calculate the confusion matrix\n",
    "cm = confusion_matrix(true_labels, predicted_labels)\n",
    "\n",
    "# Heatmap for the confusion matrix\n",
    "plt.figure(figsize=(8, 6))\n",
    "sns.heatmap(cm, annot=True, fmt=\"d\", cmap=\"Blues\", xticklabels=range(10), yticklabels=range(10))\n",
    "plt.xlabel(\"Predicted\")\n",
    "plt.ylabel(\"True\")\n",
    "plt.title(\"Confusion Matrix\")\n",
    "plt.show()\n"
   ]
  },
  {
   "cell_type": "markdown",
   "id": "51341f26-5edd-4d42-84b6-5a2d0c21c0ff",
   "metadata": {},
   "source": [
    "### 3. Identify a few instances where the model makes incorrect predictions and analyze possible reasons behind these misclassifications."
   ]
  },
  {
   "cell_type": "code",
   "execution_count": null,
   "id": "b6578d2a-1640-451f-854f-c1c42791e818",
   "metadata": {},
   "outputs": [],
   "source": [
    "from sklearn.metrics import classification_report, accuracy_score\n",
    "\n",
    "model.eval()\n",
    "\n",
    "# Initialize lists to store true labels and predicted labels\n",
    "true_labels = []\n",
    "predicted_labels = []\n",
    "\n",
    "with torch.no_grad():\n",
    "    for inputs, labels in testloader:  # Use the test data loader\n",
    "        inputs, labels = inputs.to(device), labels.to(device)\n",
    "        outputs = model(inputs)\n",
    "        _, predicted = outputs.max(1)\n",
    "        true_labels.extend(labels.cpu().numpy())\n",
    "        predicted_labels.extend(predicted.cpu().numpy())\n",
    "\n",
    "# Calculate overall accuracy\n",
    "accuracy = accuracy_score(true_labels, predicted_labels)\n",
    "print(\"Test Accuracy: {:.2f}%\".format(accuracy * 100))\n",
    "\n",
    "# Generate and print the classification report\n",
    "report = classification_report(true_labels, predicted_labels, target_names=[str(i) for i in range(10)])\n",
    "print(\"Classification Report:\")\n",
    "print(report)\n"
   ]
  },
  {
   "cell_type": "markdown",
   "id": "905833ac-c82c-42e0-a6b6-88c479474caf",
   "metadata": {},
   "source": [
    "First identify a few random misclassified instances by comparing the true labels with the predicted labels. Then visualize these misclassified instances along with their true and predicted labels.\n",
    "\n",
    "By analyzing these misclassified instances, one can gain insights into why the model made incorrect predictions. Common reasons for misclassifications can include:\n",
    "\n",
    "- Ambiguity in the data: Some images may be inherently ambiguous and difficult to classify correctly, even for humans.\n",
    "\n",
    "- Noise in the data: In real-world data, there can be noise or anomalies that make classification more challenging.\n",
    "\n",
    "- Model limitations: The model architecture, training data, and hyperparameters can affect its performance. Misclassifications may occur if the model is not sufficiently complex or if the training data is insufficient.\n",
    "\n",
    "- Data preprocessing: Inadequate or incorrect data preprocessing can affect the model's ability to correctly classify images."
   ]
  },
  {
   "cell_type": "markdown",
   "id": "d436c898-f48a-4941-a867-52681cf133ee",
   "metadata": {},
   "source": [
    "## 4.5 Train on Noisy Dataset"
   ]
  },
  {
   "cell_type": "markdown",
   "id": "c3d327a4-3808-427c-9b91-1b827bde863d",
   "metadata": {},
   "source": [
    "### Data processing and splitting"
   ]
  },
  {
   "cell_type": "code",
   "execution_count": null,
   "id": "a49537ba-1093-4667-9f7b-8237034f72d0",
   "metadata": {},
   "outputs": [],
   "source": [
    "import scipy.io\n",
    "import torch\n",
    "import torch.nn as nn\n",
    "import torch.optim as optim\n",
    "import numpy as np\n",
    "from torch.utils.data import DataLoader, TensorDataset\n",
    "from sklearn.metrics import classification_report, accuracy_score\n",
    "from sklearn.utils import shuffle\n",
    "\n",
    "# Load the noisy MNIST dataset\n",
    "mat_data = scipy.io.loadmat('/home/sruj/Downloads/mnist-with-awgn.mat')\n",
    "noisy_images_train = mat_data['train_x'].astype(np.float32)\n",
    "noisy_images_test = mat_data['test_x'].astype(np.float32)\n",
    "\n",
    "# Reshape the data to have the correct shape\n",
    "noisy_images_train = noisy_images_train.reshape(-1, 1, 28, 28)\n",
    "noisy_images_test = noisy_images_test.reshape(-1, 1, 28, 28)\n",
    "\n",
    "# Access noisy labels\n",
    "labels_train = mat_data['train_y'].astype(np.int64)\n",
    "labels_test = mat_data['test_y'].astype(np.int64)\n",
    "\n",
    "# Split the dataset into training, validation, and test sets\n",
    "X_train, X_test, y_train, y_test = train_test_split(noisy_images_train, labels_train, test_size=0.2, random_state=42)\n",
    "X_train, X_val, y_train, y_val = train_test_split(X_train, y_train, test_size=0.1, random_state=42)\n",
    "\n",
    "\n",
    "# Convert data to PyTorch tensors\n",
    "X_train, X_val, X_test = torch.tensor(X_train), torch.tensor(X_val), torch.tensor(X_test)\n",
    "y_train, y_val, y_test = torch.tensor(y_train), torch.tensor(y_val), torch.tensor(y_test)\n",
    "\n",
    "batch_size = 64\n",
    "\n",
    "# Create data loaders for the training, validation, and test sets\n",
    "train_dataset = TensorDataset(X_train, y_train)\n",
    "val_dataset = TensorDataset(X_val, y_val)\n",
    "test_dataset = TensorDataset(X_test, y_test)\n",
    "\n",
    "train_loader = DataLoader(train_dataset, batch_size=batch_size, shuffle=True)\n",
    "val_loader = DataLoader(val_dataset, batch_size=batch_size)\n",
    "test_loader = DataLoader(test_dataset, batch_size=batch_size, shuffle=False)\n"
   ]
  },
  {
   "cell_type": "markdown",
   "id": "36b3f11a-d1c8-44b7-a9f3-2ad3186cdbef",
   "metadata": {},
   "source": [
    "### Training the model on noisy dataset"
   ]
  },
  {
   "cell_type": "code",
   "execution_count": null,
   "id": "71822f1b-e486-45fa-a5d6-3ab380cfa571",
   "metadata": {},
   "outputs": [],
   "source": [
    "# Define the training configuration\n",
    "num_epochs = 10\n",
    "device = torch.device(\"cuda\" if torch.cuda.is_available() else \"cpu\")\n",
    "\n",
    "# Initialize your model\n",
    "best_model = BaselineCNN().to(device)\n",
    "\n",
    "# Define the optimizer and loss function\n",
    "optimizer = optim.Adam(best_model.parameters(), lr=0.001)\n",
    "criterion = nn.CrossEntropyLoss()\n",
    "\n",
    "# Initialize variables to track the best model\n",
    "best_accuracy = 0.0\n",
    "\n",
    "# Training loop\n",
    "for epoch in range(num_epochs):\n",
    "    best_model.train()\n",
    "    running_loss = 0.0\n",
    "\n",
    "    for inputs, labels in train_loader:\n",
    "        inputs, labels = inputs.to(device), labels.to(device)\n",
    "        optimizer.zero_grad()\n",
    "\n",
    "        outputs = best_model(inputs)\n",
    "        labels = labels.long()\n",
    "        loss = criterion(outputs, labels)\n",
    "        loss.backward()\n",
    "        optimizer.step()\n",
    "\n",
    "        running_loss += loss.item()\n",
    "\n",
    "    # Validation\n",
    "    best_model.eval()\n",
    "    correct = 0\n",
    "    total = 0\n",
    "\n",
    "    with torch.no_grad():\n",
    "        for inputs, labels in val_loader:\n",
    "            inputs, labels = inputs.to(device), labels.to(device)\n",
    "\n",
    "            outputs = best_model(inputs)\n",
    "         \n",
    "            labels = labels.long()\n",
    "            _, predicted = outputs.max(1)\n",
    "            total += labels.size(0)\n",
    "            correct += predicted.eq(labels).sum().item()\n",
    "\n",
    "    accuracy = 100 * correct / total\n",
    "    print(f\"Epoch {epoch+1}/{num_epochs}, Validation Accuracy: {accuracy:.2f}%\")\n",
    "\n",
    "    # Check if the current model is the best\n",
    "    if accuracy > best_accuracy:\n",
    "        best_accuracy = accuracy\n",
    "        # Update the best model\n",
    "        best_model.load_state_dict(best_model.state_dict())  # Load the best model's state dict"
   ]
  },
  {
   "cell_type": "code",
   "execution_count": null,
   "id": "61593f72-bfd7-474b-9132-1bf897724b34",
   "metadata": {},
   "outputs": [],
   "source": [
    "print(f\"Best Validation Accuracy: {best_accuracy:.2f}%\")\n",
    "\n",
    "best_model.eval()\n",
    "true_labels = []\n",
    "predicted_labels = []\n",
    "\n",
    "with torch.no_grad():\n",
    "    for inputs, labels in test_loader:\n",
    "        inputs, labels = inputs.to(device), labels.to(device)\n",
    "        outputs = best_model(inputs)\n",
    "        _, predicted = outputs.max(1)\n",
    "        true_labels.extend(labels.cpu().numpy())\n",
    "        predicted_labels.extend(predicted.cpu().numpy())\n",
    "\n",
    "# Overall accuracy\n",
    "accuracy = accuracy_score(true_labels, predicted_labels)\n",
    "print(\"Test Accuracy: {:.2f}%\".format(accuracy * 100))\n",
    "\n",
    "# Per-class accuracy\n",
    "class_accuracy = []\n",
    "for class_label in range(10):\n",
    "    class_indices = [i for i, label in enumerate(true_labels) if label == class_label]\n",
    "    class_true_labels = np.array(true_labels)[class_indices]\n",
    "    class_predicted_labels = np.array(predicted_labels)[class_indices]\n",
    "    class_acc = accuracy_score(class_true_labels, class_predicted_labels)\n",
    "    class_accuracy.append(class_acc)\n",
    "    print(\"Class {} Accuracy: {:.2f}%\".format(class_label, class_acc * 100))\n",
    "\n",
    "# Generate and print a classification report\n",
    "report = classification_report(true_labels, predicted_labels, target_names=[str(i) for i in range(10)])\n",
    "print(\"Classification Report:\")\n",
    "print(report)\n"
   ]
  },
  {
   "cell_type": "markdown",
   "id": "633f2e38-affe-4bbb-a4dc-e362d4b0d00b",
   "metadata": {},
   "source": [
    "### 2. Report validation losses, validation scores, training losses, training scores."
   ]
  },
  {
   "cell_type": "code",
   "execution_count": null,
   "id": "82003d43-45c3-4113-b92b-897be1af8920",
   "metadata": {},
   "outputs": [],
   "source": [
    "train_losses = []\n",
    "train_accuracies = []\n",
    "val_losses = []\n",
    "val_accuracies = []\n",
    "\n",
    "# Training \n",
    "for epoch in range(num_epochs):\n",
    "    train_loss, train_accuracy = train(model, trainloader, optimizer, criterion)\n",
    "    val_loss, val_accuracy = validate(model, valloader, criterion)  # Use the validation data loader\n",
    "\n",
    "    train_losses.append(train_loss)\n",
    "    train_accuracies.append(train_accuracy)\n",
    "    val_losses.append(val_loss)\n",
    "    val_accuracies.append(val_accuracy)\n",
    "\n",
    "    print(f\"Epoch {epoch+1}/{num_epochs}, Train Loss: {train_loss:.4f}, Train Acc: {train_accuracy:.2f}%, Validation Loss: {val_loss:.4f}, Validation Acc: {val_accuracy:.2f}%\")\n",
    "\n",
    "# PLotting\n",
    "plt.figure(figsize=(12, 4))\n",
    "plt.subplot(1, 2, 1)\n",
    "plt.plot(train_losses, label='Training Loss')\n",
    "plt.plot(val_losses, label='Validation Loss')\n",
    "plt.legend()\n",
    "plt.title('Loss')\n",
    "plt.xlabel('Epoch')\n",
    "plt.subplot(1, 2, 2)\n",
    "plt.plot(train_accuracies, label='Training Accuracy')\n",
    "plt.plot(val_accuracies, label='Validation Accuracy')\n",
    "plt.legend()\n",
    "plt.title('Accuracy')\n",
    "plt.xlabel('Epoch')\n",
    "plt.show()\n"
   ]
  },
  {
   "cell_type": "markdown",
   "id": "4df90a37-0430-42b9-977b-bbf7bbd574a2",
   "metadata": {},
   "source": [
    "### 3. Evaluate your model on test data and print the classification report."
   ]
  },
  {
   "cell_type": "code",
   "execution_count": null,
   "id": "5d3d6306-dc69-4a5d-a00e-ca1b4fd08269",
   "metadata": {},
   "outputs": [],
   "source": [
    "# Set the model to evaluation mode\n",
    "model.eval()\n",
    "\n",
    "true_labels = []\n",
    "predicted_labels = []\n",
    "\n",
    "with torch.no_grad():\n",
    "    for inputs, labels in test_loader:  \n",
    "        inputs, labels = inputs.to(device), labels.to(device)\n",
    "        outputs = model(inputs)\n",
    "        _, predicted = outputs.max(1)\n",
    "        true_labels.extend(labels.cpu().numpy())\n",
    "        predicted_labels.extend(predicted.cpu().numpy())\n",
    "\n",
    "# Calculate overall accuracy\n",
    "accuracy = accuracy_score(true_labels, predicted_labels)\n",
    "print(\"Test Accuracy: {:.2f}%\".format(accuracy * 100))\n",
    "\n",
    "# Generate and print the classification report\n",
    "report = classification_report(true_labels, predicted_labels, target_names=[str(i) for i in range(10)])\n",
    "print(\"Classification Report:\")\n",
    "print(report)\n"
   ]
  },
  {
   "cell_type": "markdown",
   "id": "f45a3352-464e-4e5f-91ab-6953c542d5bc",
   "metadata": {},
   "source": [
    "# 5. Some Other Variants"
   ]
  },
  {
   "cell_type": "markdown",
   "id": "b3259c9b-fad5-4cd5-bf3c-2a7efab97067",
   "metadata": {},
   "source": [
    "## 5.1 Multi-digit Recognition on Multi-MNIST Dataset"
   ]
  },
  {
   "cell_type": "code",
   "execution_count": null,
   "id": "62d4c7e8-99e8-46d1-b21a-507e8764c29b",
   "metadata": {},
   "outputs": [
    {
     "name": "stderr",
     "output_type": "stream",
     "text": [
      "2023-10-23 17:14:05.526241: I tensorflow/tsl/cuda/cudart_stub.cc:28] Could not find cuda drivers on your machine, GPU will not be used.\n",
      "2023-10-23 17:14:12.565091: I tensorflow/core/platform/cpu_feature_guard.cc:182] This TensorFlow binary is optimized to use available CPU instructions in performance-critical operations.\n",
      "To enable the following instructions: AVX2 FMA, in other operations, rebuild TensorFlow with the appropriate compiler flags.\n",
      "2023-10-23 17:14:33.020179: W tensorflow/compiler/tf2tensorrt/utils/py_utils.cc:38] TF-TRT Warning: Could not find TensorRT\n"
     ]
    }
   ],
   "source": [
    "import os\n",
    "import numpy as np\n",
    "import tensorflow as tf\n",
    "from tensorflow import keras\n",
    "from tensorflow.keras import layers\n",
    "from sklearn.model_selection import train_test_split\n",
    "\n",
    "# Define the path to the dataset folders\n",
    "train_folder = '/home/sruj/Downloads/double_mnist_seed_123_image_size_64_64/train'  \n",
    "test_folder = '/home/sruj/Downloads/double_mnist_seed_123_image_size_64_64/test'    \n",
    "val_folder = '/home/sruj/Downloads/double_mnist_seed_123_image_size_64_64/val'    \n",
    "\n",
    "# Function to load and preprocess images from a folder\n",
    "def load_images_from_folder(folder):\n",
    "    images = []\n",
    "    labels = []\n",
    "    for subfolder in os.listdir(folder):\n",
    "        subfolder_path = os.path.join(folder, subfolder)\n",
    "        if os.path.isdir(subfolder_path):\n",
    "            for filename in os.listdir(subfolder_path):\n",
    "                img = tf.keras.preprocessing.image.load_img(\n",
    "                    os.path.join(subfolder_path, filename),\n",
    "                    color_mode=\"grayscale\",\n",
    "                    target_size=(64, 64)\n",
    "                )\n",
    "                img_array = tf.keras.preprocessing.image.img_to_array(img)\n",
    "                images.append(img_array)\n",
    "                labels.append(int(subfolder))\n",
    "    return np.array(images), np.array(labels)\n",
    "\n",
    "# Load and preprocess the data from the train, test, and val folders\n",
    "train_images, train_labels = load_images_from_folder(train_folder)\n",
    "test_images, test_labels = load_images_from_folder(test_folder)\n",
    "val_images, val_labels = load_images_from_folder(val_folder)\n",
    "\n",
    "# Normalize pixel values to [0, 1]\n",
    "train_images, test_images, val_images = train_images / 255.0, test_images / 255.0, val_images / 255.0\n",
    "\n",
    "# Define the MLP model\n",
    "model = keras.Sequential([\n",
    "    layers.Flatten(input_shape=(64, 64, 1)),\n",
    "    layers.Dense(128, activation='relu'),\n",
    "    layers.Dense(64, activation='relu'),\n",
    "    layers.Dense(10, activation='softmax')  # Assuming 10 classes (digits 0-9)\n",
    "])\n",
    "\n",
    "# Compile the model\n",
    "model.compile(optimizer='adam',\n",
    "              loss='sparse_categorical_crossentropy',\n",
    "              metrics=['accuracy'])\n",
    "\n",
    "train_data, val_data, train_labels, val_labels = train_test_split(train_images, train_labels, test_size=0.15, random_state=42)\n",
    "\n",
    "# Train\n",
    "history = model.fit(train_data, train_labels, epochs=10, validation_data=(val_data, val_labels))\n",
    "\n",
    "# Evaluate the model on the test dataset\n",
    "test_loss, test_accuracy = model.evaluate(test_images, test_labels)\n",
    "print(f\"Test Accuracy: {test_accuracy}\")\n"
   ]
  },
  {
   "cell_type": "markdown",
   "id": "11305522-0ae6-4fe6-94df-6b0044df3761",
   "metadata": {},
   "source": [
    "## 5.2 Permuted MNIST"
   ]
  },
  {
   "cell_type": "markdown",
   "id": "4b8284a6-f3ce-46fc-9224-bd8b293e7bda",
   "metadata": {},
   "source": [
    "### 5.2.1 MLP on Permuted-MNIST"
   ]
  },
  {
   "cell_type": "code",
   "execution_count": 9,
   "id": "f5d3d9ed-c2d6-4326-849b-2344fc9ee090",
   "metadata": {},
   "outputs": [],
   "source": [
    "# MLP model class\n",
    "class MLP(nn.Module):\n",
    "    def __init__(self, input_size, hidden_layers, hidden_size, output_size):\n",
    "        super(MLP, self).__init__()\n",
    "        self.flatten = nn.Flatten()\n",
    "        self.hidden_layers = nn.ModuleList()\n",
    "        for _ in range(hidden_layers):\n",
    "            self.hidden_layers.append(nn.Linear(input_size, hidden_size))\n",
    "            input_size = hidden_size\n",
    "        self.output_layer = nn.Linear(input_size, output_size)\n",
    "    \n",
    "    def forward(self, x):\n",
    "        x = self.flatten(x)\n",
    "        for layer in self.hidden_layers:\n",
    "            x = nn.functional.relu(layer(x))\n",
    "        x = self.output_layer(x)\n",
    "        return x"
   ]
  },
  {
   "cell_type": "code",
   "execution_count": null,
   "id": "276ecd66-8590-486b-b57f-011fbd678f27",
   "metadata": {},
   "outputs": [],
   "source": [
    "# Hyperparameter tuning: Adjust the number of hidden layers and neurons\n",
    "best_model = None\n",
    "best_accuracy = 0.0\n",
    "\n",
    "hidden_layers_range = [1, 2, 3]  # Number of hidden layers\n",
    "neurons_per_layer_range = [64, 128, 256]  # Number of neurons in each hidden layer\n",
    "\n",
    "for hidden_layers in hidden_layers_range:\n",
    "    for neurons_per_layer in neurons_per_layer_range:\n",
    "        # Define and train the model\n",
    "        model = MLP(input_size=28 * 28, hidden_layers=hidden_layers, hidden_size=neurons_per_layer, output_size=10)\n",
    "        criterion = nn.CrossEntropyLoss()\n",
    "        optimizer = optim.Adam(model.parameters(), lr=0.001)\n",
    "        \n",
    "        x_train_tensor = torch.tensor(permuted_x_train, dtype=torch.float32)\n",
    "        y_train_tensor = torch.tensor(y_train, dtype=torch.int64)\n",
    "        x_val_tensor = torch.tensor(permuted_x_val, dtype=torch.float32)\n",
    "        y_val_tensor = torch.tensor(y_val, dtype=torch.int64)\n",
    "        \n",
    "        num_epochs = 10\n",
    "        for epoch in range(num_epochs):\n",
    "            model.train()\n",
    "            optimizer.zero_grad()\n",
    "            outputs = model(x_train_tensor)\n",
    "            loss = criterion(outputs, y_train_tensor)\n",
    "            loss.backward()\n",
    "            optimizer.step()\n",
    "\n",
    "        # Evaluate the model on the validation set\n",
    "        model.eval()\n",
    "        with torch.no_grad():\n",
    "            outputs = model(x_val_tensor)\n",
    "            _, predicted = torch.max(outputs, 1)\n",
    "            val_accuracy = (predicted == y_val_tensor).sum().item() / len(y_val_tensor)\n",
    "\n",
    "        if val_accuracy > best_accuracy:\n",
    "            best_model = model\n",
    "            best_accuracy = val_accuracy\n",
    "\n",
    "# Evaluate the best model on the test set\n",
    "x_test_tensor = torch.tensor(permuted_x_test, dtype=torch.float32)\n",
    "y_test_tensor = torch.tensor(y_test, dtype=torch.int64)"
   ]
  },
  {
   "cell_type": "code",
   "execution_count": null,
   "id": "f83e6e6f-9ff7-4197-bcbe-6bf3cb9feef5",
   "metadata": {},
   "outputs": [],
   "source": [
    "# Training and evaluation functions\n",
    "def train_and_evaluate(model, train_loader, val_loader, num_epochs=10, learning_rate=0.001):\n",
    "    criterion = nn.CrossEntropyLoss()\n",
    "    optimizer = optim.Adam(model.parameters(), lr=learning_rate)\n",
    "    \n",
    "    for epoch in range(num_epochs):\n",
    "        model.train()\n",
    "        for inputs, labels in train_loader:\n",
    "            optimizer.zero_grad()\n",
    "            outputs = model(inputs.unsqueeze(1))\n",
    "            loss = criterion(outputs, labels)\n",
    "            loss.backward()\n",
    "            optimizer.step()\n",
    "    \n",
    "    model.eval()\n",
    "    \n",
    "    correct_train, total_train = 0, 0\n",
    "    for inputs, labels in train_loader:\n",
    "        outputs = model(inputs.unsqueeze(1))\n",
    "        _, predicted = torch.max(outputs, 1)\n",
    "        total_train += labels.size(0)\n",
    "        correct_train += (predicted == labels).sum().item()\n",
    "\n",
    "    correct_val, total_val = 0, 0\n",
    "    for inputs, labels in val_loader:\n",
    "        outputs = model(inputs.unsqueeze(1))\n",
    "        _, predicted = torch.max(outputs, 1)\n",
    "        total_val += labels.size(0)\n",
    "        correct_val += (predicted == labels).sum().item()\n",
    "\n",
    "    train_accuracy = 100 * correct_train / total_train\n",
    "    val_accuracy = 100 * correct_val / total_val\n",
    "\n",
    "    return train_accuracy, val_accuracy\n",
    "\n",
    "# Test accuracy function\n",
    "def test_accuracy(model, test_loader):\n",
    "    model.eval()\n",
    "    correct, total = 0, 0\n",
    "    with torch.no_grad():\n",
    "        for inputs, labels in test_loader:\n",
    "            outputs = model(inputs.unsqueeze(1))\n",
    "            _, predicted = torch.max(outputs, 1)\n",
    "            total += labels.size(0)\n",
    "            correct += (predicted == labels).sum().item()\n",
    "    accuracy = 100 * correct / total\n",
    "    return accuracy"
   ]
  },
  {
   "cell_type": "code",
   "execution_count": 13,
   "id": "46c5564f-d64d-4373-a15c-b71f6c88ada7",
   "metadata": {},
   "outputs": [
    {
     "name": "stdout",
     "output_type": "stream",
     "text": [
      "Train Accuracy: 99.50%\n",
      "Validation Accuracy: 97.78%\n",
      "Test Accuracy: 97.65%\n"
     ]
    }
   ],
   "source": [
    "mlp_model = MLP(input_size=28 * 28, hidden_layers=2, hidden_size=128, output_size=10)\n",
    "mlp_train_accuracy, mlp_val_accuracy = train_and_evaluate(mlp_model, train_loader, val_loader)\n",
    "mlp_test_accuracy = test_accuracy(mlp_model, test_loader)\n",
    "\n",
    "# Results\n",
    "print(\"Train Accuracy: {:.2f}%\".format(mlp_train_accuracy))\n",
    "print(\"Validation Accuracy: {:.2f}%\".format(mlp_val_accuracy))\n",
    "print(\"Test Accuracy: {:.2f}%\".format(mlp_test_accuracy))\n"
   ]
  },
  {
   "cell_type": "markdown",
   "id": "c9757abc-2648-491b-9c23-545a22f9a331",
   "metadata": {},
   "source": [
    "### 5.2.2 CNN on Permuted-MNIST"
   ]
  },
  {
   "cell_type": "code",
   "execution_count": 8,
   "id": "ea46fd63-397c-4ba2-b649-41280356d203",
   "metadata": {},
   "outputs": [],
   "source": [
    "# CNN model\n",
    "class CNN(nn.Module):\n",
    "    def __init__(self, num_classes, dropout_prob):\n",
    "        super(CNN, self).__init__()\n",
    "        self.conv1 = nn.Conv2d(1, 32, kernel_size=3)\n",
    "        self.conv2 = nn.Conv2d(32, 64, kernel_size=3)\n",
    "        self.fc1 = nn.Linear(64 * 5 * 5, 128)\n",
    "        self.fc2 = nn.Linear(128, num_classes)\n",
    "        self.dropout = nn.Dropout(dropout_prob)\n",
    "\n",
    "    def forward(self, x):\n",
    "        x = nn.functional.relu(nn.functional.max_pool2d(self.conv1(x), 2))\n",
    "        x = nn.functional.relu(nn.functional.max_pool2d(self.conv2(x), 2))\n",
    "        x = x.view(-1, 64 * 5 * 5)\n",
    "        x = self.dropout(x)\n",
    "        x = nn.functional.relu(self.fc1(x))\n",
    "        x = self.fc2(x)\n",
    "        return x"
   ]
  },
  {
   "cell_type": "code",
   "execution_count": null,
   "id": "be520b75-4e28-416a-8acc-5b94b13eac87",
   "metadata": {},
   "outputs": [],
   "source": [
    "# Hyperparameters\n",
    "learning_rate = 0.001\n",
    "num_epochs = 10\n",
    "batch_size = 64\n",
    "dropout_prob = 0.5\n",
    "\n",
    "# Convert NumPy arrays to PyTorch tensors\n",
    "x_train_tensor = torch.tensor(permuted_x_train, dtype=torch.float32)\n",
    "y_train_tensor = torch.tensor(y_train, dtype=torch.int64)\n",
    "x_val_tensor = torch.tensor(permuted_x_val, dtype=torch.float32)\n",
    "y_val_tensor = torch.tensor(y_val, dtype=torch.int64)\n",
    "x_test_tensor = torch.tensor(permuted_x_test, dtype=torch.float32)\n",
    "y_test_tensor = torch.tensor(y_test, dtype=torch.int64)\n",
    "\n",
    "# Create data loaders\n",
    "train_data = TensorDataset(x_train_tensor, y_train_tensor)\n",
    "val_data = TensorDataset(x_val_tensor, y_val_tensor)\n",
    "test_data = TensorDataset(x_test_tensor, y_test_tensor)\n",
    "\n",
    "train_loader = DataLoader(train_data, batch_size=batch_size, shuffle=True)\n",
    "val_loader = DataLoader(val_data, batch_size=batch_size)\n",
    "test_loader = DataLoader(test_data, batch_size=batch_size)\n",
    "\n",
    "# Initialize the CNN model\n",
    "model = CNN(num_classes=10, dropout_prob=dropout_prob)\n",
    "\n",
    "# Defining loss function and optimizer\n",
    "criterion = nn.CrossEntropyLoss()\n",
    "optimizer = optim.Adam(model.parameters(), lr=learning_rate)\n",
    "\n",
    "# Training \n",
    "for epoch in range(num_epochs):\n",
    "    model.train()\n",
    "    for inputs, labels in train_loader:\n",
    "        optimizer.zero_grad()\n",
    "        outputs = model(inputs.unsqueeze(1))  # Add the channel dimension\n",
    "        loss = criterion(outputs, labels)\n",
    "        loss.backward()\n",
    "        optimizer.step()"
   ]
  },
  {
   "cell_type": "code",
   "execution_count": 9,
   "id": "63767ab1-6a2a-46b5-a2b3-8143e99cf7ef",
   "metadata": {},
   "outputs": [
    {
     "name": "stdout",
     "output_type": "stream",
     "text": [
      "Train Accuracy: 0.99\n",
      "Validation Accuracy: 0.97\n",
      "Test Accuracy: 0.97\n"
     ]
    }
   ],
   "source": [
    "\n",
    "# Evaluation\n",
    "model.eval()\n",
    "correct_train, total_train = 0, 0\n",
    "for inputs, labels in train_loader:\n",
    "    outputs = model(inputs.unsqueeze(1))\n",
    "    _, predicted = torch.max(outputs, 1)\n",
    "    total_train += labels.size(0)\n",
    "    correct_train += (predicted == labels).sum().item()\n",
    "\n",
    "correct_val, total_val = 0, 0\n",
    "for inputs, labels in val_loader:\n",
    "    outputs = model(inputs.unsqueeze(1))\n",
    "    _, predicted = torch.max(outputs, 1)\n",
    "    total_val += labels.size(0)\n",
    "    correct_val += (predicted == labels).sum().item()\n",
    "\n",
    "correct_test, total_test = 0, 0\n",
    "for inputs, labels in test_loader:\n",
    "    outputs = model(inputs.unsqueeze(1))\n",
    "    _, predicted = torch.max(outputs, 1)\n",
    "    total_test += labels.size(0)\n",
    "    correct_test += (predicted == labels).sum().item()\n",
    "\n",
    "train_accuracy = correct_train / total_train\n",
    "val_accuracy = correct_val / total_val\n",
    "test_accuracy = correct_test / total_test\n",
    "\n",
    "print(f\"Train Accuracy: {train_accuracy:.2f}\")\n",
    "print(f\"Validation Accuracy: {val_accuracy:.2f}\")\n",
    "print(f\"Test Accuracy: {test_accuracy:.2f}\")\n"
   ]
  },
  {
   "cell_type": "markdown",
   "id": "bc75e7a3-7e7d-4ec3-ba76-2cb865c9f919",
   "metadata": {},
   "source": [
    "### 5.3 Analysis"
   ]
  },
  {
   "cell_type": "code",
   "execution_count": 12,
   "id": "bb27b50a-66bd-4103-93f4-e6871809f32d",
   "metadata": {},
   "outputs": [
    {
     "name": "stdout",
     "output_type": "stream",
     "text": [
      "MLP Model Train Accuracy: 99.54%\n",
      "MLP Model Validation Accuracy: 97.86%\n",
      "MLP Model Test Accuracy: 97.75%\n",
      "CNN Model Train Accuracy: 98.60%\n",
      "CNN Model Validation Accuracy: 97.12%\n",
      "CNN Model Test Accuracy: 97.19%\n"
     ]
    }
   ],
   "source": [
    "mlp_model = MLP(input_size=28 * 28, hidden_layers=2, hidden_size=128, output_size=10)\n",
    "cnn_model = CNN(num_classes=10, dropout_prob=0.5)\n",
    "\n",
    "# MLP\n",
    "mlp_train_accuracy, mlp_val_accuracy = train_and_evaluate(mlp_model, train_loader, val_loader)\n",
    "\n",
    "# CNN\n",
    "cnn_train_accuracy, cnn_val_accuracy = train_and_evaluate(cnn_model, train_loader, val_loader)\n",
    "\n",
    "# Evaluate on test set\n",
    "mlp_test_accuracy = test_accuracy(mlp_model, test_loader)\n",
    "cnn_test_accuracy = test_accuracy(cnn_model, test_loader)\n",
    "\n",
    "# Results\n",
    "print(\"MLP Model Train Accuracy: {:.2f}%\".format(mlp_train_accuracy))\n",
    "print(\"MLP Model Validation Accuracy: {:.2f}%\".format(mlp_val_accuracy))\n",
    "print(\"MLP Model Test Accuracy: {:.2f}%\".format(mlp_test_accuracy))\n",
    "print(\"CNN Model Train Accuracy: {:.2f}%\".format(cnn_train_accuracy))\n",
    "print(\"CNN Model Validation Accuracy: {:.2f}%\".format(cnn_val_accuracy))\n",
    "print(\"CNN Model Test Accuracy: {:.2f}%\".format(cnn_test_accuracy))\n"
   ]
  }
 ],
 "metadata": {
  "kernelspec": {
   "display_name": "Python 3 (ipykernel)",
   "language": "python",
   "name": "python3"
  },
  "language_info": {
   "codemirror_mode": {
    "name": "ipython",
    "version": 3
   },
   "file_extension": ".py",
   "mimetype": "text/x-python",
   "name": "python",
   "nbconvert_exporter": "python",
   "pygments_lexer": "ipython3",
   "version": "3.8.10"
  }
 },
 "nbformat": 4,
 "nbformat_minor": 5
}
